{
 "cells": [
  {
   "cell_type": "markdown",
   "id": "c4ce4365",
   "metadata": {},
   "source": [
    "Constructor:"
   ]
  },
  {
   "cell_type": "markdown",
   "id": "d4481cc9",
   "metadata": {},
   "source": [
    "1. What is a constructor in Python? Explain its purpose and usage."
   ]
  },
  {
   "cell_type": "raw",
   "id": "8082e137",
   "metadata": {},
   "source": [
    "\n",
    "In Python, a constructor is a special method within a class that gets called automatically when you create an instance (object) of that class. The purpose of a constructor is to initialize the attributes (variables) of the object to some default or user-defined values.\n",
    "\n",
    "The constructor method in Python is named __init__() and it is used to set up the initial state of an object by defining its attributes. "
   ]
  },
  {
   "cell_type": "code",
   "execution_count": 1,
   "id": "45e836f0",
   "metadata": {},
   "outputs": [],
   "source": [
    "class Person:\n",
    "    def __init__(self, name, age):\n",
    "        self.name = name\n",
    "        self.age = age\n",
    "\n",
    "# Creating an instance of the Person class\n",
    "person1 = Person(\"Alice\", 30)\n"
   ]
  },
  {
   "cell_type": "raw",
   "id": "65611f50",
   "metadata": {},
   "source": [
    "In this example, __init__() is the constructor method of the Person class. When person1 is created, the __init__() method is automatically called with the arguments \"Alice\" and 30. Inside __init__(), self.name and self.age are attributes of the Person class assigned with the provided values.\n",
    "\n",
    "Constructors can perform various tasks like initializing variables, setting default values, or performing any setup required before the object is ready for use. They ensure that newly created objects have the necessary attributes initialized according to the specified parameters."
   ]
  },
  {
   "cell_type": "markdown",
   "id": "180870ab",
   "metadata": {},
   "source": [
    "2. Differentiate between a parameterless constructor and a parameterized constructor in Python."
   ]
  },
  {
   "cell_type": "raw",
   "id": "d24e50d2",
   "metadata": {},
   "source": [
    "constructors are typically associated with the __init__() method within a class. The differentiation between a parameterless constructor and a parameterized constructor lies in the presence or absence of parameters within the __init__() method."
   ]
  },
  {
   "cell_type": "markdown",
   "id": "b027090e",
   "metadata": {},
   "source": [
    "Parameterless Constructor:\n",
    "\n",
    "A parameterless constructor, as the name suggests, doesn't take any parameters besides the obligatory self.\n",
    "It initializes the object with default values or performs setup operations without requiring any external inputs."
   ]
  },
  {
   "cell_type": "code",
   "execution_count": 2,
   "id": "021fa107",
   "metadata": {},
   "outputs": [],
   "source": [
    "class ParameterlessConstructor:\n",
    "    def __init__(self):\n",
    "        self.default_value = 0\n"
   ]
  },
  {
   "cell_type": "code",
   "execution_count": 4,
   "id": "a7f87329",
   "metadata": {},
   "outputs": [],
   "source": [
    "obj = ParameterlessConstructor()\n"
   ]
  },
  {
   "cell_type": "raw",
   "id": "a738088a",
   "metadata": {},
   "source": [
    "Parameterized Constructor:\n",
    "\n",
    "A parameterized constructor, on the other hand, accepts parameters other than self to initialize the object with specific values.\n",
    "It allows the class to be initialized with user-defined values provided during object creation."
   ]
  },
  {
   "cell_type": "code",
   "execution_count": 5,
   "id": "6710d6d4",
   "metadata": {},
   "outputs": [],
   "source": [
    "class ParameterizedConstructor:\n",
    "    def __init__(self, value):\n",
    "        self.custom_value = value\n"
   ]
  },
  {
   "cell_type": "code",
   "execution_count": 6,
   "id": "1d341ba0",
   "metadata": {},
   "outputs": [],
   "source": [
    "obj = ParameterizedConstructor(42)\n"
   ]
  },
  {
   "cell_type": "markdown",
   "id": "be597d4f",
   "metadata": {},
   "source": [
    "3. How do you define a constructor in a Python class? Provide an example."
   ]
  },
  {
   "cell_type": "raw",
   "id": "347900a5",
   "metadata": {},
   "source": [
    "constructor within a class using a special method called __init__(). This method is automatically called when an instance of the class is created. Here's an example demonstrating how to define a constructor in a Python class:"
   ]
  },
  {
   "cell_type": "code",
   "execution_count": 7,
   "id": "3ca4fdad",
   "metadata": {},
   "outputs": [
    {
     "name": "stdout",
     "output_type": "stream",
     "text": [
      "Attribute 1: value1\n",
      "Attribute 2: 42\n"
     ]
    }
   ],
   "source": [
    "class MyClass:\n",
    "    def __init__(self, param1, param2):\n",
    "        self.attribute1 = param1\n",
    "        self.attribute2 = param2\n",
    "\n",
    "    def display_attributes(self):\n",
    "        print(f\"Attribute 1: {self.attribute1}\")\n",
    "        print(f\"Attribute 2: {self.attribute2}\")\n",
    "\n",
    "# Creating an instance of the class using the constructor\n",
    "obj = MyClass(\"value1\", 42)\n",
    "\n",
    "# Accessing attributes and using a method of the class\n",
    "obj.display_attributes()\n"
   ]
  },
  {
   "cell_type": "raw",
   "id": "8fc91ced",
   "metadata": {},
   "source": [
    "MyClass contains the __init__() method, which serves as the constructor.\n",
    "The constructor takes in two parameters (param1 and param2) and initializes the object's attributes (attribute1 and attribute2) with the provided values.\n",
    "When an object (obj) is created using MyClass(\"value1\", 42), the __init__() method is automatically invoked with the arguments \"value1\" and 42.\n",
    "The attributes (attribute1 and attribute2) are set accordingly, and the display_attributes() method is used to print these attribute values for the object obj."
   ]
  },
  {
   "cell_type": "markdown",
   "id": "1856d5d9",
   "metadata": {},
   "source": [
    "4. Explain the `__init__` method in Python and its role in constructors."
   ]
  },
  {
   "cell_type": "raw",
   "id": "c2719e44",
   "metadata": {},
   "source": [
    "__init__() method is a special method that serves as a constructor within a class. It is automatically called when you create an instance (object) of that class. The primary role of __init__() is to initialize the attributes (variables) of the object to certain values, either default values or those provided during object creation.\n",
    "\n",
    "Key aspects of the __init__() method in Python:\n",
    "\n",
    "Constructor Role: The __init__() method is responsible for initializing the object's state by setting up its attributes. It's the first method called when you create an instance of a class.\n",
    "\n",
    "Automatic Invocation: When an object of a class is created, Python automatically invokes the __init__() method, passing the arguments provided during the object creation (except for self, which refers to the instance itself).\n",
    "\n",
    "Initialization of Attributes: Inside __init__(), you typically assign values to object attributes using self.attribute_name = value. This initializes these attributes for the object being created.\n",
    "\n",
    "Optional Parameters: The __init__() method can accept multiple parameters, allowing you to provide initial values to set up the object's state based on the arguments passed during instantiation."
   ]
  },
  {
   "cell_type": "code",
   "execution_count": 8,
   "id": "644cd37c",
   "metadata": {},
   "outputs": [],
   "source": [
    "class Person:\n",
    "    def __init__(self, name, age):\n",
    "        self.name = name\n",
    "        self.age = age\n",
    "\n",
    "# Creating an instance of the Person class\n",
    "person1 = Person(\"Alice\", 30)\n"
   ]
  },
  {
   "cell_type": "raw",
   "id": "e9f622c2",
   "metadata": {},
   "source": [
    "__init__() is the constructor method for the Person class.\n",
    "It takes two parameters (name and age) along with self.\n",
    "When person1 is created, the __init__() method is automatically called with the arguments \"Alice\" and 30.\n",
    "Inside __init__(), self.name and self.age are attributes of the Person class initialized with the provided values.\n",
    "Overall, the __init__() method in Python classes is crucial for setting up object attributes and ensuring that objects are initialized correctly when they're created."
   ]
  },
  {
   "cell_type": "markdown",
   "id": "5bfbf99d",
   "metadata": {},
   "source": [
    "5.In a class named `Person`, create a constructor that initializes the `name` and `age` attributes. Provide an\n",
    "example of creating an object of this class."
   ]
  },
  {
   "cell_type": "code",
   "execution_count": 9,
   "id": "58876d61",
   "metadata": {},
   "outputs": [
    {
     "name": "stdout",
     "output_type": "stream",
     "text": [
      "Name: Alice\n",
      "Age: 30\n"
     ]
    }
   ],
   "source": [
    "class Person:\n",
    "    def __init__(self, name, age):\n",
    "        self.name = name\n",
    "        self.age = age\n",
    "\n",
    "# Creating an object of the Person class using the constructor\n",
    "person1 = Person(\"Alice\", 30)\n",
    "\n",
    "# Accessing attributes of the created object\n",
    "print(f\"Name: {person1.name}\")\n",
    "print(f\"Age: {person1.age}\")\n"
   ]
  },
  {
   "cell_type": "raw",
   "id": "3e1d5d48",
   "metadata": {},
   "source": [
    "The Person class has a constructor (__init__() method) that takes name and age as parameters and initializes the object's attributes accordingly using self.name and self.age.\n",
    "person1 is an object created from the Person class, passing \"Alice\" as the name and 30 as the age.\n",
    "The print statements access and display the attributes (name and age) of the person1 object.\n",
    "This demonstrates how the constructor sets up the initial state of objects when they are created from the Person class."
   ]
  },
  {
   "cell_type": "markdown",
   "id": "d584613f",
   "metadata": {},
   "source": [
    "6. How can you call a constructor explicitly in Python? Give an example."
   ]
  },
  {
   "cell_type": "markdown",
   "id": "d0487c1d",
   "metadata": {},
   "source": [
    "constructor (__init__() method) is typically called automatically when you create an instance of a class. However, you can call it explicitly, but it's not a common practice and might lead to unexpected behavior or errors if not handled carefully.\n",
    "\n",
    "To call a constructor explicitly, you'd use the class name and explicitly pass an instance of the class "
   ]
  },
  {
   "cell_type": "code",
   "execution_count": 10,
   "id": "5dcef855",
   "metadata": {},
   "outputs": [
    {
     "name": "stdout",
     "output_type": "stream",
     "text": [
      "Name: Alice, Age: 30\n",
      "Name: Bob, Age: 25\n"
     ]
    }
   ],
   "source": [
    "class Person:\n",
    "    def __init__(self, name, age):\n",
    "        self.name = name\n",
    "        self.age = age\n",
    "\n",
    "    def display_info(self):\n",
    "        print(f\"Name: {self.name}, Age: {self.age}\")\n",
    "\n",
    "# Creating an instance without calling the constructor explicitly\n",
    "person1 = Person(\"Alice\", 30)\n",
    "person1.display_info()\n",
    "\n",
    "# Calling the constructor explicitly\n",
    "person2 = Person.__init__(person1, \"Bob\", 25)  # Avoid doing this - uncommon practice\n",
    "\n",
    "# Displaying information after calling the constructor explicitly\n",
    "person1.display_info()  # Note: This modifies person1, not person2\n"
   ]
  },
  {
   "cell_type": "markdown",
   "id": "fa715fcc",
   "metadata": {},
   "source": [
    "Initially, person1 is created with \"Alice\" as the name and 30 as the age using the standard object instantiation method.\n",
    "To call the constructor explicitly, we use Person.__init__(person1, \"Bob\", 25). Here, we pass person1 explicitly as self along with new values for name and age.\n",
    "This call modifies the attributes of person1 because the constructor modifies the attributes of the instance provided (person1 in this case).\n",
    "Explicitly calling the constructor in this way can be confusing and is generally not recommended because:\n",
    "\n",
    "It modifies an existing object, potentially leading to unexpected behavior.\n",
    "It may not initialize the object correctly, especially if the object is already in use or contains essential information.\n",
    "The standard and recommended way to initialize an object is by creating a new instance using the class name and letting the constructor (__init__() method) handle the initialization automatically."
   ]
  },
  {
   "cell_type": "markdown",
   "id": "f18db12b",
   "metadata": {},
   "source": [
    "7. What is the significance of the `self` parameter in Python constructors? Explain with an example."
   ]
  },
  {
   "cell_type": "raw",
   "id": "5391e90b",
   "metadata": {},
   "source": [
    "self parameter in constructors (and all instance methods) refers to the instance of the class itself. It's a convention used to access and manipulate the instance attributes and methods within the class.\n",
    "\n",
    "When defining a method in a class, including the constructor (__init__()), the first parameter should always be self. This parameter is implicitly passed to the method when it's called, allowing the method to access and modify the attributes and methods specific to that instance"
   ]
  },
  {
   "cell_type": "code",
   "execution_count": 11,
   "id": "422aaebc",
   "metadata": {},
   "outputs": [
    {
     "name": "stdout",
     "output_type": "stream",
     "text": [
      "Name: Alice, Age: 30\n",
      "Name: Bob, Age: 25\n"
     ]
    }
   ],
   "source": [
    "class Person:\n",
    "    def __init__(self, name, age):\n",
    "        self.name = name  # Assigning the 'name' argument to the 'name' attribute of the instance\n",
    "        self.age = age    # Assigning the 'age' argument to the 'age' attribute of the instance\n",
    "\n",
    "    def display_info(self):\n",
    "        print(f\"Name: {self.name}, Age: {self.age}\")\n",
    "\n",
    "# Creating instances of the Person class\n",
    "person1 = Person(\"Alice\", 30)\n",
    "person2 = Person(\"Bob\", 25)\n",
    "\n",
    "# Accessing instance attributes using 'self'\n",
    "person1.display_info()  # Output: Name: Alice, Age: 30\n",
    "person2.display_info()  # Output: Name: Bob, Age: 25\n"
   ]
  },
  {
   "cell_type": "raw",
   "id": "46bcf7d2",
   "metadata": {},
   "source": [
    "The Person class has a constructor (__init__() method) that takes name and age as parameters, and self implicitly refers to the instances (person1, person2) created from this class.\n",
    "Inside the constructor, self.name and self.age assign the provided name and age values to the attributes of the respective instances.\n",
    "The display_info() method uses self.name and self.age to access the attributes specific to each instance and displays their information.\n",
    "In summary, self is crucial in Python class methods, including constructors, as it allows you to work with instance-specific data and methods within the class. It refers to the instance itself, enabling attribute assignments, method calls, and access to instance-specific data."
   ]
  },
  {
   "cell_type": "markdown",
   "id": "5e56037f",
   "metadata": {},
   "source": [
    "8. Discuss the concept of default constructors in Python. When are they used?"
   ]
  },
  {
   "cell_type": "markdown",
   "id": "41a0b88d",
   "metadata": {},
   "source": [
    "concept of default constructors typically refers to the implicit constructor provided by the language when a class doesn't explicitly define its own constructor (__init__() method). This implicit constructor is what gets called when you create an instance of a class without any parameters.\n",
    "\n",
    "If a class doesn't have its own __init__() method defined, Python automatically provides a default constructor that doesn't perform any specific initialization of attributes. It's essentially an empty constructor that doesn't take any parameters other than self"
   ]
  },
  {
   "cell_type": "code",
   "execution_count": 12,
   "id": "3d256a0c",
   "metadata": {},
   "outputs": [],
   "source": [
    "class MyClass:\n",
    "    pass  # No explicit __init__ method defined\n",
    "\n",
    "# Creating an object of the class without any explicit constructor\n",
    "obj = MyClass()\n"
   ]
  },
  {
   "cell_type": "markdown",
   "id": "aaa9f306",
   "metadata": {},
   "source": [
    "The MyClass doesn't define its own __init__() method, so Python provides a default constructor implicitly.\n",
    "When obj is created without passing any arguments, the default constructor is called, but since it's not explicitly defined, it doesn't perform any attribute initialization.\n",
    "Default constructors are used implicitly in cases where a class doesn't define its own constructor. They serve the purpose of allowing object creation without any specific initialization logic. However, they don't explicitly set up any instance attributes, leaving them empty unless attributes are initialized elsewhere in the class.\n",
    "\n",
    "It's important to note that while Python provides a default constructor when one isn't defined, it's common and good practice to explicitly define an __init__() method in classes to initialize attributes and ensure proper object setup. This explicit definition allows for more controlled initialization of objects and makes the code more readable and predictable."
   ]
  },
  {
   "cell_type": "markdown",
   "id": "4ff8ba30",
   "metadata": {},
   "source": [
    "9. Create a Python class called `Rectangle` with a constructor that initializes the `width` and `height`\n",
    "attributes. Provide a method to calculate the area of the rectangle."
   ]
  },
  {
   "cell_type": "code",
   "execution_count": 13,
   "id": "e274dc69",
   "metadata": {},
   "outputs": [
    {
     "name": "stdout",
     "output_type": "stream",
     "text": [
      "The area of the rectangle is: 40\n"
     ]
    }
   ],
   "source": [
    "class Rectangle:\n",
    "    def __init__(self, width, height):\n",
    "        self.width = width\n",
    "        self.height = height\n",
    "\n",
    "    def calculate_area(self):\n",
    "        return self.width * self.height\n",
    "\n",
    "# Creating an instance of the Rectangle class\n",
    "rectangle = Rectangle(5, 8)\n",
    "\n",
    "# Calculating and printing the area of the rectangle\n",
    "area = rectangle.calculate_area()\n",
    "print(f\"The area of the rectangle is: {area}\")\n"
   ]
  },
  {
   "cell_type": "markdown",
   "id": "f88d4bd9",
   "metadata": {},
   "source": [
    "The Rectangle class has a constructor (__init__() method) that takes width and height as parameters and initializes the instance attributes self.width and self.height with the provided values.\n",
    "The calculate_area() method calculates the area of the rectangle by multiplying its width and height.\n",
    "An instance of the Rectangle class (rectangle) is created with a width of 5 and a height of 8.\n",
    "The calculate_area() method is then called on the rectangle object to calculate the area, which is then printed."
   ]
  },
  {
   "cell_type": "markdown",
   "id": "b56f8ead",
   "metadata": {},
   "source": [
    "10. How can you have multiple constructors in a Python class? Explain with an example."
   ]
  },
  {
   "cell_type": "raw",
   "id": "af253753",
   "metadata": {},
   "source": [
    "You can define a single constructor (__init__() method) in a way that it can handle different sets of parameters by providing default values for some parameters."
   ]
  },
  {
   "cell_type": "code",
   "execution_count": 14,
   "id": "488a5b09",
   "metadata": {},
   "outputs": [
    {
     "name": "stdout",
     "output_type": "stream",
     "text": [
      "1 1\n",
      "5 8\n"
     ]
    }
   ],
   "source": [
    "class Rectangle:\n",
    "    def __init__(self, width=None, height=None):\n",
    "        if width is not None and height is not None:\n",
    "            self.width = width\n",
    "            self.height = height\n",
    "        else:\n",
    "            self.width = 1\n",
    "            self.height = 1\n",
    "\n",
    "# Creating instances using different constructors\n",
    "rectangle1 = Rectangle()               # Uses default width and height\n",
    "rectangle2 = Rectangle(5, 8)           # Specifies width and height\n",
    "\n",
    "print(rectangle1.width, rectangle1.height)  # Output: 1 1\n",
    "print(rectangle2.width, rectangle2.height)  # Output: 5 8\n"
   ]
  },
  {
   "cell_type": "raw",
   "id": "4c323d01",
   "metadata": {},
   "source": [
    "You can also create class methods that act as alternative constructors. These methods create instances of the class using different parameter sets and return initialized instances."
   ]
  },
  {
   "cell_type": "code",
   "execution_count": 15,
   "id": "a64f5e44",
   "metadata": {},
   "outputs": [
    {
     "name": "stdout",
     "output_type": "stream",
     "text": [
      "4 4\n"
     ]
    }
   ],
   "source": [
    "class Rectangle:\n",
    "    def __init__(self, width, height):\n",
    "        self.width = width\n",
    "        self.height = height\n",
    "\n",
    "    @classmethod\n",
    "    def from_square(cls, side_length):\n",
    "        return cls(side_length, side_length)\n",
    "\n",
    "# Using alternative constructor method\n",
    "square = Rectangle.from_square(4)\n",
    "print(square.width, square.height)  # Output: 4 4\n"
   ]
  },
  {
   "cell_type": "markdown",
   "id": "ecddcf6f",
   "metadata": {},
   "source": [
    "11. What is method overloading, and how is it related to constructors in Python?"
   ]
  },
  {
   "cell_type": "raw",
   "id": "f20fbc5d",
   "metadata": {},
   "source": [
    "\n",
    "Method overloading refers to the ability to define multiple methods within a class that share the same name but differ in the number or types of their parameters. In many programming languages, such as Java or C++, method overloading allows developers to define methods with the same name but varying parameter lists, providing flexibility and convenience when working with different types or numbers of arguments.\n",
    "\n",
    "However, in Python, method overloading, as traditionally understood in languages like Java or C++, doesn't exist in the same explicit way. Python doesn't support method overloading in the same manner, where you can define multiple methods with the same name and different parameter signatures.\n",
    "\n",
    "In Python, methods with the same name will simply overwrite each other. Only the latest defined method with that name will be used.\n",
    "\n",
    "Related to Constructors:\n",
    "Constructors are special methods (__init__() in Python) used to initialize objects of a class. In some programming languages that support method overloading, constructors can be overloaded to create instances using different sets of parameters.\n",
    "\n",
    "However, in Python, you can't have multiple constructors with different parameter lists in the traditional sense. Instead, you can use default parameter values or alternative constructor methods (as shown in the previous example) to achieve a similar effect of having multiple ways to initialize objects within a class.\n",
    "\n",
    "For instance, using default parameter values in the constructor allows you to initialize objects with different sets of parameters. This isn't method overloading in the traditional sense but provides a way to handle varying parameter scenarios within a single constructor.\n",
    "\n",
    "So, while Python doesn't directly support method overloading in the way some other languages do, you can simulate some of its functionality using default parameter values or alternative constructor methods to achieve similar results when initializing objects within a class."
   ]
  },
  {
   "cell_type": "markdown",
   "id": "51709363",
   "metadata": {},
   "source": [
    "12. Explain the use of the `super()` function in Python constructors. Provide an example."
   ]
  },
  {
   "cell_type": "code",
   "execution_count": 16,
   "id": "cc1ace0e",
   "metadata": {},
   "outputs": [
    {
     "name": "stdout",
     "output_type": "stream",
     "text": [
      "Parent constructor called\n",
      "Child constructor called\n",
      "Parent attribute: Parent Value\n",
      "Child attribute: Child Value\n"
     ]
    }
   ],
   "source": [
    "class Parent:\n",
    "    def __init__(self, parent_attr):\n",
    "        self.parent_attr = parent_attr\n",
    "        print(\"Parent constructor called\")\n",
    "\n",
    "class Child(Parent):\n",
    "    def __init__(self, parent_attr, child_attr):\n",
    "        super().__init__(parent_attr)  # Calling the parent class constructor\n",
    "        self.child_attr = child_attr\n",
    "        print(\"Child constructor called\")\n",
    "\n",
    "    def display_attributes(self):\n",
    "        print(f\"Parent attribute: {self.parent_attr}\")\n",
    "        print(f\"Child attribute: {self.child_attr}\")\n",
    "\n",
    "# Creating an instance of the Child class\n",
    "child_obj = Child(\"Parent Value\", \"Child Value\")\n",
    "\n",
    "# Accessing attributes and displaying using a method of the class\n",
    "child_obj.display_attributes()\n"
   ]
  },
  {
   "cell_type": "markdown",
   "id": "07d7fa57",
   "metadata": {},
   "source": [
    "Explanation:\n",
    "\n",
    "Parent is a base class with its own constructor (__init__() method) that initializes parent_attr.\n",
    "Child is a subclass of Parent that also has its own constructor. Inside Child's constructor, super().__init__(parent_attr) is used to call the constructor of the Parent class, passing the parent_attr argument.\n",
    "Child's constructor initializes its own attribute child_attr.\n",
    "display_attributes() is a method in the Child class that displays both parent and child attributes.\n",
    "When Child(\"Parent Value\", \"Child Value\") is created:\n",
    "\n",
    "The Child constructor is called, which in turn invokes the Parent class's constructor using super().__init__(parent_attr).\n",
    "Both the parent and child attributes are initialized.\n",
    "Finally, display_attributes() method displays both the parent and child attributes of the child_obj."
   ]
  },
  {
   "cell_type": "markdown",
   "id": "8872222f",
   "metadata": {},
   "source": [
    "13. Create a class called `Book` with a constructor that initializes the `title`, `author`, and `published_year`\n",
    "attributes. Provide a method to display book details."
   ]
  },
  {
   "cell_type": "code",
   "execution_count": 18,
   "id": "d3989297",
   "metadata": {},
   "outputs": [
    {
     "name": "stdout",
     "output_type": "stream",
     "text": [
      "Title: Python Programming\n",
      "Author: Saicharan\n",
      "Published Year: 2020\n"
     ]
    }
   ],
   "source": [
    "class Book:\n",
    "    def __init__(self, title, author, published_year):\n",
    "        self.title = title\n",
    "        self.author = author\n",
    "        self.published_year = published_year\n",
    "\n",
    "    def display_details(self):\n",
    "        print(f\"Title: {self.title}\")\n",
    "        print(f\"Author: {self.author}\")\n",
    "        print(f\"Published Year: {self.published_year}\")\n",
    "\n",
    "# Creating an instance of the Book class\n",
    "book1 = Book(\"Python Programming\", \"Saicharan\", 2020)\n",
    "\n",
    "# Displaying book details using the method\n",
    "book1.display_details()\n"
   ]
  },
  {
   "cell_type": "markdown",
   "id": "3067f189",
   "metadata": {},
   "source": [
    "14. Discuss the differences between constructors and regular methods in Python classes."
   ]
  },
  {
   "cell_type": "raw",
   "id": "7d55ccd5",
   "metadata": {},
   "source": [
    "Constructors (__init__() method):\n",
    "Initialization: Constructors are special methods (__init__()) that get called automatically when an object of a class is created. They initialize the object's attributes.\n",
    "\n",
    "Invocation: Constructors are invoked implicitly when an object is instantiated using the class name. They execute only once per object creation.\n",
    "\n",
    "Purpose: Their primary purpose is to set up initial values for object attributes and perform any necessary setup for newly created objects.\n",
    "\n",
    "Naming: In Python, constructors are named __init__() and always require self as the first parameter, referring to the instance itself.\n",
    "\n",
    "Regular Methods:\n",
    "Usage: Regular methods in classes perform specific actions or tasks and can be called explicitly on objects after they have been instantiated.\n",
    "\n",
    "Invocation: They are called explicitly using the object instance, and they can be called multiple times on the same object or different objects of the same class.\n",
    "\n",
    "Purpose: Regular methods are used to perform various operations or actions on the object's attributes or to provide functionality that interacts with the object's state.\n",
    "\n",
    "Naming: Regular methods have names defined by the programmer and can accept various parameters besides self, depending on the functionality they provide.\n",
    "\n",
    "Summary of Differences:\n",
    "Constructors are automatically called during object creation and are primarily used for initializing object attributes.\n",
    "Regular methods perform specific actions or provide functionality that can be called multiple times after object instantiation.\n",
    "Constructors are named __init__() and are special in the sense that they initialize the object state.\n",
    "Regular methods are explicitly called on object instances and can have various names and functionalities beyond initialization."
   ]
  },
  {
   "cell_type": "markdown",
   "id": "668c3367",
   "metadata": {},
   "source": [
    "15. Explain the role of the `self` parameter in instance variable initialization within a constructor."
   ]
  },
  {
   "cell_type": "raw",
   "id": "0d519ce7",
   "metadata": {},
   "source": [
    "\n",
    "In Python, the self parameter in a constructor (__init__() method) plays a crucial role in initializing instance variables within a class. It refers to the instance of the class itself, allowing you to access and modify the instance variables (attributes) of that class.\n",
    "\n",
    "Role of self in Instance Variable Initialization:\n",
    "Reference to Instance: self represents the instance of the class being created or operated on. It's automatically passed as the first parameter to every instance method, including the constructor.\n",
    "\n",
    "Attribute Assignment: Within the constructor, self is used to create and initialize instance variables by assigning values to them using self.variable_name = value.\n",
    "\n",
    "Instance Scope: When you use self to initialize attributes within the constructor, those attributes become instance variables, meaning they are specific to each instance of the class. Each object created from the class will have its own copy of these attributes."
   ]
  },
  {
   "cell_type": "code",
   "execution_count": 19,
   "id": "8dc95868",
   "metadata": {},
   "outputs": [
    {
     "name": "stdout",
     "output_type": "stream",
     "text": [
      "10 20\n",
      "30 40\n"
     ]
    }
   ],
   "source": [
    "class MyClass:\n",
    "    def __init__(self, var1, var2):\n",
    "        self.attribute1 = var1\n",
    "        self.attribute2 = var2\n",
    "\n",
    "# Creating instances of MyClass\n",
    "obj1 = MyClass(10, 20)\n",
    "obj2 = MyClass(30, 40)\n",
    "\n",
    "# Accessing instance variables using object instances\n",
    "print(obj1.attribute1, obj1.attribute2)  # Output: 10 20\n",
    "print(obj2.attribute1, obj2.attribute2)  # Output: 30 40\n"
   ]
  },
  {
   "cell_type": "raw",
   "id": "01aa7a0b",
   "metadata": {},
   "source": [
    "In this example, self.attribute1 and self.attribute2 within the constructor are instance variables. The self keyword ensures that attribute1 and attribute2 belong to the respective instances obj1 and obj2.\n",
    "\n",
    "Therefore, self acts as a reference to the current instance, allowing you to create and manage instance variables (attributes) within the constructor and throughout the class, ensuring proper initialization and encapsulation of data specific to each object created from that class"
   ]
  },
  {
   "cell_type": "markdown",
   "id": "91941c26",
   "metadata": {},
   "source": [
    "16. How do you prevent a class from having multiple instances by using constructors in Python? Provide an\n",
    "example."
   ]
  },
  {
   "cell_type": "markdown",
   "id": "c5e85957",
   "metadata": {},
   "source": [
    "The Singleton pattern ensures that a class has only one instance and provides a global point of access to that instance.\n",
    "\n",
    "To implement the Singleton pattern, you typically override the __new__() method (not the __init__() method) of the class to control the instantiation of the object and ensure that only one instance is created."
   ]
  },
  {
   "cell_type": "code",
   "execution_count": 20,
   "id": "f62b0d3c",
   "metadata": {},
   "outputs": [
    {
     "name": "stdout",
     "output_type": "stream",
     "text": [
      "True\n"
     ]
    }
   ],
   "source": [
    "class Singleton:\n",
    "    _instance = None\n",
    "\n",
    "    def __new__(cls, *args, **kwargs):\n",
    "        if cls._instance is None:\n",
    "            cls._instance = super().__new__(cls)\n",
    "        return cls._instance\n",
    "\n",
    "# Creating instances of the Singleton class\n",
    "singleton1 = Singleton()\n",
    "singleton2 = Singleton()\n",
    "\n",
    "print(singleton1 is singleton2)  # Output: True - Both instances refer to the same object\n"
   ]
  },
  {
   "cell_type": "raw",
   "id": "d9fd724a",
   "metadata": {},
   "source": [
    "The Singleton class defines a private class variable _instance to hold the single instance of the class.\n",
    "The __new__() method is overridden to create the instance only if it doesn't already exist (cls._instance is None). If the instance already exists, it returns the existing instance.\n",
    "When singleton1 and singleton2 are created, both references point to the same instance of the Singleton class, as indicated by singleton1 is singleton2 returning True.\n",
    "This implementation ensures that no matter how many times you create an instance of the Singleton class, it always returns the same instance. Therefore, it restricts the class to have only one instance throughout the program."
   ]
  },
  {
   "cell_type": "markdown",
   "id": "f53f2818",
   "metadata": {},
   "source": [
    "17. Create a Python class called `Student` with a constructor that takes a list of subjects as a parameter and\n",
    "initializes the `subjects` attribute."
   ]
  },
  {
   "cell_type": "code",
   "execution_count": null,
   "id": "c9237ce6",
   "metadata": {},
   "outputs": [],
   "source": [
    "class Student:\n",
    "    def __init__(self, subjects):\n",
    "        self.subjects = subjects\n",
    "\n",
    "# Creating an instance of the Student class with a list of subjects\n",
    "student = Student(['Math', 'Science', 'History'])\n",
    "\n",
    "# Accessing and printing the subjects attribute of the student\n",
    "print(\"Subjects:\", student.subjects)\n"
   ]
  },
  {
   "cell_type": "markdown",
   "id": "7d5b8298",
   "metadata": {},
   "source": [
    "18. What is the purpose of the `__del__` method in Python classes, and how does it relate to constructors?"
   ]
  },
  {
   "cell_type": "raw",
   "id": "f2b482d1",
   "metadata": {},
   "source": [
    "Python is a special method used to define the deletion or destruction behavior of an object. It gets invoked when an object is about to be destroyed, typically when it's being garbage collected (i.e., when there are no more references to the object)."
   ]
  },
  {
   "cell_type": "raw",
   "id": "61399918",
   "metadata": {},
   "source": [
    "Purpose of __del__() Method:\n",
    "Cleanup Tasks: The primary purpose of __del__() is to perform cleanup activities or execute specific code just before an object is destroyed. This might involve releasing resources, closing files, or performing any other necessary cleanup operations.\n",
    "\n",
    "Automatic Invocation: It is automatically called by the Python interpreter when an object is about to be deleted. However, the exact timing of when this method gets called is not guaranteed and depends on the garbage collection mechanism.\n",
    "\n",
    "Relationship with Constructors:\n",
    "The __del__() method serves as the counterpart to the constructor (__init__() method) in Python.\n",
    "While the constructor (__init__() method) is responsible for initializing the object's state when it's created, the __del__() method handles the cleanup tasks just before the object is destroyed."
   ]
  },
  {
   "cell_type": "code",
   "execution_count": 22,
   "id": "7fd55ec8",
   "metadata": {},
   "outputs": [
    {
     "name": "stdout",
     "output_type": "stream",
     "text": [
      "Object Instance created\n",
      "Object Instance is being deleted\n"
     ]
    }
   ],
   "source": [
    "class MyClass:\n",
    "    def __init__(self, name):\n",
    "        self.name = name\n",
    "        print(f\"Object {self.name} created\")\n",
    "\n",
    "    def __del__(self):\n",
    "        print(f\"Object {self.name} is being deleted\")\n",
    "\n",
    "# Creating an instance of MyClass\n",
    "obj = MyClass(\"Instance\")\n",
    "\n",
    "# Deleting the object manually (triggering __del__ method)\n",
    "del obj\n"
   ]
  },
  {
   "cell_type": "markdown",
   "id": "b61a5163",
   "metadata": {},
   "source": [
    "19.Explain the use of constructor chaining in Python. Provide a practical example."
   ]
  },
  {
   "cell_type": "raw",
   "id": "1db0ea98",
   "metadata": {},
   "source": [
    "\n",
    "Constructor chaining, also known as constructor delegation or calling one constructor from another within the same class, allows for reusability of code and facilitates different constructors to call one another to avoid redundancy in initialization logic.\n",
    "\n",
    "In Python, constructor chaining can be achieved by using super() to invoke the constructor of the parent class or by directly calling another constructor method within the same class."
   ]
  },
  {
   "cell_type": "code",
   "execution_count": 23,
   "id": "c0d09322",
   "metadata": {},
   "outputs": [
    {
     "name": "stdout",
     "output_type": "stream",
     "text": [
      "Parent constructor called\n",
      "Child constructor called\n"
     ]
    }
   ],
   "source": [
    "class Parent:\n",
    "    def __init__(self, parent_attr):\n",
    "        self.parent_attr = parent_attr\n",
    "        print(\"Parent constructor called\")\n",
    "\n",
    "class Child(Parent):\n",
    "    def __init__(self, parent_attr, child_attr):\n",
    "        super().__init__(parent_attr)  # Calling the parent class constructor\n",
    "        self.child_attr = child_attr\n",
    "        print(\"Child constructor called\")\n",
    "\n",
    "# Creating an instance of the Child class\n",
    "child_obj = Child(\"Parent Value\", \"Child Value\")\n"
   ]
  },
  {
   "cell_type": "raw",
   "id": "9aac8878",
   "metadata": {},
   "source": [
    "Parent has its own constructor (__init__() method) that initializes parent_attr.\n",
    "Child is a subclass of Parent and has its own constructor. Inside Child's constructor, super().__init__(parent_attr) is used to call the constructor of the Parent class, passing the parent_attr argument.\n",
    "Child's constructor then initializes its own attribute child_attr.\n",
    "When Child(\"Parent Value\", \"Child Value\") is created, both constructors are called sequentially, first the Parent constructor and then the Child constructor.\n",
    "This example demonstrates how constructor chaining using super() allows the child class to invoke the constructor of its parent class, ensuring that both the parent and child initialization logic is executed without redundancy."
   ]
  },
  {
   "cell_type": "markdown",
   "id": "bbfb3583",
   "metadata": {},
   "source": [
    "20. Create a Python class called `Car` with a default constructor that initializes the `make` and `model`\n",
    "attributes. Provide a method to display car information."
   ]
  },
  {
   "cell_type": "code",
   "execution_count": 24,
   "id": "c3ae6973",
   "metadata": {},
   "outputs": [
    {
     "name": "stdout",
     "output_type": "stream",
     "text": [
      "Make: Undefined Make\n",
      "Model: Undefined Model\n"
     ]
    }
   ],
   "source": [
    "class Car:\n",
    "    def __init__(self, make=\"Undefined Make\", model=\"Undefined Model\"):\n",
    "        self.make = make\n",
    "        self.model = model\n",
    "\n",
    "    def display_info(self):\n",
    "        print(f\"Make: {self.make}\")\n",
    "        print(f\"Model: {self.model}\")\n",
    "\n",
    "# Creating an instance of the Car class with default values\n",
    "car1 = Car()\n",
    "\n",
    "# Accessing and displaying car information using the method\n",
    "car1.display_info()\n"
   ]
  },
  {
   "cell_type": "markdown",
   "id": "53e9f543",
   "metadata": {},
   "source": [
    "# Inheritance"
   ]
  },
  {
   "cell_type": "markdown",
   "id": "d8a5a5fe",
   "metadata": {},
   "source": [
    "1. What is inheritance in Python? Explain its significance in object-oriented programming."
   ]
  },
  {
   "cell_type": "raw",
   "id": "ff459dad",
   "metadata": {},
   "source": [
    "\n",
    "Inheritance in Python refers to the mechanism where a new class (called the child class or subclass) can inherit attributes and behaviors (methods) from an existing class (called the parent class or superclass). This allows the child class to reuse code from the parent class, promoting code reusability and creating a hierarchy of classes."
   ]
  },
  {
   "cell_type": "raw",
   "id": "a1bf4a8c",
   "metadata": {},
   "source": [
    "The significance of inheritance in object-oriented programming lies in several key aspects:\n",
    "\n",
    "Code Reusability: Inheritance enables the child class to inherit methods and attributes from the parent class. This avoids duplicating code and promotes a more efficient and organized way of programming.\n",
    "\n",
    "Extensibility: Child classes can add new methods or attributes and override existing methods from the parent class. This allows for customization and extension of functionality without modifying the original class.\n",
    "\n",
    "Hierarchical Structure: Inheritance facilitates the creation of a hierarchy of classes, allowing for logical organization and categorization of related classes. Subclasses can specialize and further refine the behavior of their parent classes.\n",
    "\n",
    "Polymorphism: In Python, inheritance is closely related to polymorphism, where objects of different classes can be treated as objects of a common superclass. This allows for more flexible and generic code, as objects can be used interchangeably based on their common interface."
   ]
  },
  {
   "cell_type": "markdown",
   "id": "6c423ba9",
   "metadata": {},
   "source": [
    "2. Differentiate between single inheritance and multiple inheritance in Python. Provide examples for each."
   ]
  },
  {
   "cell_type": "raw",
   "id": "13b14ac6",
   "metadata": {},
   "source": [
    "Single Inheritance:\n",
    "Definition: Single inheritance involves a child class inheriting from only one parent class."
   ]
  },
  {
   "cell_type": "code",
   "execution_count": 26,
   "id": "076090f2",
   "metadata": {},
   "outputs": [
    {
     "name": "stdout",
     "output_type": "stream",
     "text": [
      "Bark\n"
     ]
    }
   ],
   "source": [
    "class Animal:\n",
    "    def sound(self):\n",
    "        return \"Some generic sound\"\n",
    "\n",
    "class Dog(Animal):\n",
    "    def sound(self):\n",
    "        return \"Bark\"\n",
    "\n",
    "# Creating an instance of Dog\n",
    "my_dog = Dog()\n",
    "print(my_dog.sound())  # Output: \"Bark\"\n"
   ]
  },
  {
   "cell_type": "raw",
   "id": "33316027",
   "metadata": {},
   "source": [
    "Multiple Inheritance:\n",
    "Definition: Multiple inheritance involves a child class inheriting from multiple parent classes."
   ]
  },
  {
   "cell_type": "code",
   "execution_count": 27,
   "id": "9a69dd35",
   "metadata": {},
   "outputs": [
    {
     "name": "stdout",
     "output_type": "stream",
     "text": [
      "I can fly\n",
      "I can swim\n"
     ]
    }
   ],
   "source": [
    "class Flyable:\n",
    "    def fly(self):\n",
    "        return \"I can fly\"\n",
    "\n",
    "class Swimmable:\n",
    "    def swim(self):\n",
    "        return \"I can swim\"\n",
    "\n",
    "class Duck(Flyable, Swimmable):\n",
    "    pass\n",
    "\n",
    "# Creating an instance of Duck\n",
    "my_duck = Duck()\n",
    "print(my_duck.fly())   # Output: \"I can fly\"\n",
    "print(my_duck.swim())  # Output: \"I can swim\"\n"
   ]
  },
  {
   "cell_type": "markdown",
   "id": "df04ad04",
   "metadata": {},
   "source": [
    "3. Create a Python class called `Vehicle` with attributes `color` and `speed`. Then, create a child class called\n",
    "`Car` that inherits from `Vehicle` and adds a `brand` attribute. Provide an example of creating a `Car` object."
   ]
  },
  {
   "cell_type": "code",
   "execution_count": 28,
   "id": "b398695f",
   "metadata": {},
   "outputs": [
    {
     "name": "stdout",
     "output_type": "stream",
     "text": [
      "Color: Red\n",
      "Speed: 120\n",
      "Brand: Toyota\n"
     ]
    }
   ],
   "source": [
    "class Vehicle:\n",
    "    def __init__(self, color, speed):\n",
    "        self.color = color\n",
    "        self.speed = speed\n",
    "\n",
    "class Car(Vehicle):\n",
    "    def __init__(self, color, speed, brand):\n",
    "        super().__init__(color, speed)\n",
    "        self.brand = brand\n",
    "\n",
    "# Creating a Car object\n",
    "my_car = Car(\"Red\", 120, \"Toyota\")\n",
    "\n",
    "# Accessing attributes of the Car object\n",
    "print(f\"Color: {my_car.color}\")    # Output: Color: Red\n",
    "print(f\"Speed: {my_car.speed}\")    # Output: Speed: 120\n",
    "print(f\"Brand: {my_car.brand}\")    # Output: Brand: Toyota\n"
   ]
  },
  {
   "cell_type": "markdown",
   "id": "9607b19b",
   "metadata": {},
   "source": [
    "4. Explain the concept of method overriding in inheritance. Provide a practical example."
   ]
  },
  {
   "cell_type": "raw",
   "id": "d3bfaf46",
   "metadata": {},
   "source": [
    "Method overriding occurs when a subclass provides a specific implementation for a method that is already defined in its superclass. This allows the subclass to change or extend the behavior of the method inherited from the parent class."
   ]
  },
  {
   "cell_type": "code",
   "execution_count": 29,
   "id": "0d0a30d2",
   "metadata": {},
   "outputs": [
    {
     "name": "stdout",
     "output_type": "stream",
     "text": [
      "Vroom!\n",
      "Vroom! Vroom!\n"
     ]
    }
   ],
   "source": [
    "class Vehicle:\n",
    "    def make_sound(self):\n",
    "        return \"Vroom!\"\n",
    "\n",
    "class Car(Vehicle):\n",
    "    def make_sound(self):\n",
    "        return \"Vroom! Vroom!\"\n",
    "\n",
    "# Creating instances of Vehicle and Car\n",
    "my_vehicle = Vehicle()\n",
    "my_car = Car()\n",
    "\n",
    "# Using the make_sound() method for both instances\n",
    "print(my_vehicle.make_sound())  # Output: \"Vroom!\"\n",
    "print(my_car.make_sound())      # Output: \"Vroom! Vroom!\"\n"
   ]
  },
  {
   "cell_type": "markdown",
   "id": "0833f6c9",
   "metadata": {},
   "source": [
    "5. How can you access the methods and attributes of a parent class from a child class in Python? Give an\n",
    "example."
   ]
  },
  {
   "cell_type": "raw",
   "id": "8694ab2c",
   "metadata": {},
   "source": [
    "you can access the methods and attributes of a parent class from a child class using super() and by directly referencing the parent class."
   ]
  },
  {
   "cell_type": "code",
   "execution_count": 33,
   "id": "b7a9323c",
   "metadata": {},
   "outputs": [
    {
     "name": "stdout",
     "output_type": "stream",
     "text": [
      "Accessing parent method using super(): This is a method from the parent class\n",
      "Accessing parent attribute directly: I am the parent\n"
     ]
    }
   ],
   "source": [
    "class Parent:\n",
    "    def __init__(self):\n",
    "        self.parent_attr = \"I am the parent\"\n",
    "    \n",
    "    def parent_method(self):\n",
    "        return \"This is a method from the parent class\"\n",
    "\n",
    "class Child(Parent):\n",
    "    def __init__(self):\n",
    "        super().__init__()  # Calling the parent class constructor\n",
    "        self.child_attr = \"I am the child\"\n",
    "    \n",
    "    def access_parent_method(self):\n",
    "        # Using super() to access parent method\n",
    "        parent_method_result = super().parent_method()\n",
    "        return f\"Accessing parent method using super(): {parent_method_result}\"\n",
    "\n",
    "    def access_parent_attr(self):\n",
    "        # Accessing parent attribute directly\n",
    "        return f\"Accessing parent attribute directly: {self.parent_attr}\"\n",
    "\n",
    "# Creating an instance of the Child class\n",
    "my_child = Child()\n",
    "\n",
    "# Accessing parent class methods and attributes from the Child class\n",
    "print(my_child.access_parent_method())  # Output: \"Accessing parent method using super(): This is a method from the parent class\"\n",
    "print(my_child.access_parent_attr())    # Output: \"Accessing parent attribute directly: I am the parent\"\n"
   ]
  },
  {
   "cell_type": "markdown",
   "id": "149b8c98",
   "metadata": {},
   "source": [
    "6. Discuss the use of the `super()` function in Python inheritance. When and why is it used? Provide an\n",
    "example."
   ]
  },
  {
   "cell_type": "raw",
   "id": "9353d61a",
   "metadata": {},
   "source": [
    "The super() function in Python is primarily used in inheritance to access methods, attributes, and properties of a parent class from within a child class. It enables a subclass to invoke methods or access attributes of its superclass, facilitating better code organization and maintaining a clear hierarchy in object-oriented programming.\n",
    "\n",
    "Why and When to Use super():\n",
    "Call Parent Class Methods: When a method is overridden in a child class, super() allows you to invoke the method of the parent class, which can be useful for extending functionality without losing the parent's behavior.\n",
    "\n",
    "Maintainability and Flexibility: super() promotes code maintainability by explicitly referencing the superclass, making it easier to modify the inheritance structure or switch between parent classes.\n",
    "\n",
    "Consistent Method Resolution Order (MRO): Especially in multiple inheritance scenarios, super() ensures a consistent method resolution order according to the class hierarchy.\n",
    "\n",
    "Example:\n",
    "Let's consider a scenario where you have a Vehicle class with an attribute fuel_type and a method start(). Then, you create a Car class inheriting from Vehicle, and the Car class overrides the start() method while still utilizing the start() method from its parent class using super()"
   ]
  },
  {
   "cell_type": "code",
   "execution_count": 34,
   "id": "947c97ac",
   "metadata": {},
   "outputs": [
    {
     "name": "stdout",
     "output_type": "stream",
     "text": [
      "Starting the Gasoline vehicle of brand Toyota\n"
     ]
    }
   ],
   "source": [
    "class Vehicle:\n",
    "    def __init__(self, fuel_type):\n",
    "        self.fuel_type = fuel_type\n",
    "    \n",
    "    def start(self):\n",
    "        return f\"Starting the {self.fuel_type} vehicle\"\n",
    "\n",
    "class Car(Vehicle):\n",
    "    def __init__(self, fuel_type, brand):\n",
    "        super().__init__(fuel_type)  # Calling the parent class constructor\n",
    "        self.brand = brand\n",
    "    \n",
    "    def start(self):\n",
    "        # Extending behavior by calling the parent class method\n",
    "        parent_start = super().start()\n",
    "        return f\"{parent_start} of brand {self.brand}\"\n",
    "\n",
    "# Creating an instance of Car\n",
    "my_car = Car(\"Gasoline\", \"Toyota\")\n",
    "\n",
    "# Accessing method from Car class\n",
    "print(my_car.start())  \n",
    "# Output: \"Starting the Gasoline vehicle of brand Toyota\"\n"
   ]
  },
  {
   "cell_type": "markdown",
   "id": "ef8bab7b",
   "metadata": {},
   "source": [
    "7. Create a Python class called `Animal` with a method `speak()`. Then, create child classes `Dog` and `Cat`"
   ]
  },
  {
   "cell_type": "code",
   "execution_count": 35,
   "id": "cf0a7d79",
   "metadata": {},
   "outputs": [
    {
     "name": "stdout",
     "output_type": "stream",
     "text": [
      "Woof!\n",
      "Meow!\n"
     ]
    }
   ],
   "source": [
    "class Animal:\n",
    "    def speak(self):\n",
    "        pass  # Placeholder method; to be overridden by subclasses\n",
    "\n",
    "class Dog(Animal):\n",
    "    def speak(self):\n",
    "        return \"Woof!\"\n",
    "\n",
    "class Cat(Animal):\n",
    "    def speak(self):\n",
    "        return \"Meow!\"\n",
    "\n",
    "# Creating instances of Dog and Cat\n",
    "dog = Dog()\n",
    "cat = Cat()\n",
    "\n",
    "# Using the speak() method of Dog and Cat\n",
    "print(dog.speak())  # Output: \"Woof!\"\n",
    "print(cat.speak())  # Output: \"Meow!\"\n"
   ]
  },
  {
   "cell_type": "markdown",
   "id": "9117b974",
   "metadata": {},
   "source": [
    "8. Explain the role of the `isinstance()` function in Python and how it relates to inheritance."
   ]
  },
  {
   "cell_type": "raw",
   "id": "9d57eed9",
   "metadata": {},
   "source": [
    "\n",
    "The isinstance() function in Python is used to check if an object is an instance of a particular class or any subclass thereof. It returns True if the object is an instance of the specified class or its subclasses, and False otherwise.\n",
    "\n",
    "Role of isinstance() in Inheritance:\n",
    "Checking Class Membership: It helps verify if an object belongs to a particular class or its subclass, allowing conditional behavior based on the type of the object.\n",
    "\n",
    "Polymorphism: isinstance() facilitates polymorphism by enabling code to handle objects of different types but with shared behavior defined by a common superclass.\n",
    "\n",
    "Dynamic Type Checking: It allows for dynamic type checking in cases where you may want to perform certain operations based on the specific type of an object."
   ]
  },
  {
   "cell_type": "code",
   "execution_count": 36,
   "id": "e087b267",
   "metadata": {},
   "outputs": [
    {
     "name": "stdout",
     "output_type": "stream",
     "text": [
      "True\n",
      "True\n",
      "True\n",
      "True\n",
      "True\n",
      "True\n"
     ]
    }
   ],
   "source": [
    "class Animal:\n",
    "    pass\n",
    "\n",
    "class Dog(Animal):\n",
    "    pass\n",
    "\n",
    "class Cat(Animal):\n",
    "    pass\n",
    "\n",
    "# Creating instances of Dog and Cat\n",
    "dog = Dog()\n",
    "cat = Cat()\n",
    "\n",
    "# Checking if objects are instances of specific classes\n",
    "print(isinstance(dog, Dog))  # Output: True\n",
    "print(isinstance(dog, Animal))  # Output: True (since Dog is a subclass of Animal)\n",
    "print(isinstance(cat, Cat))  # Output: True\n",
    "print(isinstance(cat, Animal))  # Output: True (since Cat is a subclass of Animal)\n",
    "\n",
    "# Checking against multiple classes\n",
    "print(isinstance(dog, (Dog, Cat)))  # Output: True (since Dog is an instance of Dog)\n",
    "print(isinstance(cat, (Dog, Cat)))  # Output: True (since Cat is an instance of Cat)\n"
   ]
  },
  {
   "cell_type": "markdown",
   "id": "cce71ef6",
   "metadata": {},
   "source": [
    "9. What is the purpose of the `issubclass()` function in Python? Provide an example."
   ]
  },
  {
   "cell_type": "raw",
   "id": "f06c19c9",
   "metadata": {},
   "source": [
    "The issubclass() function in Python is used to check if a given class is a subclass of another class. It returns True if the first argument (the potential subclass) is indeed a subclass of the second argument (the potential superclass), and False otherwise.\n",
    "\n",
    "Purpose of issubclass():\n",
    "Checking Class Hierarchy: It helps in determining the relationship between classes by checking if one class is derived from another.\n",
    "\n",
    "Validation in Inheritance: issubclass() allows you to verify the inheritance relationship between classes before using them, enabling conditional logic based on class hierarchies."
   ]
  },
  {
   "cell_type": "code",
   "execution_count": 38,
   "id": "4c957628",
   "metadata": {},
   "outputs": [
    {
     "name": "stdout",
     "output_type": "stream",
     "text": [
      "True\n",
      "True\n",
      "True\n",
      "False\n"
     ]
    }
   ],
   "source": [
    "class Animal:\n",
    "    pass\n",
    "\n",
    "class Dog(Animal):\n",
    "    pass\n",
    "\n",
    "class Cat(Animal):\n",
    "    pass\n",
    "\n",
    "# Checking if Dog and Cat are subclasses of Animal\n",
    "print(issubclass(Dog, Animal))  # Output: True\n",
    "print(issubclass(Cat, Animal))  # Output: True\n",
    "\n",
    "# Checking subclass relationship with built-in types\n",
    "print(issubclass(int, object))  # Output: True (int is a subclass of object)\n",
    "print(issubclass(float, int))   # Output: False (float is not a subclass of int)\n"
   ]
  },
  {
   "cell_type": "markdown",
   "id": "0944555c",
   "metadata": {},
   "source": [
    "10. Discuss the concept of constructor inheritance in Python. How are constructors inherited in child classes?"
   ]
  },
  {
   "cell_type": "raw",
   "id": "05e14cf7",
   "metadata": {},
   "source": [
    "\n",
    "In Python, constructor inheritance refers to how child classes inherit or extend constructors (the __init__() method) from their parent classes.\n",
    "\n",
    "Constructor Inheritance:\n",
    "Automatic Inheritance: By default, if a child class does not have its own __init__() method, it automatically inherits the constructor of its parent class.\n",
    "\n",
    "Explicit Inheritance: If the child class defines its own __init__() method, it can explicitly call the constructor of the parent class using super().__init__(). This allows the child class to add its own attributes while also utilizing the initialization logic of the parent class."
   ]
  },
  {
   "cell_type": "code",
   "execution_count": 39,
   "id": "750a8d95",
   "metadata": {},
   "outputs": [
    {
     "name": "stdout",
     "output_type": "stream",
     "text": [
      "Parent constructor\n",
      "Child constructor\n"
     ]
    }
   ],
   "source": [
    "class Parent:\n",
    "    def __init__(self, parent_attr):\n",
    "        self.parent_attr = parent_attr\n",
    "        print(\"Parent constructor\")\n",
    "\n",
    "class Child(Parent):\n",
    "    def __init__(self, parent_attr, child_attr):\n",
    "        super().__init__(parent_attr)  # Calling the parent class constructor\n",
    "        self.child_attr = child_attr\n",
    "        print(\"Child constructor\")\n",
    "\n",
    "# Creating instances of Child\n",
    "child_obj = Child(\"Parent attribute\", \"Child attribute\")\n"
   ]
  },
  {
   "cell_type": "markdown",
   "id": "cbf22c8f",
   "metadata": {},
   "source": [
    "11. Create a Python class called `Shape` with a method `area()` that calculates the area of a shape. Then, create child classes `Circle` and `Rectangle` that inherit from `Shape` and implement the `area()` method\n",
    "accordingly. Provide an example."
   ]
  },
  {
   "cell_type": "code",
   "execution_count": 40,
   "id": "73218740",
   "metadata": {},
   "outputs": [
    {
     "name": "stdout",
     "output_type": "stream",
     "text": [
      "Area of the Circle: 78.53981633974483\n",
      "Area of the Rectangle: 24\n"
     ]
    }
   ],
   "source": [
    "import math\n",
    "\n",
    "class Shape:\n",
    "    def area(self):\n",
    "        pass  # Placeholder method to be overridden by subclasses\n",
    "\n",
    "class Circle(Shape):\n",
    "    def __init__(self, radius):\n",
    "        self.radius = radius\n",
    "    \n",
    "    def area(self):\n",
    "        return math.pi * self.radius ** 2\n",
    "\n",
    "class Rectangle(Shape):\n",
    "    def __init__(self, length, width):\n",
    "        self.length = length\n",
    "        self.width = width\n",
    "    \n",
    "    def area(self):\n",
    "        return self.length * self.width\n",
    "\n",
    "# Creating instances of Circle and Rectangle\n",
    "circle = Circle(5)\n",
    "rectangle = Rectangle(4, 6)\n",
    "\n",
    "# Calculating areas using the area() method of each shape\n",
    "print(\"Area of the Circle:\", circle.area())  # Output: Area of the Circle: 78.53981633974483\n",
    "print(\"Area of the Rectangle:\", rectangle.area())  # Output: Area of the Rectangle: 24\n"
   ]
  },
  {
   "cell_type": "markdown",
   "id": "100bdf84",
   "metadata": {},
   "source": [
    "12. Explain the use of abstract base classes (ABCs) in Python and how they relate to inheritance. Provide an\n",
    "example using the `abc` module."
   ]
  },
  {
   "cell_type": "raw",
   "id": "51c27ff0",
   "metadata": {},
   "source": [
    "Abstract Base Classes (ABCs) in Python are used to define a blueprint for other classes and enforce a set of methods that must be implemented by its subclasses. They serve as a way to define a common interface that must be adhered to by classes that inherit from them.\n",
    "\n",
    "Use of ABCs and Inheritance:\n",
    "Defining Abstract Methods: ABCs can have abstract methods, which are declared but not implemented in the base class. Subclasses are then required to implement these abstract methods, ensuring that specific behaviors are defined.\n",
    "\n",
    "Enforcing Interface: ABCs act as contracts or guidelines for subclasses, enforcing a particular structure or set of methods that must be present in subclasses."
   ]
  },
  {
   "cell_type": "code",
   "execution_count": 41,
   "id": "d88db9b3",
   "metadata": {},
   "outputs": [
    {
     "name": "stdout",
     "output_type": "stream",
     "text": [
      "Area of the Circle: 78.53975\n",
      "Area of the Rectangle: 24\n"
     ]
    }
   ],
   "source": [
    "from abc import ABC, abstractmethod\n",
    "\n",
    "# Define an abstract base class Shape\n",
    "class Shape(ABC):\n",
    "    @abstractmethod\n",
    "    def area(self):\n",
    "        pass\n",
    "\n",
    "# Create a subclass Circle inheriting from Shape\n",
    "class Circle(Shape):\n",
    "    def __init__(self, radius):\n",
    "        self.radius = radius\n",
    "    \n",
    "    def area(self):\n",
    "        return 3.14159 * self.radius ** 2\n",
    "\n",
    "# Create a subclass Rectangle inheriting from Shape\n",
    "class Rectangle(Shape):\n",
    "    def __init__(self, length, width):\n",
    "        self.length = length\n",
    "        self.width = width\n",
    "    \n",
    "    def area(self):\n",
    "        return self.length * self.width\n",
    "\n",
    "# Attempt to create an instance of Shape (which is abstract) - this will raise an error\n",
    "# shape = Shape()  # This will raise TypeError: Can't instantiate abstract class Shape with abstract methods area\n",
    "\n",
    "# Creating instances of Circle and Rectangle\n",
    "circle = Circle(5)\n",
    "rectangle = Rectangle(4, 6)\n",
    "\n",
    "# Calculating areas using the area() method of each shape\n",
    "print(\"Area of the Circle:\", circle.area())  # Output: Area of the Circle: 78.53975\n",
    "print(\"Area of the Rectangle:\", rectangle.area())  # Output: Area of the Rectangle: 24\n"
   ]
  },
  {
   "cell_type": "markdown",
   "id": "745b3d82",
   "metadata": {},
   "source": [
    "13. How can you prevent a child class from modifying certain attributes or methods inherited from a parent\n",
    "class in Python?"
   ]
  },
  {
   "cell_type": "markdown",
   "id": "bf4956b6",
   "metadata": {},
   "source": [
    "In Python, you can control access to attributes and methods in a child class by using encapsulation and access modifiers. However, Python does not have strict access control like some other languages, such as Java or C++, but you can achieve a level of restriction through conventions and the use of underscores."
   ]
  },
  {
   "cell_type": "raw",
   "id": "ab7a34f0",
   "metadata": {},
   "source": [
    "1. Name Mangling:\n",
    "Python has a convention called name mangling, which involves prefixing attribute or method names with double underscores (__). This makes it harder for a child class to inadvertently override or modify attributes/methods from the parent class."
   ]
  },
  {
   "cell_type": "code",
   "execution_count": 42,
   "id": "e0625b0b",
   "metadata": {},
   "outputs": [],
   "source": [
    "class Parent:\n",
    "    def __init__(self):\n",
    "        self.__private_attr = 10  # Private attribute\n",
    "    \n",
    "    def __private_method(self):\n",
    "        return \"This is a private method\"\n",
    "\n",
    "class Child(Parent):\n",
    "    def __init__(self):\n",
    "        super().__init__()\n",
    "        # Trying to access or modify the private attribute or method of the parent class in the child will result in AttributeError\n",
    "        # For instance:\n",
    "        # print(self.__private_attr)  # This will raise an AttributeError\n",
    "        # print(self.__private_method())  # This will raise an AttributeError\n"
   ]
  },
  {
   "cell_type": "raw",
   "id": "4bbb559b",
   "metadata": {},
   "source": [
    "2. Convention:\n",
    "In Python, the convention is to prefix attributes or methods that should be considered private or internal with a single underscore (_). This doesn't actually prevent access, but it signals to other developers that these are intended for internal use and should not be modified externally."
   ]
  },
  {
   "cell_type": "code",
   "execution_count": 43,
   "id": "b8ee8f09",
   "metadata": {},
   "outputs": [],
   "source": [
    "class Parent:\n",
    "    def __init__(self):\n",
    "        self._protected_attr = 20  # Protected attribute\n",
    "    \n",
    "    def _protected_method(self):\n",
    "        return \"This is a protected method\"\n",
    "\n",
    "class Child(Parent):\n",
    "    def __init__(self):\n",
    "        super().__init__()\n",
    "        # The _protected_attr and _protected_method can be accessed and modified by the child, but it's a convention to treat them as protected\n"
   ]
  },
  {
   "cell_type": "markdown",
   "id": "33a28152",
   "metadata": {},
   "source": [
    "14. Create a Python class called `Employee` with attributes `name` and `salary`. Then, create a child class\n",
    "`Manager` that inherits from `Employee` and adds an attribute `department`. Provide an example."
   ]
  },
  {
   "cell_type": "code",
   "execution_count": 45,
   "id": "07d513b0",
   "metadata": {},
   "outputs": [
    {
     "name": "stdout",
     "output_type": "stream",
     "text": [
      "Manager Name: Charan\n",
      "Manager Salary: 80000\n",
      "Manager Department: Operations\n"
     ]
    }
   ],
   "source": [
    "class Employee:\n",
    "    def __init__(self, name, salary):\n",
    "        self.name = name\n",
    "        self.salary = salary\n",
    "\n",
    "class Manager(Employee):\n",
    "    def __init__(self, name, salary, department):\n",
    "        super().__init__(name, salary)\n",
    "        self.department = department\n",
    "\n",
    "# Creating an instance of Manager\n",
    "manager = Manager(\"Charan\", 80000, \"Operations\")\n",
    "\n",
    "# Accessing attributes of Manager\n",
    "print(\"Manager Name:\", manager.name)  # Output: Manager Name: Alice\n",
    "print(\"Manager Salary:\", manager.salary)  # Output: Manager Salary: 80000\n",
    "print(\"Manager Department:\", manager.department)  # Output: Manager Department: Operations\n"
   ]
  },
  {
   "cell_type": "markdown",
   "id": "368e3f16",
   "metadata": {},
   "source": [
    "15. Discuss the concept of method overloading in Python inheritance. How does it differ from method\n",
    "overriding?"
   ]
  },
  {
   "cell_type": "raw",
   "id": "d2cb00df",
   "metadata": {},
   "source": [
    "\n",
    "In Python, method overloading and method overriding are two distinct concepts in the context of inheritance:\n",
    "\n",
    "Method Overloading:\n",
    "Method overloading in Python refers to the ability to define multiple methods in a class with the same name but different sets of parameters. Unlike some other programming languages (like Java), Python does not support native method overloading by defining multiple methods with different signatures.\n",
    "\n",
    "However, you can mimic method overloading in Python by using default parameter values or variable-length argument lists (*args and **kwargs). By using these techniques, a single method can handle different sets of arguments, effectively achieving a form of method overloading."
   ]
  },
  {
   "cell_type": "code",
   "execution_count": 46,
   "id": "6949344b",
   "metadata": {},
   "outputs": [
    {
     "name": "stdout",
     "output_type": "stream",
     "text": [
      "2\n",
      "5\n",
      "9\n"
     ]
    }
   ],
   "source": [
    "class Calculator:\n",
    "    def add(self, a, b=None, c=None):\n",
    "        if b is not None and c is not None:\n",
    "            return a + b + c\n",
    "        elif b is not None:\n",
    "            return a + b\n",
    "        else:\n",
    "            return a\n",
    "\n",
    "calc = Calculator()\n",
    "\n",
    "print(calc.add(2))         # Output: 2\n",
    "print(calc.add(2, 3))      # Output: 5\n",
    "print(calc.add(2, 3, 4))   # Output: 9\n"
   ]
  },
  {
   "cell_type": "raw",
   "id": "c936ffee",
   "metadata": {},
   "source": [
    "Method Overriding:\n",
    "Method overriding, on the other hand, occurs when a subclass provides a specific implementation for a method that is already defined in its superclass. This allows the subclass to change or extend the behavior of the method inherited from the parent class."
   ]
  },
  {
   "cell_type": "code",
   "execution_count": 47,
   "id": "bd093994",
   "metadata": {},
   "outputs": [
    {
     "name": "stdout",
     "output_type": "stream",
     "text": [
      "Some generic sound\n",
      "Bark\n"
     ]
    }
   ],
   "source": [
    "class Animal:\n",
    "    def sound(self):\n",
    "        return \"Some generic sound\"\n",
    "\n",
    "class Dog(Animal):\n",
    "    def sound(self):\n",
    "        return \"Bark\"\n",
    "\n",
    "# Creating instances of Animal and Dog\n",
    "animal = Animal()\n",
    "dog = Dog()\n",
    "\n",
    "print(animal.sound())  # Output: Some generic sound\n",
    "print(dog.sound())     # Output: Bark\n"
   ]
  },
  {
   "cell_type": "raw",
   "id": "b5078110",
   "metadata": {},
   "source": [
    "Difference:\n",
    "Method Overloading: Relates to having multiple methods with the same name but different parameters within a single class. In Python, you simulate method overloading by handling different argument patterns within the same method.\n",
    "\n",
    "Method Overriding: Involves a subclass providing a specific implementation for a method that is already defined in its superclass. It allows changing or extending the behavior of the inherited method in the subclass."
   ]
  },
  {
   "cell_type": "markdown",
   "id": "5fff4c4c",
   "metadata": {},
   "source": [
    "16. Explain the purpose of the `__init__()` method in Python inheritance and how it is utilized in child classes."
   ]
  },
  {
   "cell_type": "raw",
   "id": "0533971b",
   "metadata": {},
   "source": [
    "Purpose of __init__() in Inheritance:\n",
    "Initialization: The primary purpose of __init__() in inheritance is to initialize the attributes inherited from the parent class along with any new attributes specific to the child class.\n",
    "\n",
    "Calling Parent Class Constructor: When a child class is created, its __init__() method can call the constructor of the parent class using super().__init__(), ensuring that the initialization logic in the parent class is also executed."
   ]
  },
  {
   "cell_type": "code",
   "execution_count": 48,
   "id": "c2713e55",
   "metadata": {},
   "outputs": [
    {
     "name": "stdout",
     "output_type": "stream",
     "text": [
      "Parent Attribute: Parent attribute\n",
      "Child Attribute: Child attribute\n"
     ]
    }
   ],
   "source": [
    "class Parent:\n",
    "    def __init__(self, parent_attr):\n",
    "        self.parent_attr = parent_attr\n",
    "\n",
    "class Child(Parent):\n",
    "    def __init__(self, parent_attr, child_attr):\n",
    "        super().__init__(parent_attr)  # Calling the parent class constructor\n",
    "        self.child_attr = child_attr\n",
    "\n",
    "# Creating an instance of Child\n",
    "child_obj = Child(\"Parent attribute\", \"Child attribute\")\n",
    "\n",
    "# Accessing attributes of Child object\n",
    "print(\"Parent Attribute:\", child_obj.parent_attr)  # Output: Parent Attribute: Parent attribute\n",
    "print(\"Child Attribute:\", child_obj.child_attr)    # Output: Child Attribute: Child attribute\n"
   ]
  },
  {
   "cell_type": "markdown",
   "id": "efb9edea",
   "metadata": {},
   "source": [
    "The Parent class has an __init__() method that initializes the parent_attr.\n",
    "The Child class inherits from Parent and extends its functionality by introducing the child_attr. Inside its __init__() method, it calls the __init__() method of the parent class using super().__init__(parent_attr) to initialize the parent_attr.\n",
    "When an instance of the Child class is created (child_obj), the __init__() method of both the parent and child classes gets executed. This ensures that the attributes from the parent class are initialized appropriately alongside the specific attributes of the child class."
   ]
  },
  {
   "cell_type": "markdown",
   "id": "efb9e0bd",
   "metadata": {},
   "source": [
    "17. Create a Python class called `Bird` with a method `fly()`. Then, create child classes `Eagle` and `Sparrow` that inherit from `Bird` and implement the `fly()` method differently. Provide an example of using these\n",
    "classes."
   ]
  },
  {
   "cell_type": "code",
   "execution_count": 49,
   "id": "77904031",
   "metadata": {},
   "outputs": [
    {
     "name": "stdout",
     "output_type": "stream",
     "text": [
      "Eagle: Soaring high in the sky like an eagle!\n",
      "Sparrow: Flitting and darting through the air like a sparrow!\n"
     ]
    }
   ],
   "source": [
    "class Bird:\n",
    "    def fly(self):\n",
    "        pass  # Placeholder method to be overridden by subclasses\n",
    "\n",
    "class Eagle(Bird):\n",
    "    def fly(self):\n",
    "        return \"Soaring high in the sky like an eagle!\"\n",
    "\n",
    "class Sparrow(Bird):\n",
    "    def fly(self):\n",
    "        return \"Flitting and darting through the air like a sparrow!\"\n",
    "\n",
    "# Creating instances of Eagle and Sparrow\n",
    "eagle = Eagle()\n",
    "sparrow = Sparrow()\n",
    "\n",
    "# Using the fly() method of each bird\n",
    "print(\"Eagle:\", eagle.fly())      # Output: \"Soaring high in the sky like an eagle!\"\n",
    "print(\"Sparrow:\", sparrow.fly())  # Output: \"Flitting and darting through the air like a sparrow!\"\n"
   ]
  },
  {
   "cell_type": "markdown",
   "id": "dad698d9",
   "metadata": {},
   "source": [
    "18. What is the \"diamond problem\" in multiple inheritance, and how does Python address it?"
   ]
  },
  {
   "cell_type": "raw",
   "id": "2a302caa",
   "metadata": {},
   "source": [
    "Python uses a mechanism called Method Resolution Order (MRO) to handle multiple inheritance and mitigate the diamond problem. It follows the C3 linearization algorithm to determine the order in which methods are resolved in the inheritance hierarchy.\n",
    "\n",
    "Python's MRO ensures that:\n",
    "\n",
    "Depth-First, Left-to-Right (DPLR) Order: It resolves methods by traversing the inheritance graph in a depth-first, left-to-right manner.\n",
    "\n",
    "Preserves Order and Avoids Duplicate Visits: It maintains the order in which classes are specified in the inheritance tuple, and it avoids visiting the same class twice."
   ]
  },
  {
   "cell_type": "code",
   "execution_count": 50,
   "id": "afa32779",
   "metadata": {},
   "outputs": [
    {
     "name": "stdout",
     "output_type": "stream",
     "text": [
      "(<class '__main__.D'>, <class '__main__.B'>, <class '__main__.C'>, <class '__main__.A'>, <class 'object'>)\n",
      "B method\n"
     ]
    }
   ],
   "source": [
    "class A:\n",
    "    def method(self):\n",
    "        print(\"A method\")\n",
    "\n",
    "class B(A):\n",
    "    def method(self):\n",
    "        print(\"B method\")\n",
    "\n",
    "class C(A):\n",
    "    def method(self):\n",
    "        print(\"C method\")\n",
    "\n",
    "class D(B, C):\n",
    "    pass\n",
    "\n",
    "# Method Resolution Order (MRO)\n",
    "print(D.__mro__)  # Output: (<class '__main__.D'>, <class '__main__.B'>, <class '__main__.C'>, <class '__main__.A'>)\n",
    "\n",
    "# Creating an instance of D and invoking the method\n",
    "d = D()\n",
    "d.method()  # Output: \"B method\"\n"
   ]
  },
  {
   "cell_type": "markdown",
   "id": "73779c2d",
   "metadata": {},
   "source": [
    "Classes B and C both override the method() from class A.\n",
    "Class D inherits from both B and C.\n",
    "The Method Resolution Order (D.__mro__) indicates the order in which Python will search for the method() starting from D and following the hierarchy (D -> B -> C -> A).\n",
    "When d.method() is called, Python resolves it to use the method() implemented in class B because of the MRO sequence (B comes before C).\n",
    "Python's MRO effectively handles the diamond problem by providing a consistent and predictable method resolution order in cases of multiple inheritance."
   ]
  },
  {
   "cell_type": "markdown",
   "id": "c07c0829",
   "metadata": {},
   "source": [
    "19. Discuss the concept of \"is-a\" and \"has-a\" relationships in inheritance, and provide examples of each."
   ]
  },
  {
   "cell_type": "raw",
   "id": "5a8bab4e",
   "metadata": {},
   "source": [
    "\"is-a\" Relationship (Inheritance):\n",
    "\"is-a\" relationship refers to inheritance, where one class is a specialized version of another class. It signifies that an object of a subclass type is also an object of its superclass."
   ]
  },
  {
   "cell_type": "code",
   "execution_count": 51,
   "id": "c5ee7576",
   "metadata": {},
   "outputs": [
    {
     "name": "stdout",
     "output_type": "stream",
     "text": [
      "True\n",
      "True\n"
     ]
    }
   ],
   "source": [
    "# \"is-a\" relationship (Inheritance)\n",
    "class Animal:\n",
    "    def make_sound(self):\n",
    "        pass  # Placeholder method to be overridden by subclasses\n",
    "\n",
    "class Dog(Animal):\n",
    "    def make_sound(self):\n",
    "        return \"Woof!\"\n",
    "\n",
    "class Cat(Animal):\n",
    "    def make_sound(self):\n",
    "        return \"Meow!\"\n",
    "\n",
    "# Dog \"is-a\" Animal, Cat \"is-a\" Animal\n",
    "dog = Dog()\n",
    "cat = Cat()\n",
    "\n",
    "print(isinstance(dog, Animal))  # Output: True\n",
    "print(isinstance(cat, Animal))  # Output: True\n"
   ]
  },
  {
   "cell_type": "raw",
   "id": "2a5d3ec6",
   "metadata": {},
   "source": [
    "\"has-a\" Relationship (Composition):\n",
    "\"has-a\" relationship refers to composition, where one class contains an instance of another class as a member or attribute. It signifies that a class has a reference to another class, but they are not directly related by inheritance."
   ]
  },
  {
   "cell_type": "code",
   "execution_count": 52,
   "id": "0f81afa0",
   "metadata": {},
   "outputs": [
    {
     "name": "stdout",
     "output_type": "stream",
     "text": [
      "Engine started\n"
     ]
    }
   ],
   "source": [
    "# \"has-a\" relationship (Composition)\n",
    "class Engine:\n",
    "    def start(self):\n",
    "        return \"Engine started\"\n",
    "\n",
    "class Car:\n",
    "    def __init__(self):\n",
    "        self.engine = Engine()  # Car \"has-a\" Engine\n",
    "\n",
    "# Creating an instance of Car\n",
    "my_car = Car()\n",
    "\n",
    "print(my_car.engine.start())  # Output: \"Engine started\"\n"
   ]
  },
  {
   "cell_type": "raw",
   "id": "b0e5b4e3",
   "metadata": {},
   "source": [
    "Summary:\n",
    "\"is-a\" Relationship (Inheritance): Indicates a specialized relationship where a subclass is a type of its superclass.\n",
    "\"has-a\" Relationship (Composition): Indicates that a class has a reference to another class as a part of its structure but doesn't necessarily inherit from it.\n",
    "Understanding these relationships helps in designing object-oriented systems effectively, enabling clearer hierarchies and associations between classes and objects."
   ]
  },
  {
   "cell_type": "markdown",
   "id": "3c153995",
   "metadata": {},
   "source": [
    "20. Create a Python class hierarchy for a university system. Start with a base class `Person` and create child\n",
    "classes `Student` and `Professor`, each with their own attributes and methods. Provide an example of using\n",
    "these classes in a university context."
   ]
  },
  {
   "cell_type": "code",
   "execution_count": 53,
   "id": "73494702",
   "metadata": {},
   "outputs": [
    {
     "name": "stdout",
     "output_type": "stream",
     "text": [
      "Student ID: S12345, Name: Alice, Age: 20\n",
      "Department: Computer Science, Name: Dr. Smith, Age: 40\n"
     ]
    }
   ],
   "source": [
    "class Person:\n",
    "    def __init__(self, name, age):\n",
    "        self.name = name\n",
    "        self.age = age\n",
    "    \n",
    "    def display_info(self):\n",
    "        return f\"Name: {self.name}, Age: {self.age}\"\n",
    "\n",
    "class Student(Person):\n",
    "    def __init__(self, name, age, student_id):\n",
    "        super().__init__(name, age)\n",
    "        self.student_id = student_id\n",
    "    \n",
    "    def display_info(self):\n",
    "        return f\"Student ID: {self.student_id}, {super().display_info()}\"\n",
    "\n",
    "class Professor(Person):\n",
    "    def __init__(self, name, age, department):\n",
    "        super().__init__(name, age)\n",
    "        self.department = department\n",
    "    \n",
    "    def display_info(self):\n",
    "        return f\"Department: {self.department}, {super().display_info()}\"\n",
    "\n",
    "# Example usage:\n",
    "\n",
    "# Creating instances of Student and Professor\n",
    "student = Student(\"Alice\", 20, \"S12345\")\n",
    "professor = Professor(\"Dr. Smith\", 40, \"Computer Science\")\n",
    "\n",
    "# Displaying information about student and professor\n",
    "print(student.display_info())\n",
    "# Output: Student ID: S12345, Name: Alice, Age: 20\n",
    "\n",
    "print(professor.display_info())\n",
    "# Output: Department: Computer Science, Name: Dr. Smith, Age: 40\n"
   ]
  },
  {
   "cell_type": "markdown",
   "id": "38bdb21f",
   "metadata": {},
   "source": [
    "# Encapsulation:"
   ]
  },
  {
   "cell_type": "markdown",
   "id": "27025a01",
   "metadata": {},
   "source": [
    "1. Explain the concept of encapsulation in Python. What is its role in object-oriented programming?"
   ]
  },
  {
   "cell_type": "markdown",
   "id": "159086f4",
   "metadata": {},
   "source": [
    "Encapsulation in Python is a fundamental principle of object-oriented programming (OOP) that involves bundling data (attributes) and the methods (functions) that operate on that data into a single unit, known as a class. It allows the internal representation of an object to be hidden from the outside, and access to it is restricted to only through well-defined interfaces.\n",
    "\n",
    "Here's what encapsulation does and its role in OOP:\n",
    "\n",
    "Data Hiding: Encapsulation hides the internal state (attributes or data) of an object from the outside world. This prevents direct access to the object's attributes from outside the class, reducing the risk of accidental or unauthorized modification. Access to the attributes is typically controlled by using getter and setter methods.\n",
    "\n",
    "Controlled Access: By using methods to manipulate the object's data (such as getter and setter methods), encapsulation provides controlled access to the attributes. This allows for validation, manipulation, or computation before setting or retrieving the data.\n",
    "\n",
    "Abstraction: Encapsulation promotes abstraction by presenting a simple interface to interact with the object, hiding complex implementation details. Users of the class don't need to understand the inner workings; they interact with the object through well-defined methods.\n",
    "\n",
    "Flexibility and Maintenance: It facilitates easier maintenance and modification of code. If the internal implementation changes, as long as the external interface remains the same, other parts of the code relying on that class won’t be affected."
   ]
  },
  {
   "cell_type": "markdown",
   "id": "944f29c4",
   "metadata": {},
   "source": [
    "2. Describe the key principles of encapsulation, including access control and data hiding."
   ]
  },
  {
   "cell_type": "raw",
   "id": "c6ec1a91",
   "metadata": {},
   "source": [
    "\n",
    "Absolutely! Encapsulation involves several key principles, primarily focusing on access control and data hiding:\n",
    "\n",
    "Access Control:\n",
    "\n",
    "Public: Methods or attributes that are accessible from outside the class. These can be freely accessed and modified by other parts of the program.\n",
    "Private: Methods or attributes that are restricted within the class and not directly accessible from outside. Access to these elements is limited to the class itself.\n",
    "Data Hiding:\n",
    "\n",
    "Private Attributes: These are data members that are not intended to be accessed directly from outside the class. They are usually designated by naming conventions (like using a leading underscore or double underscore in Python) or specific access modifiers (like private in some other languages).\n",
    "Getters and Setters: Methods that allow controlled access to private attributes. Getter methods retrieve the value of private attributes, while setter methods modify or update the value of private attributes after performing necessary checks or operations.\n",
    "Information Hiding:\n",
    "\n",
    "Encapsulation doesn't just hide data; it also hides the complexity of the underlying implementation. Users interact with objects through an interface (public methods), abstracting away the complexities of the internal workings.\n",
    "Internal changes to the class implementation won't affect the code that uses the class as long as the public interface remains unchanged. This promotes a clear separation between implementation and usage.\n",
    "Encapsulation as a Protective Barrier:\n",
    "\n",
    "Encapsulation acts as a protective barrier that prevents accidental misuse or modification of data by limiting direct access. It ensures that changes to the internal structure of a class won't adversely affect the rest of the program."
   ]
  },
  {
   "cell_type": "markdown",
   "id": "cff5c540",
   "metadata": {},
   "source": [
    "3. How can you achieve encapsulation in Python classes? Provide an example."
   ]
  },
  {
   "cell_type": "raw",
   "id": "aa7e38b8",
   "metadata": {},
   "source": [
    "\n",
    "Encapsulation in Python can be achieved by using certain conventions and language features to control access to attributes and methods within a class. Here's how you can achieve encapsulation:\n",
    "\n",
    "Private Attributes: In Python, there's no strict enforcement of access modifiers like in some other languages. However, a naming convention is followed to signal that an attribute or method should be treated as private. By prefixing an attribute or method name with a double underscore (__), it's intended to be private.\n",
    "\n",
    "Getter and Setter Methods: Create methods to access (getters) and modify (setters) the private attributes. This way, you can control how the attributes are accessed and updated."
   ]
  },
  {
   "cell_type": "code",
   "execution_count": 54,
   "id": "d8cf6bc2",
   "metadata": {},
   "outputs": [
    {
     "name": "stdout",
     "output_type": "stream",
     "text": [
      "Toyota\n"
     ]
    }
   ],
   "source": [
    "class Car:\n",
    "    def __init__(self, make, model):\n",
    "        self.__make = make  # Private attribute\n",
    "        self.__model = model  # Private attribute\n",
    "\n",
    "    # Getter methods\n",
    "    def get_make(self):\n",
    "        return self.__make\n",
    "\n",
    "    def get_model(self):\n",
    "        return self.__model\n",
    "\n",
    "    # Setter methods\n",
    "    def set_make(self, make):\n",
    "        self.__make = make\n",
    "\n",
    "    def set_model(self, model):\n",
    "        self.__model = model\n",
    "\n",
    "# Using the Car class\n",
    "my_car = Car(\"Toyota\", \"Corolla\")\n",
    "print(my_car.get_make())  # Accessing make using getter method\n",
    "my_car.set_model(\"Camry\")  # Modifying model using setter method\n"
   ]
  },
  {
   "cell_type": "markdown",
   "id": "a2f87738",
   "metadata": {},
   "source": [
    "4. Discuss the difference between public, private, and protected access modifiers in Python."
   ]
  },
  {
   "cell_type": "raw",
   "id": "15aef79a",
   "metadata": {},
   "source": [
    "Public Access:\n",
    "\n",
    "Conventional Indicator: No special indicator.\n",
    "Meaning: Members without any specific indicator (like a prefix) are considered public by convention. They can be accessed and modified from inside or outside the class."
   ]
  },
  {
   "cell_type": "code",
   "execution_count": 55,
   "id": "52b96866",
   "metadata": {},
   "outputs": [],
   "source": [
    "class Example:\n",
    "    def __init__(self):\n",
    "        self.variable = 10  # Public attribute\n",
    "        \n",
    "    def method(self):\n",
    "        return \"This is a public method\"\n"
   ]
  },
  {
   "cell_type": "raw",
   "id": "54683ded",
   "metadata": {},
   "source": [
    "Private Access:\n",
    "\n",
    "Conventional Indicator: Double underscore prefix (__).\n",
    "Meaning: Members prefixed with a double underscore are intended to be private. They're accessible only within the class itself, and their names get name-mangled to include the class name (to avoid accidental overriding in subclasses)."
   ]
  },
  {
   "cell_type": "code",
   "execution_count": 56,
   "id": "d39f8e75",
   "metadata": {},
   "outputs": [],
   "source": [
    "class Example:\n",
    "    def __init__(self):\n",
    "        self.__variable = 10  # Private attribute\n",
    "\n",
    "    def __method(self):\n",
    "        return \"This is a private method\"\n"
   ]
  },
  {
   "cell_type": "raw",
   "id": "3003f11f",
   "metadata": {},
   "source": [
    "Protected Access:\n",
    "\n",
    "Conventional Indicator: Single underscore prefix (_).\n",
    "Meaning: Members prefixed with a single underscore are meant to be protected. Although they're not truly protected (Python doesn't enforce this), it signals to other programmers that these members are intended for internal use or for subclasses."
   ]
  },
  {
   "cell_type": "code",
   "execution_count": 57,
   "id": "6f1249c2",
   "metadata": {},
   "outputs": [],
   "source": [
    "class Example:\n",
    "    def __init__(self):\n",
    "        self._variable = 10  # Protected attribute\n",
    "\n",
    "    def _method(self):\n",
    "        return \"This is a protected method\"\n"
   ]
  },
  {
   "cell_type": "markdown",
   "id": "53fd8033",
   "metadata": {},
   "source": [
    "5. Create a Python class called `Person` with a private attribute `__name`. Provide methods to get and set the\n",
    "name attribute."
   ]
  },
  {
   "cell_type": "code",
   "execution_count": 58,
   "id": "2c4b4afc",
   "metadata": {},
   "outputs": [
    {
     "name": "stdout",
     "output_type": "stream",
     "text": [
      "Alice\n",
      "Bob\n"
     ]
    }
   ],
   "source": [
    "class Person:\n",
    "    def __init__(self, name):\n",
    "        self.__name = name  # Private attribute\n",
    "\n",
    "    def get_name(self):\n",
    "        return self.__name  # Getter method for the private attribute\n",
    "\n",
    "    def set_name(self, new_name):\n",
    "        self.__name = new_name  # Setter method to modify the private attribute\n",
    "\n",
    "\n",
    "# Example usage:\n",
    "person = Person(\"Alice\")\n",
    "print(person.get_name())  # Accessing the name attribute using the getter method\n",
    "\n",
    "person.set_name(\"Bob\")  # Modifying the name attribute using the setter method\n",
    "print(person.get_name())  # Accessing the updated name attribute\n"
   ]
  },
  {
   "cell_type": "markdown",
   "id": "ad5016ee",
   "metadata": {},
   "source": [
    "6. Explain the purpose of getter and setter methods in encapsulation. Provide examples."
   ]
  },
  {
   "cell_type": "raw",
   "id": "58efc8f1",
   "metadata": {},
   "source": [
    "Getter Methods:\n",
    "\n",
    "Purpose: Getter methods retrieve the values of private attributes. They provide read-only access to these attributes, allowing other parts of the program to retrieve the attribute's value without directly accessing it.\n",
    "Use Cases: They are useful when you want to expose the value of a private attribute to the outside world while maintaining control over how that value is accessed."
   ]
  },
  {
   "cell_type": "code",
   "execution_count": 59,
   "id": "ec8aef29",
   "metadata": {},
   "outputs": [
    {
     "name": "stdout",
     "output_type": "stream",
     "text": [
      "5\n"
     ]
    }
   ],
   "source": [
    "class Circle:\n",
    "    def __init__(self, radius):\n",
    "        self.__radius = radius\n",
    "\n",
    "    def get_radius(self):\n",
    "        return self.__radius\n",
    "\n",
    "# Using the getter method\n",
    "my_circle = Circle(5)\n",
    "print(my_circle.get_radius())  # Accessing the radius using the getter method\n"
   ]
  },
  {
   "cell_type": "raw",
   "id": "bd6312d1",
   "metadata": {},
   "source": [
    "Setter Methods:\n",
    "\n",
    "Purpose: Setter methods modify the values of private attributes. They provide a way to update the attribute's value while enabling validation or additional operations before assigning the new value.\n",
    "Use Cases: They are helpful when you want to ensure certain conditions are met before updating the attribute's value."
   ]
  },
  {
   "cell_type": "code",
   "execution_count": 60,
   "id": "b154fb9d",
   "metadata": {},
   "outputs": [
    {
     "name": "stdout",
     "output_type": "stream",
     "text": [
      "150\n"
     ]
    }
   ],
   "source": [
    "class BankAccount:\n",
    "    def __init__(self, balance):\n",
    "        self.__balance = balance\n",
    "\n",
    "    def set_balance(self, new_balance):\n",
    "        if new_balance >= 0:\n",
    "            self.__balance = new_balance\n",
    "\n",
    "    def get_balance(self):\n",
    "        return self.__balance\n",
    "\n",
    "# Using the setter method\n",
    "account = BankAccount(100)\n",
    "account.set_balance(150)  # Updating the balance using the setter method\n",
    "print(account.get_balance())  # Accessing the updated balance\n"
   ]
  },
  {
   "cell_type": "markdown",
   "id": "b7f84c3c",
   "metadata": {},
   "source": [
    "7. What is name mangling in Python, and how does it affect encapsulation?"
   ]
  },
  {
   "cell_type": "raw",
   "id": "1a18b00f",
   "metadata": {},
   "source": [
    "Name mangling in Python is a mechanism that alters the name of certain attributes in a way that makes them harder to create conflicts in subclasses. When a name is prefixed with a double underscore (__), Python internally modifies the name of that attribute in a manner that includes the class name.\n",
    "\n",
    "For instance, if a class has an attribute __variable, Python actually renames it to _<className>__variable. This is done to prevent accidental overriding in subclasses.\n",
    "\n",
    "Regarding encapsulation, name mangling contributes to it by making it harder to accidentally override attributes in subclasses. It helps to prevent subclasses from unknowingly accessing or overriding private attributes from their parent class, thus reinforcing the encapsulation principle by making the attribute names more unique and class-specific. However, it doesn’t provide strict enforcement of private access—it's a technique aimed at reducing accidental interference rather than preventing intentional access."
   ]
  },
  {
   "cell_type": "markdown",
   "id": "61722bcc",
   "metadata": {},
   "source": [
    "8. Create a Python class called `BankAccount` with private attributes for the account balance (`__balance`)"
   ]
  },
  {
   "cell_type": "code",
   "execution_count": 61,
   "id": "f5ddce24",
   "metadata": {},
   "outputs": [
    {
     "name": "stdout",
     "output_type": "stream",
     "text": [
      "1000\n",
      "1500\n",
      "1300\n",
      "Insufficient funds\n"
     ]
    }
   ],
   "source": [
    "class BankAccount:\n",
    "    def __init__(self, initial_balance):\n",
    "        self.__balance = initial_balance  # Private attribute for account balance\n",
    "\n",
    "    def get_balance(self):\n",
    "        return self.__balance  # Getter method for the private attribute\n",
    "\n",
    "    def deposit(self, amount):\n",
    "        self.__balance += amount  # Method to deposit into the account\n",
    "\n",
    "    def withdraw(self, amount):\n",
    "        if amount <= self.__balance:\n",
    "            self.__balance -= amount  # Method to withdraw from the account if sufficient balance\n",
    "        else:\n",
    "            print(\"Insufficient funds\")\n",
    "\n",
    "# Example usage:\n",
    "account = BankAccount(1000)  # Creating an account with an initial balance of 1000\n",
    "print(account.get_balance())  # Getting the account balance\n",
    "\n",
    "account.deposit(500)  # Depositing 500 into the account\n",
    "print(account.get_balance())  # Getting the updated balance after deposit\n",
    "\n",
    "account.withdraw(200)  # Withdrawing 200 from the account\n",
    "print(account.get_balance())  # Getting the updated balance after withdrawal\n",
    "\n",
    "account.withdraw(2000)  # Attempting to withdraw more than the available balance\n"
   ]
  },
  {
   "cell_type": "markdown",
   "id": "9bd451e1",
   "metadata": {},
   "source": [
    "9. Discuss the advantages of encapsulation in terms of code maintainability and security."
   ]
  },
  {
   "cell_type": "raw",
   "id": "c42ccfac",
   "metadata": {},
   "source": [
    "Encapsulation offers several advantages in terms of code maintainability and security:\n",
    "\n",
    "Modularity and Maintainability:\n",
    "\n",
    "Encapsulation promotes modularity by keeping the internal implementation details of a class hidden. This separation of concerns allows for easier maintenance and updates since changes to one part of the code don't necessarily affect other parts that rely on the encapsulated class.\n",
    "Modifications to the internal implementation of a class can be made without impacting the rest of the program as long as the external interface remains consistent.\n",
    "Code Security:\n",
    "\n",
    "By restricting direct access to certain data (private attributes) and providing controlled access via getter and setter methods, encapsulation enhances security.\n",
    "It prevents unauthorized or accidental modification of sensitive data within a class, reducing the risk of errors or unintended changes that could compromise the integrity of the system.\n",
    "Abstraction and Simplification:\n",
    "\n",
    "Encapsulation hides the complex implementation details behind a simplified interface. Users of a class interact with well-defined methods without needing to know how those methods are implemented internally.\n",
    "This abstraction simplifies the usage of classes, reducing the cognitive load on programmers and making the code more readable and understandable.\n",
    "Flexibility and Evolution:\n",
    "\n",
    "Encapsulation allows for easier evolution of code over time. Changes to the internal implementation can be made without affecting the code that uses the class, as long as the external interface remains consistent.\n",
    "It enables easier refactoring and updates, facilitating the addition of new functionalities or modifications without causing disruptions to existing code.\n",
    "Reduced Coupling:\n",
    "\n",
    "Encapsulation reduces the coupling between different parts of a program by limiting the dependencies on the internal structure of a class.\n",
    "It allows for a more modular and loosely coupled architecture, making it easier to maintain and extend the codebase without causing widespread ripple effects due to changes in one area.\n",
    "In summary, encapsulation significantly contributes to code maintainability by providing a protective barrier around the data and implementation details of a class. It enhances security by controlling access to sensitive data, promotes code readability, simplifies usage, and facilitates code evolution without compromising existing functionality."
   ]
  },
  {
   "cell_type": "markdown",
   "id": "7082120d",
   "metadata": {},
   "source": [
    "10. How can you access private attributes in Python? Provide an example demonstrating the use of name\n",
    "mangling."
   ]
  },
  {
   "cell_type": "raw",
   "id": "83ce54fb",
   "metadata": {},
   "source": [
    "In Python, private attributes are conventionally marked using a double underscore prefix (__). However, these attributes can still be accessed outside the class using name mangling, which modifies the attribute name by prefixing it with _ClassName to prevent accidental access but doesn't entirely restrict access.\n",
    "\n",
    "Here's an example demonstrating how to access private attributes using name mangling:"
   ]
  },
  {
   "cell_type": "code",
   "execution_count": 62,
   "id": "b63893ee",
   "metadata": {},
   "outputs": [
    {
     "name": "stdout",
     "output_type": "stream",
     "text": [
      "42\n"
     ]
    }
   ],
   "source": [
    "class MyClass:\n",
    "    def __init__(self):\n",
    "        self.__private_attr = 42  # Private attribute\n",
    "\n",
    "# Accessing private attribute using name mangling\n",
    "obj = MyClass()\n",
    "print(obj._MyClass__private_attr)  # Accessing the private attribute using name mangling\n"
   ]
  },
  {
   "cell_type": "raw",
   "id": "8ec5715c",
   "metadata": {},
   "source": [
    "In this example:\n",
    "\n",
    "__private_attr is a private attribute within the MyClass.\n",
    "Outside the class, Python name-mangles the attribute by prefixing it with _MyClass, making it more challenging to access but not entirely impossible.\n",
    "The private attribute is accessed using the modified name (_MyClass__private_attr), allowing retrieval of its value despite its intended privacy.\n",
    "Keep in mind that accessing private attributes in this manner goes against the principle of encapsulation and can lead to unexpected behavior or issues in the code. It's generally recommended to respect the privacy of attributes and use getter and setter methods to interact with them, rather than accessing private attributes directly."
   ]
  },
  {
   "cell_type": "markdown",
   "id": "f10356c2",
   "metadata": {},
   "source": [
    "11. Create a Python class hierarchy for a school system, including classes for students, teachers, and courses,\n",
    "and implement encapsulation principles to protect sensitive information."
   ]
  },
  {
   "cell_type": "code",
   "execution_count": 63,
   "id": "cc1c4b45",
   "metadata": {},
   "outputs": [
    {
     "name": "stdout",
     "output_type": "stream",
     "text": [
      "{'Course ID': 'MATH101', 'Course Name': 'Mathematics Course', 'Teacher': {'Teacher ID': 'T001', 'Name': 'Mr. Smith', 'Department': 'Mathematics'}, 'Students': [{'Student ID': 'S001', 'Name': 'Alice', 'Age': 16}, {'Student ID': 'S002', 'Name': 'Bob', 'Age': 17}]}\n"
     ]
    }
   ],
   "source": [
    "class Student:\n",
    "    def __init__(self, student_id, name, age):\n",
    "        self.__student_id = student_id  # Private attribute for student ID\n",
    "        self.__name = name  # Private attribute for student name\n",
    "        self.__age = age  # Private attribute for student age\n",
    "\n",
    "    def get_student_info(self):\n",
    "        return {\n",
    "            \"Student ID\": self.__student_id,\n",
    "            \"Name\": self.__name,\n",
    "            \"Age\": self.__age\n",
    "        }\n",
    "\n",
    "    # Add other methods as needed...\n",
    "\n",
    "\n",
    "class Teacher:\n",
    "    def __init__(self, teacher_id, name, department):\n",
    "        self.__teacher_id = teacher_id  # Private attribute for teacher ID\n",
    "        self.__name = name  # Private attribute for teacher name\n",
    "        self.__department = department  # Private attribute for teacher department\n",
    "\n",
    "    def get_teacher_info(self):\n",
    "        return {\n",
    "            \"Teacher ID\": self.__teacher_id,\n",
    "            \"Name\": self.__name,\n",
    "            \"Department\": self.__department\n",
    "        }\n",
    "\n",
    "    # Add other methods as needed...\n",
    "\n",
    "\n",
    "class Course:\n",
    "    def __init__(self, course_id, name, teacher, students=None):\n",
    "        self.__course_id = course_id  # Private attribute for course ID\n",
    "        self.__name = name  # Private attribute for course name\n",
    "        self.__teacher = teacher  # Private attribute for course teacher\n",
    "        self.__students = students if students else []  # Private attribute for course students\n",
    "\n",
    "    def add_student(self, student):\n",
    "        self.__students.append(student)  # Method to add a student to the course\n",
    "\n",
    "    def remove_student(self, student):\n",
    "        if student in self.__students:\n",
    "            self.__students.remove(student)  # Method to remove a student from the course\n",
    "\n",
    "    def get_course_info(self):\n",
    "        return {\n",
    "            \"Course ID\": self.__course_id,\n",
    "            \"Course Name\": self.__name,\n",
    "            \"Teacher\": self.__teacher.get_teacher_info(),\n",
    "            \"Students\": [student.get_student_info() for student in self.__students]\n",
    "        }\n",
    "\n",
    "    # Add other methods as needed...\n",
    "\n",
    "# Example usage:\n",
    "\n",
    "# Creating a teacher instance\n",
    "teacher = Teacher(\"T001\", \"Mr. Smith\", \"Mathematics\")\n",
    "\n",
    "# Creating student instances\n",
    "student1 = Student(\"S001\", \"Alice\", 16)\n",
    "student2 = Student(\"S002\", \"Bob\", 17)\n",
    "\n",
    "# Creating a course and adding students\n",
    "math_course = Course(\"MATH101\", \"Mathematics Course\", teacher)\n",
    "math_course.add_student(student1)\n",
    "math_course.add_student(student2)\n",
    "\n",
    "# Retrieving course information\n",
    "print(math_course.get_course_info())\n"
   ]
  },
  {
   "cell_type": "markdown",
   "id": "076782f2",
   "metadata": {},
   "source": [
    "12. Explain the concept of property decorators in Python and how they relate to encapsulation."
   ]
  },
  {
   "cell_type": "raw",
   "id": "c488f980",
   "metadata": {},
   "source": [
    "\n",
    "In Python, property decorators are a way to define properties on a class that allow controlled access to class attributes. They enable the use of getter, setter, and deleter methods under a unified attribute-like syntax, providing a more elegant and Pythonic way to implement encapsulation."
   ]
  },
  {
   "cell_type": "raw",
   "id": "696e5004",
   "metadata": {},
   "source": [
    "@property:\n",
    "\n",
    "Purpose: Decorates a method to define a property, allowing access to an attribute's value as if it were a regular attribute.\n",
    "Getter Method: The method decorated with @property acts as a getter method, allowing access to the attribute.\n",
    "    \n",
    "@<attribute>.setter:\n",
    "\n",
    "Purpose: Decorates a method to define a setter for a property, allowing controlled modification of the attribute's value.\n",
    "Setter Method: The method decorated with @<attribute>.setter is called when attempting to assign a value to the property.\n",
    "    \n",
    "@<attribute>.deleter:\n",
    "\n",
    "Purpose: Decorates a method to define a deleter for a property, allowing controlled deletion of the attribute.\n",
    "Deleter Method: The method decorated with @<attribute>.deleter is called when attempting to delete the property."
   ]
  },
  {
   "cell_type": "markdown",
   "id": "5cb08dae",
   "metadata": {},
   "source": [
    "13. What is data hiding, and why is it important in encapsulation? Provide examples."
   ]
  },
  {
   "cell_type": "raw",
   "id": "ba2362b9",
   "metadata": {},
   "source": [
    "Data hiding is a fundamental concept in object-oriented programming that involves hiding the internal state or data of an object within a class. It restricts direct access to certain attributes or implementation details, allowing access only through controlled interfaces like getter and setter methods.\n",
    "\n",
    "The primary goal of data hiding is to prevent unauthorized or unintended access and modification of class attributes, promoting better code maintainability, security, and flexibility.\n",
    "\n",
    "Here's why data hiding is important in encapsulation:\n",
    "\n",
    "Protection of Internal State:\n",
    "\n",
    "By marking certain attributes as private or hidden, data hiding prevents direct external access. This shields the internal state of an object from external interference, reducing the risk of accidental modification or corruption.\n",
    "Controlled Access:\n",
    "\n",
    "Getter and setter methods provide controlled access to private attributes. This controlled access allows validation, error-checking, or additional operations before accessing or modifying the data.\n",
    "Enhanced Security:\n",
    "\n",
    "Encapsulation through data hiding improves security by preventing unauthorized access to sensitive information. It ensures that access to critical data is limited to authorized methods, reducing vulnerabilities.\n",
    "Abstraction and Simplification:\n",
    "\n",
    "Hiding implementation details simplifies the usage of a class. Users interact with the class through a defined interface, abstracting away the complexity of the internal workings.\n",
    "Code Maintenance and Evolution:\n",
    "\n",
    "Encapsulation via data hiding facilitates code maintenance and evolution. Changes to the internal implementation can be made without affecting the external usage of the class, as long as the public interface remains unchanged."
   ]
  },
  {
   "cell_type": "code",
   "execution_count": 64,
   "id": "42b6fb88",
   "metadata": {},
   "outputs": [],
   "source": [
    "class BankAccount:\n",
    "    def __init__(self, account_number, initial_balance):\n",
    "        self.__account_number = account_number  # Private attribute for account number\n",
    "        self.__balance = initial_balance  # Private attribute for account balance\n",
    "\n",
    "    def get_balance(self):\n",
    "        return self.__balance  # Getter method for balance\n",
    "\n",
    "    def deposit(self, amount):\n",
    "        # Perform necessary validations before depositing\n",
    "        self.__balance += amount\n",
    "\n",
    "    def withdraw(self, amount):\n",
    "        # Check for sufficient funds before withdrawal\n",
    "        if amount <= self.__balance:\n",
    "            self.__balance -= amount\n",
    "        else:\n",
    "            print(\"Insufficient funds\")\n"
   ]
  },
  {
   "cell_type": "markdown",
   "id": "d80ba4ea",
   "metadata": {},
   "source": [
    "14. Create a Python class called `Employee` with private attributes for salary (`__salary`) and employee ID"
   ]
  },
  {
   "cell_type": "code",
   "execution_count": 65,
   "id": "5ca691f9",
   "metadata": {},
   "outputs": [
    {
     "name": "stdout",
     "output_type": "stream",
     "text": [
      "Employee ID: E12345\n",
      "Salary: 50000\n",
      "Updated Salary: 55000\n"
     ]
    }
   ],
   "source": [
    "class Employee:\n",
    "    def __init__(self, employee_id, salary):\n",
    "        self.__employee_id = employee_id  # Private attribute for employee ID\n",
    "        self.__salary = salary  # Private attribute for salary\n",
    "\n",
    "    def get_employee_id(self):\n",
    "        return self.__employee_id  # Getter method for employee ID\n",
    "\n",
    "    def get_salary(self):\n",
    "        return self.__salary  # Getter method for salary\n",
    "\n",
    "    def set_salary(self, new_salary):\n",
    "        self.__salary = new_salary  # Setter method for salary\n",
    "\n",
    "# Example usage:\n",
    "\n",
    "# Creating an employee instance\n",
    "emp = Employee(\"E12345\", 50000)\n",
    "\n",
    "# Accessing private attributes using getter methods\n",
    "print(\"Employee ID:\", emp.get_employee_id())\n",
    "print(\"Salary:\", emp.get_salary())\n",
    "\n",
    "# Modifying salary using setter method\n",
    "emp.set_salary(55000)\n",
    "print(\"Updated Salary:\", emp.get_salary())\n"
   ]
  },
  {
   "cell_type": "markdown",
   "id": "584eb1c5",
   "metadata": {},
   "source": [
    "15. Discuss the use of accessors and mutators in encapsulation. How do they help maintain control over\n",
    "attribute access?"
   ]
  },
  {
   "cell_type": "raw",
   "id": "16d6c4ef",
   "metadata": {},
   "source": [
    "Accessors (Getters):\n",
    "\n",
    "Purpose: Accessor methods (getters) provide read-only access to private attributes by returning their values. They allow external code to retrieve the values of private attributes."
   ]
  },
  {
   "cell_type": "code",
   "execution_count": 66,
   "id": "5c11cd91",
   "metadata": {},
   "outputs": [],
   "source": [
    "class MyClass:\n",
    "    def __init__(self):\n",
    "        self.__attribute = 42  # Private attribute\n",
    "\n",
    "    def get_attribute(self):\n",
    "        return self.__attribute  # Accessor method (getter)\n"
   ]
  },
  {
   "cell_type": "raw",
   "id": "e08bedfc",
   "metadata": {},
   "source": [
    "Mutators (Setters):\n",
    "\n",
    "Purpose: Mutator methods (setters) enable controlled modification of private attributes. They provide a way to modify the values of private attributes, often incorporating validation or additional operations before assignment."
   ]
  },
  {
   "cell_type": "code",
   "execution_count": 67,
   "id": "f6a8ba01",
   "metadata": {},
   "outputs": [],
   "source": [
    "class MyClass:\n",
    "    def __init__(self):\n",
    "        self.__attribute = 42  # Private attribute\n",
    "\n",
    "    def set_attribute(self, new_value):\n",
    "        if new_value >= 0:\n",
    "            self.__attribute = new_value  # Mutator method (setter)\n"
   ]
  },
  {
   "cell_type": "raw",
   "id": "fe7cc1fe",
   "metadata": {},
   "source": [
    "Advantages of Accessors and Mutators in Encapsulation:\n",
    "Controlled Access:\n",
    "\n",
    "Accessors and mutators provide controlled interfaces for getting and setting attribute values. This controlled access ensures that modifications or retrievals follow specific rules or conditions.\n",
    "Validation and Error Handling:\n",
    "\n",
    "Mutators allow validation and error handling before assigning new values to attributes. This helps maintain data integrity and prevents invalid data from entering the system.\n",
    "Abstraction of Implementation Details:\n",
    "\n",
    "By using accessors and mutators, the internal implementation details are abstracted away. Users interact with the class through these methods without needing to know the specifics of the attribute storage or implementation.\n",
    "Facilitates Maintenance and Evolution:\n",
    "\n",
    "Accessors and mutators encapsulate the implementation, making it easier to maintain and update the internal workings of a class without affecting external code that relies on the class."
   ]
  },
  {
   "cell_type": "markdown",
   "id": "fbb53207",
   "metadata": {},
   "source": [
    "16. What are the potential drawbacks or disadvantages of using encapsulation in Python?"
   ]
  },
  {
   "cell_type": "raw",
   "id": "d7d4e5a3",
   "metadata": {},
   "source": [
    "While encapsulation in Python offers numerous advantages in terms of code organization, security, and maintainability, there are some potential drawbacks or challenges to consider:\n",
    "\n",
    "Complexity Overhead:\n",
    "\n",
    "Implementing encapsulation through accessors, mutators, and private attributes can sometimes introduce additional complexity to the codebase. This complexity might make the code harder to understand, especially for simpler classes.\n",
    "Performance Overhead:\n",
    "\n",
    "Accessing attributes through accessor methods (getters and setters) might incur a slight performance cost compared to direct attribute access. However, in many cases, this overhead is negligible and doesn’t significantly impact performance.\n",
    "Boilerplate Code:\n",
    "\n",
    "Implementing getters and setters for every attribute can lead to an increase in boilerplate code, especially in larger classes. This might make the codebase more verbose and harder to maintain.\n",
    "Potential Misuse or Overuse:\n",
    "\n",
    "Encapsulation might lead to excessive use of getters and setters when not necessary, which can obscure the code's intent and readability. Overuse of encapsulation might go against the principle of \"explicit is better than implicit\" in Python.\n",
    "Difficulty in Debugging:\n",
    "\n",
    "Accessing or modifying attributes indirectly through methods (getters/setters) might make it harder to trace the origin of errors or bugs related to attribute access or modification.\n",
    "Limitations in Strictness:\n",
    "\n",
    "Python's private attribute naming convention (using double underscores for name mangling) doesn’t provide strict enforcement of privacy. While it discourages direct access to private attributes, it doesn’t entirely prevent it.\n",
    "Increased Indirection:\n",
    "\n",
    "The use of getters and setters introduces an extra layer of indirection. While this can be advantageous for controlling access, it might also make the code less straightforward and more abstract."
   ]
  },
  {
   "cell_type": "markdown",
   "id": "29430c8d",
   "metadata": {},
   "source": [
    "17. Create a Python class for a library system that encapsulates book information, including titles, authors,\n",
    "and availability status."
   ]
  },
  {
   "cell_type": "code",
   "execution_count": 68,
   "id": "63181787",
   "metadata": {},
   "outputs": [
    {
     "name": "stdout",
     "output_type": "stream",
     "text": [
      "Title: The Hobbit\n",
      "Author: J.R.R. Tolkien\n",
      "Is available: True\n",
      "Book 'The Hobbit' by J.R.R. Tolkien has been borrowed.\n",
      "Sorry, 'The Hobbit' by J.R.R. Tolkien is currently not available.\n",
      "Book 'The Hobbit' by J.R.R. Tolkien has been returned.\n",
      "Is available: True\n"
     ]
    }
   ],
   "source": [
    "class Book:\n",
    "    def __init__(self, title, author):\n",
    "        self.__title = title  # Private attribute for book title\n",
    "        self.__author = author  # Private attribute for book author\n",
    "        self.__available = True  # Private attribute for book availability\n",
    "\n",
    "    def get_title(self):\n",
    "        return self.__title  # Getter method for book title\n",
    "\n",
    "    def get_author(self):\n",
    "        return self.__author  # Getter method for book author\n",
    "\n",
    "    def is_available(self):\n",
    "        return self.__available  # Getter method for book availability\n",
    "\n",
    "    def borrow_book(self):\n",
    "        if self.__available:\n",
    "            self.__available = False\n",
    "            print(f\"Book '{self.__title}' by {self.__author} has been borrowed.\")\n",
    "        else:\n",
    "            print(f\"Sorry, '{self.__title}' by {self.__author} is currently not available.\")\n",
    "\n",
    "    def return_book(self):\n",
    "        self.__available = True\n",
    "        print(f\"Book '{self.__title}' by {self.__author} has been returned.\")\n",
    "\n",
    "# Example usage:\n",
    "\n",
    "# Creating a book instance\n",
    "book1 = Book(\"The Hobbit\", \"J.R.R. Tolkien\")\n",
    "\n",
    "# Accessing book information\n",
    "print(\"Title:\", book1.get_title())\n",
    "print(\"Author:\", book1.get_author())\n",
    "\n",
    "# Checking book availability\n",
    "print(\"Is available:\", book1.is_available())\n",
    "\n",
    "# Borrowing the book\n",
    "book1.borrow_book()\n",
    "\n",
    "# Attempting to borrow the same book again\n",
    "book1.borrow_book()\n",
    "\n",
    "# Returning the book\n",
    "book1.return_book()\n",
    "\n",
    "# Checking book availability after return\n",
    "print(\"Is available:\", book1.is_available())\n"
   ]
  },
  {
   "cell_type": "markdown",
   "id": "669c559f",
   "metadata": {},
   "source": [
    "18. Explain how encapsulation enhances code reusability and modularity in Python programs."
   ]
  },
  {
   "cell_type": "raw",
   "id": "878a5b84",
   "metadata": {},
   "source": [
    "# Encapsulation significantly enhances code reusability and modularity in Python programs by promoting the separation of concerns and facilitating the creation of reusable, independent components. Here's how encapsulation contributes to these aspects:\n",
    "\n",
    "Modularity:\n",
    "\n",
    "Encapsulation encourages breaking down a system into smaller, self-contained modules or classes. Each module encapsulates its functionality and data, allowing for clear boundaries between different parts of the codebase.\n",
    "These modules can be developed, tested, and maintained independently, making the codebase more modular and easier to manage.\n",
    "Separation of Concerns:\n",
    "\n",
    "Encapsulation allows each class or module to focus on a specific aspect of functionality. By hiding the internal implementation details, it exposes only a well-defined interface.\n",
    "This separation of concerns ensures that changes or modifications in one module don't affect other parts of the program, reducing the risk of unintended side effects and making the codebase more maintainable.\n",
    "Reuse of Components:\n",
    "\n",
    "Encapsulated classes or modules can be reused in different parts of the program or in entirely different projects without needing to understand their internal implementation details.\n",
    "By providing well-defined interfaces through encapsulation, these reusable components can be easily integrated into new systems, enhancing code reusability.\n",
    "Abstraction and Interface Standardization:\n",
    "\n",
    "Encapsulation promotes abstraction by hiding complex implementations behind simplified interfaces. Users of a class or module interact with these interfaces without needing to understand the underlying complexity.\n",
    "Standardized interfaces provided by encapsulated components ensure consistency and ease of use, making it simpler to integrate and reuse them in various parts of the program.\n",
    "Encapsulation and Inheritance:\n",
    "\n",
    "Inheritance, another key aspect of object-oriented programming, complements encapsulation. Base classes encapsulate common functionalities, which can be inherited by subclasses.\n",
    "Encapsulated base classes provide well-defined interfaces that subclasses can extend or modify, promoting code reuse while maintaining modularity and encapsulation."
   ]
  },
  {
   "cell_type": "markdown",
   "id": "4c01d504",
   "metadata": {},
   "source": [
    "19. Describe the concept of information hiding in encapsulation. Why is it essential in software development?"
   ]
  },
  {
   "cell_type": "raw",
   "id": "630863b1",
   "metadata": {},
   "source": [
    "Information hiding is a core concept within encapsulation that emphasizes restricting access to certain details of an object or a module, hiding the internal workings or data and exposing only necessary information through well-defined interfaces.\n",
    "\n",
    "Key Points about Information Hiding:\n",
    "Restriction of Access:\n",
    "\n",
    "Information hiding involves controlling access to specific parts of a system, typically by marking them as private or protected. This prevents direct external access to sensitive or implementation-specific details.\n",
    "Exposing Interfaces:\n",
    "\n",
    "Instead of revealing all internal details, information hiding focuses on exposing only necessary interfaces or methods to interact with a module or an object. These interfaces provide a clear and controlled way to interact with the encapsulated data or functionalities.\n",
    "Enhanced Security and Stability:\n",
    "\n",
    "By hiding implementation details, information hiding improves security by preventing unauthorized access to sensitive data or critical functionalities. It also enhances stability by reducing the risk of unintended modifications or dependencies on internal details.\n",
    "Support for Abstraction:\n",
    "\n",
    "Information hiding enables abstraction by allowing users to interact with high-level interfaces without needing to understand the low-level implementation details. This abstraction simplifies the usage of modules or objects.\n",
    "Maintenance and Evolution:\n",
    "\n",
    "It facilitates easier maintenance and evolution of systems by allowing changes to the internal implementation without affecting the external interfaces. This separation between the interface and the implementation helps in making modifications while maintaining compatibility with existing code.\n",
    "Importance in Software Development:\n",
    "Modularity and Maintainability:\n",
    "\n",
    "Information hiding is essential for promoting modularity by separating different parts of a system. It contributes to easier maintenance as changes within one module or object don't affect other parts of the system.\n",
    "Reduced Complexity:\n",
    "\n",
    "It helps manage complexity by providing a clear separation between the interface and the implementation. Users of a module or an object interact with a simplified interface without dealing with the complexities of the underlying implementation.\n",
    "Enhanced Security and Reliability:\n",
    "\n",
    "Information hiding enhances security by protecting sensitive data and critical functionalities from unauthorized access. It also improves reliability by preventing unintended modifications to crucial components.\n",
    "Code Reusability and Extensibility:\n",
    "\n",
    "Encapsulation and information hiding enable the creation of reusable components with well-defined interfaces. These components can be easily integrated into different systems, promoting code reusability and extensibility."
   ]
  },
  {
   "cell_type": "markdown",
   "id": "bcd882bb",
   "metadata": {},
   "source": [
    "20.Create a Python class called `Customer` with private attributes for customer details like name, address,\n",
    "and contact information. Implement encapsulation to ensure data integrity and security."
   ]
  },
  {
   "cell_type": "code",
   "execution_count": 69,
   "id": "c7a104fc",
   "metadata": {},
   "outputs": [
    {
     "name": "stdout",
     "output_type": "stream",
     "text": [
      "Name: John Doe\n",
      "Address: 123 Main St, City\n",
      "Contact Info: john@example.com\n",
      "\n",
      "Updated Address: 456 Park Ave, Town\n",
      "Updated Contact Info: john.doe@example.com\n"
     ]
    }
   ],
   "source": [
    "class Customer:\n",
    "    def __init__(self, name, address, contact_info):\n",
    "        self.__name = name  # Private attribute for customer name\n",
    "        self.__address = address  # Private attribute for customer address\n",
    "        self.__contact_info = contact_info  # Private attribute for customer contact information\n",
    "\n",
    "    def get_name(self):\n",
    "        return self.__name  # Getter method for customer name\n",
    "\n",
    "    def get_address(self):\n",
    "        return self.__address  # Getter method for customer address\n",
    "\n",
    "    def get_contact_info(self):\n",
    "        return self.__contact_info  # Getter method for customer contact information\n",
    "\n",
    "    def update_address(self, new_address):\n",
    "        self.__address = new_address  # Method to update customer address\n",
    "\n",
    "    def update_contact_info(self, new_contact_info):\n",
    "        self.__contact_info = new_contact_info  # Method to update customer contact information\n",
    "\n",
    "# Example usage:\n",
    "\n",
    "# Creating a customer instance\n",
    "customer = Customer(\"John Doe\", \"123 Main St, City\", \"john@example.com\")\n",
    "\n",
    "# Accessing customer information using getters\n",
    "print(\"Name:\", customer.get_name())\n",
    "print(\"Address:\", customer.get_address())\n",
    "print(\"Contact Info:\", customer.get_contact_info())\n",
    "\n",
    "# Updating customer address and contact information\n",
    "customer.update_address(\"456 Park Ave, Town\")\n",
    "customer.update_contact_info(\"john.doe@example.com\")\n",
    "\n",
    "# Retrieving updated information\n",
    "print(\"\\nUpdated Address:\", customer.get_address())\n",
    "print(\"Updated Contact Info:\", customer.get_contact_info())\n"
   ]
  },
  {
   "cell_type": "markdown",
   "id": "e4987ca3",
   "metadata": {},
   "source": [
    "# Polymorphism:"
   ]
  },
  {
   "cell_type": "markdown",
   "id": "c4511159",
   "metadata": {},
   "source": [
    "1.What is polymorphism in Python? Explain how it is related to object-oriented programming."
   ]
  },
  {
   "cell_type": "raw",
   "id": "fac99515",
   "metadata": {},
   "source": [
    "\n",
    "In Python, polymorphism is a core concept in object-oriented programming (OOP) that allows objects of different classes to be treated as objects of a common superclass. It enables a single interface to be used for entities of different types.\n",
    "\n",
    "There are two main types of polymorphism:\n",
    "\n",
    "Compile-time (or static) polymorphism: This is achieved through method overloading and operator overloading. In Python, method overloading isn't directly supported because the language doesn't allow multiple methods with the same name in a class. However, operator overloading is possible by defining methods like __add__, __sub__, etc., which allow the use of +, -, and other operators with custom classes.\n",
    "\n",
    "Run-time (or dynamic) polymorphism: This is implemented using method overriding and is also known as \"subtyping.\" It allows a subclass to provide a specific implementation of a method that is already defined in its superclass. The method in the subclass has the same signature (name and parameters) as the one in the superclass, but it offers a different implementation.\n",
    "Polymorphism allows for more flexible and reusable code by enabling code to work with objects of various types without explicitly knowing their specific class. It enhances code readability, maintainability, and scalability in object-oriented programming paradigms."
   ]
  },
  {
   "cell_type": "markdown",
   "id": "d163c798",
   "metadata": {},
   "source": [
    "2. Describe the difference between compile-time polymorphism and runtime polymorphism in Python."
   ]
  },
  {
   "cell_type": "raw",
   "id": "99e38ceb",
   "metadata": {},
   "source": [
    "\n",
    "In Python, the difference between compile-time (static) polymorphism and runtime (dynamic) polymorphism lies in how they are implemented and when they are resolved.\n",
    "\n",
    "Compile-time polymorphism:\n",
    "\n",
    "Method Overloading: In some programming languages, like Java or C++, method overloading allows defining multiple methods with the same name but different parameters within the same class. The correct method to be executed is determined at compile time based on the number and types of arguments passed. However, Python doesn’t directly support method overloading in the same way because it doesn't allow multiple methods with the same name in a class.\n",
    "\n",
    "Operator Overloading: Python supports operator overloading, which allows operators like +, -, *, /, etc., to behave differently based on the types of operands involved. This behavior is defined by implementing special methods (e.g., __add__, __sub__) in classes.\n",
    "\n",
    "In both cases, the resolution of which method or operation to execute happens at compile time based on the code structure.\n",
    "\n",
    "Runtime polymorphism:\n",
    "\n",
    "Method Overriding: Runtime polymorphism, also known as method overriding, occurs when a subclass provides a specific implementation for a method that is already defined in its superclass. This enables the subclass to provide its own implementation while maintaining the same method signature as the superclass. The resolution of which method to call happens at runtime, based on the actual object type rather than the reference type.\n",
    "In Python, runtime polymorphism is commonly achieved through method overriding, allowing different classes to have methods with the same name and signature, but different behaviors based on the specific class of the object being referred to at runtime."
   ]
  },
  {
   "cell_type": "markdown",
   "id": "7c811daa",
   "metadata": {},
   "source": [
    "3.Create a Python class hierarchy for shapes (e.g., circle, square, triangle) and demonstrate polymorphism\n",
    "through a common method, such as `calculate_area()`."
   ]
  },
  {
   "cell_type": "code",
   "execution_count": 71,
   "id": "5dffb435",
   "metadata": {},
   "outputs": [
    {
     "name": "stdout",
     "output_type": "stream",
     "text": [
      "Area of shape: 78.53981633974483\n",
      "Area of shape: 16\n",
      "Area of shape: 9.0\n"
     ]
    }
   ],
   "source": [
    "import math\n",
    "\n",
    "# Shape class (parent class)\n",
    "class Shape:\n",
    "    def calculate_area(self):\n",
    "        pass  # Placeholder method to be overridden by subclasses\n",
    "\n",
    "# Circle class (subclass of Shape)\n",
    "class Circle(Shape):\n",
    "    def __init__(self, radius):\n",
    "        self.radius = radius\n",
    "\n",
    "    def calculate_area(self):\n",
    "        return math.pi * self.radius ** 2\n",
    "\n",
    "# Square class (subclass of Shape)\n",
    "class Square(Shape):\n",
    "    def __init__(self, side):\n",
    "        self.side = side\n",
    "\n",
    "    def calculate_area(self):\n",
    "        return self.side ** 2\n",
    "\n",
    "# Triangle class (subclass of Shape)\n",
    "class Triangle(Shape):\n",
    "    def __init__(self, base, height):\n",
    "        self.base = base\n",
    "        self.height = height\n",
    "\n",
    "    def calculate_area(self):\n",
    "        return 0.5 * self.base * self.height\n",
    "\n",
    "# Demonstration of polymorphism using calculate_area method\n",
    "shapes = [Circle(5), Square(4), Triangle(3, 6)]\n",
    "\n",
    "for shape in shapes:\n",
    "    print(f\"Area of shape: {shape.calculate_area()}\")\n"
   ]
  },
  {
   "cell_type": "markdown",
   "id": "86fb38ec",
   "metadata": {},
   "source": [
    "4. Explain the concept of method overriding in polymorphism. Provide an example."
   ]
  },
  {
   "cell_type": "markdown",
   "id": "beadae81",
   "metadata": {},
   "source": [
    "Method overriding is a key concept in object-oriented programming that allows a subclass to provide a specific implementation for a method that is already defined in its superclass. When a method is overridden in a subclass, it has the same name, parameters, and return type as the method in the superclass, but it offers a different or more specialized implementation.\n",
    "\n",
    "The primary purpose of method overriding is to provide a way for subclasses to customize the behavior of inherited methods from their superclass according to their own specific requirements."
   ]
  },
  {
   "cell_type": "code",
   "execution_count": 72,
   "id": "763ecff2",
   "metadata": {},
   "outputs": [
    {
     "name": "stdout",
     "output_type": "stream",
     "text": [
      "Woof!\n",
      "Meow!\n"
     ]
    }
   ],
   "source": [
    "class Animal:\n",
    "    def make_sound(self):\n",
    "        print(\"Some generic sound\")\n",
    "\n",
    "class Dog(Animal):\n",
    "    def make_sound(self):\n",
    "        print(\"Woof!\")\n",
    "\n",
    "class Cat(Animal):\n",
    "    def make_sound(self):\n",
    "        print(\"Meow!\")\n",
    "\n",
    "# Using method overriding\n",
    "dog = Dog()\n",
    "cat = Cat()\n",
    "\n",
    "dog.make_sound()  # Output: \"Woof!\"\n",
    "cat.make_sound()  # Output: \"Meow!\"\n"
   ]
  },
  {
   "cell_type": "markdown",
   "id": "7b1b3ee6",
   "metadata": {},
   "source": [
    "5. How is polymorphism different from method overloading in Python? Provide examples for both."
   ]
  },
  {
   "cell_type": "raw",
   "id": "2e2803d1",
   "metadata": {},
   "source": [
    "Polymorphism:\n",
    "Polymorphism refers to the ability of different objects to be treated as instances of the same class but can exhibit different behaviors based on their specific implementations. In Python, polymorphism is mainly achieved through method overriding, allowing subclasses to provide their own implementation of methods inherited from a superclass. Polymorphism enables code to work with different types of objects through a common interface."
   ]
  },
  {
   "cell_type": "code",
   "execution_count": 73,
   "id": "d6d24a08",
   "metadata": {},
   "outputs": [
    {
     "name": "stdout",
     "output_type": "stream",
     "text": [
      "Woof!\n",
      "Meow!\n"
     ]
    }
   ],
   "source": [
    "class Animal:\n",
    "    def make_sound(self):\n",
    "        pass\n",
    "\n",
    "class Dog(Animal):\n",
    "    def make_sound(self):\n",
    "        print(\"Woof!\")\n",
    "\n",
    "class Cat(Animal):\n",
    "    def make_sound(self):\n",
    "        print(\"Meow!\")\n",
    "\n",
    "# Polymorphic behavior\n",
    "animals = [Dog(), Cat()]\n",
    "\n",
    "for animal in animals:\n",
    "    animal.make_sound()\n"
   ]
  },
  {
   "cell_type": "raw",
   "id": "a260f808",
   "metadata": {},
   "source": [
    "Method Overloading:\n",
    "Method overloading allows defining multiple methods in the same class with the same name but different parameters or argument types. In some programming languages like Java or C++, method overloading is a way to provide multiple methods with the same name but different signatures, allowing the compiler to determine which method to call based on the parameters provided.\n",
    "\n",
    "In Python, method overloading in the traditional sense (based on parameter types or count) is not directly supported because Python does not allow multiple methods with the same name in a class."
   ]
  },
  {
   "cell_type": "code",
   "execution_count": 74,
   "id": "e0e7ee17",
   "metadata": {},
   "outputs": [],
   "source": [
    "class Example:\n",
    "    def add(self, a, b):\n",
    "        return a + b\n",
    "\n",
    "    def add(self, a, b, c):\n",
    "        return a + b + c\n",
    "\n",
    "# This won't work as expected due to method overwriting\n",
    "# Example().add(1, 2) would raise an error because the second add method overwrites the first\n"
   ]
  },
  {
   "cell_type": "markdown",
   "id": "06e04473",
   "metadata": {},
   "source": [
    "6. Create a Python class called `Animal` with a method `speak()`. Then, create child classes like `Dog`, `Cat`, and `Bird`, each with their own `speak()` method. Demonstrate polymorphism by calling the `speak()` method\n",
    "on objects of different subclasses."
   ]
  },
  {
   "cell_type": "code",
   "execution_count": 75,
   "id": "bfe9468d",
   "metadata": {},
   "outputs": [
    {
     "name": "stdout",
     "output_type": "stream",
     "text": [
      "Woof!\n",
      "Meow!\n",
      "Chirp!\n"
     ]
    }
   ],
   "source": [
    "class Animal:\n",
    "    def speak(self):\n",
    "        pass  # Placeholder method to be overridden by subclasses\n",
    "\n",
    "class Dog(Animal):\n",
    "    def speak(self):\n",
    "        return \"Woof!\"\n",
    "\n",
    "class Cat(Animal):\n",
    "    def speak(self):\n",
    "        return \"Meow!\"\n",
    "\n",
    "class Bird(Animal):\n",
    "    def speak(self):\n",
    "        return \"Chirp!\"\n",
    "\n",
    "# Demonstration of polymorphism using speak() method\n",
    "animals = [Dog(), Cat(), Bird()]\n",
    "\n",
    "for animal in animals:\n",
    "    print(animal.speak())\n"
   ]
  },
  {
   "cell_type": "markdown",
   "id": "11ec8969",
   "metadata": {},
   "source": [
    "7. Discuss the use of abstract methods and classes in achieving polymorphism in Python. Provide an example\n",
    "using the `abc` module."
   ]
  },
  {
   "cell_type": "raw",
   "id": "60185ece",
   "metadata": {},
   "source": [
    "# Abstract methods and classes in Python, implemented through the abc (Abstract Base Classes) module, allow you to define a blueprint for classes and methods without providing their implementation. They play a crucial role in achieving polymorphism by ensuring that subclasses provide their own implementation for certain methods.\n",
    "\n",
    "Here's an example using the abc module to create an abstract class Shape with an abstract method calculate_area(). Subclasses (Circle, Square, and Triangle) will inherit from Shape and must override the calculate_area() method, ensuring polymorphic behavior:"
   ]
  },
  {
   "cell_type": "code",
   "execution_count": 76,
   "id": "03a948ad",
   "metadata": {},
   "outputs": [
    {
     "name": "stdout",
     "output_type": "stream",
     "text": [
      "Area of shape: 78.53975\n",
      "Area of shape: 16\n",
      "Area of shape: 9.0\n"
     ]
    }
   ],
   "source": [
    "from abc import ABC, abstractmethod\n",
    "\n",
    "# Abstract class Shape with an abstract method calculate_area()\n",
    "class Shape(ABC):\n",
    "    @abstractmethod\n",
    "    def calculate_area(self):\n",
    "        pass\n",
    "\n",
    "# Subclasses inheriting from Shape and implementing calculate_area()\n",
    "class Circle(Shape):\n",
    "    def __init__(self, radius):\n",
    "        self.radius = radius\n",
    "\n",
    "    def calculate_area(self):\n",
    "        return 3.14159 * self.radius ** 2\n",
    "\n",
    "class Square(Shape):\n",
    "    def __init__(self, side):\n",
    "        self.side = side\n",
    "\n",
    "    def calculate_area(self):\n",
    "        return self.side ** 2\n",
    "\n",
    "class Triangle(Shape):\n",
    "    def __init__(self, base, height):\n",
    "        self.base = base\n",
    "        self.height = height\n",
    "\n",
    "    def calculate_area(self):\n",
    "        return 0.5 * self.base * self.height\n",
    "\n",
    "# Usage of polymorphism through the Shape class\n",
    "shapes = [Circle(5), Square(4), Triangle(3, 6)]\n",
    "\n",
    "for shape in shapes:\n",
    "    print(f\"Area of shape: {shape.calculate_area()}\")\n"
   ]
  },
  {
   "cell_type": "markdown",
   "id": "84c1f86d",
   "metadata": {},
   "source": [
    "8. Create a Python class hierarchy for a vehicle system (e.g., car, bicycle, boat) and implement a polymorphic `start()` method that prints a message specific to each vehicle type."
   ]
  },
  {
   "cell_type": "code",
   "execution_count": 77,
   "id": "65da3d63",
   "metadata": {},
   "outputs": [
    {
     "name": "stdout",
     "output_type": "stream",
     "text": [
      "Car engine started. Ready to go!\n",
      "Pedaling the bicycle. Let's ride!\n",
      "Boat engine started. Set sail!\n"
     ]
    }
   ],
   "source": [
    "class Vehicle:\n",
    "    def start(self):\n",
    "        pass  # Placeholder method to be overridden by subclasses\n",
    "\n",
    "class Car(Vehicle):\n",
    "    def start(self):\n",
    "        return \"Car engine started. Ready to go!\"\n",
    "\n",
    "class Bicycle(Vehicle):\n",
    "    def start(self):\n",
    "        return \"Pedaling the bicycle. Let's ride!\"\n",
    "\n",
    "class Boat(Vehicle):\n",
    "    def start(self):\n",
    "        return \"Boat engine started. Set sail!\"\n",
    "\n",
    "# Demonstration of polymorphic behavior using start() method\n",
    "vehicles = [Car(), Bicycle(), Boat()]\n",
    "\n",
    "for vehicle in vehicles:\n",
    "    print(vehicle.start())\n"
   ]
  },
  {
   "cell_type": "markdown",
   "id": "862be731",
   "metadata": {},
   "source": [
    "9. Explain the significance of the `isinstance()` and `issubclass()` functions in Python polymorphism."
   ]
  },
  {
   "cell_type": "raw",
   "id": "120643a0",
   "metadata": {},
   "source": [
    "isinstance()\n",
    "The isinstance() function checks if an object is an instance of a specified class or any subclass of that class. It helps in determining the type of an object at runtime and facilitates conditional behavior based on the object's class hierarchy."
   ]
  },
  {
   "cell_type": "code",
   "execution_count": 78,
   "id": "2ee6338c",
   "metadata": {},
   "outputs": [
    {
     "name": "stdout",
     "output_type": "stream",
     "text": [
      "True\n",
      "True\n",
      "True\n"
     ]
    }
   ],
   "source": [
    "class Animal:\n",
    "    pass\n",
    "\n",
    "class Dog(Animal):\n",
    "    pass\n",
    "\n",
    "dog = Dog()\n",
    "\n",
    "print(isinstance(dog, Dog))     # Output: True\n",
    "print(isinstance(dog, Animal))  # Output: True (Dog is an Animal)\n",
    "print(isinstance(dog, object))  # Output: True (All classes inherit from object)\n"
   ]
  },
  {
   "cell_type": "raw",
   "id": "aa6f2835",
   "metadata": {},
   "source": [
    "issubclass()\n",
    "The issubclass() function checks if a given class is a subclass of another class. It's useful for checking class relationships and inheritance."
   ]
  },
  {
   "cell_type": "code",
   "execution_count": 79,
   "id": "3f698a18",
   "metadata": {},
   "outputs": [
    {
     "name": "stdout",
     "output_type": "stream",
     "text": [
      "True\n",
      "True\n",
      "True\n"
     ]
    }
   ],
   "source": [
    "class Animal:\n",
    "    pass\n",
    "\n",
    "class Dog(Animal):\n",
    "    pass\n",
    "\n",
    "print(issubclass(Dog, Animal))    # Output: True (Dog is a subclass of Animal)\n",
    "print(issubclass(Animal, object)) # Output: True (Animal is a subclass of object)\n",
    "print(issubclass(Dog, object))    # Output: True (Dog is a subclass of object)\n"
   ]
  },
  {
   "cell_type": "raw",
   "id": "34bd1877",
   "metadata": {},
   "source": [
    "Significance in Polymorphism\n",
    "Conditional Execution: isinstance() is often used in polymorphic code to conditionally execute logic based on the type of an object. For instance, in a method that needs to handle different types of objects in a different way based on their class.\n",
    "\n",
    "Duck Typing: It allows you to perform operations on objects without necessarily checking their specific types. Instead, you can check if an object supports the methods or attributes you require using isinstance().\n",
    "\n",
    "Hierarchy Checking: issubclass() helps ensure that a certain class adheres to a certain class hierarchy, which is essential when working with abstract classes or designing inheritance-based systems.\n",
    "\n",
    "Overall, isinstance() and issubclass() are valuable tools for ensuring proper class relationships, handling polymorphic behavior, and writing code that accommodates various types of objects or classes in Python."
   ]
  },
  {
   "cell_type": "markdown",
   "id": "628ac248",
   "metadata": {},
   "source": [
    "10. What is the role of the `@abstractmethod` decorator in achieving polymorphism in Python? Provide an\n",
    "example."
   ]
  },
  {
   "cell_type": "markdown",
   "id": "ec5c1245",
   "metadata": {},
   "source": [
    "\n",
    "The @abstractmethod decorator, available in the abc (Abstract Base Classes) module, is used to define abstract methods within abstract classes. Abstract methods are methods without an implementation in the superclass but must be implemented in their subclasses. This decorator ensures that subclasses provide their own implementation for the abstract methods, thus enforcing polymorphic behavior.\n",
    "\n",
    "Here's an example demonstrating the use of @abstractmethod in achieving polymorphism"
   ]
  },
  {
   "cell_type": "code",
   "execution_count": 80,
   "id": "ad8baeaf",
   "metadata": {},
   "outputs": [
    {
     "name": "stdout",
     "output_type": "stream",
     "text": [
      "Woof!\n",
      "Meow!\n",
      "Chirp!\n"
     ]
    }
   ],
   "source": [
    "from abc import ABC, abstractmethod\n",
    "\n",
    "# Abstract class Animal with an abstract method speak()\n",
    "class Animal(ABC):\n",
    "    @abstractmethod\n",
    "    def speak(self):\n",
    "        pass\n",
    "\n",
    "# Subclasses inheriting from Animal and implementing speak()\n",
    "class Dog(Animal):\n",
    "    def speak(self):\n",
    "        return \"Woof!\"\n",
    "\n",
    "class Cat(Animal):\n",
    "    def speak(self):\n",
    "        return \"Meow!\"\n",
    "\n",
    "class Bird(Animal):\n",
    "    def speak(self):\n",
    "        return \"Chirp!\"\n",
    "\n",
    "# Demonstration of polymorphic behavior using the Animal class\n",
    "animals = [Dog(), Cat(), Bird()]\n",
    "\n",
    "for animal in animals:\n",
    "    print(animal.speak())\n"
   ]
  },
  {
   "cell_type": "markdown",
   "id": "65c86279",
   "metadata": {},
   "source": [
    "11. Create a Python class called `Shape` with a polymorphic method `area()` that calculates the area of different shapes (e.g., circle, rectangle, triangle)."
   ]
  },
  {
   "cell_type": "code",
   "execution_count": null,
   "id": "0321d4ec",
   "metadata": {},
   "outputs": [],
   "source": [
    "import math\n",
    "\n",
    "class Shape:\n",
    "    def area(self):\n",
    "        pass  # Placeholder method to be overridden by subclasses\n",
    "\n",
    "class Circle(Shape):\n",
    "    def __init__(self, radius):\n",
    "        self.radius = radius\n",
    "\n",
    "    def area(self):\n",
    "        return math.pi * self.radius ** 2\n",
    "\n",
    "class Rectangle(Shape):\n",
    "    def __init__(self, width, height):\n",
    "        self.width = width\n",
    "        self.height = height\n",
    "\n",
    "    def area(self):\n",
    "        return self.width * self.height\n",
    "\n",
    "class Triangle(Shape):\n",
    "    def __init__(self, base, height):\n",
    "        self.base = base\n",
    "        self.height = height\n",
    "\n",
    "    def area(self):\n",
    "        return 0.5 * self.base * self.height\n",
    "\n",
    "# Demonstration of polymorphic behavior using the area() method\n",
    "shapes = [Circle(5), Rectangle(4, 6), Triangle(3, 7)]\n",
    "\n",
    "for shape in shapes:\n",
    "    print(f\"Area of shape: {shape.area()}\")\n"
   ]
  },
  {
   "cell_type": "markdown",
   "id": "31f54083",
   "metadata": {},
   "source": [
    "12. Discuss the benefits of polymorphism in terms of code reusability and flexibility in Python programs."
   ]
  },
  {
   "cell_type": "raw",
   "id": "58df8057",
   "metadata": {},
   "source": [
    "Polymorphism in Python offers several benefits that significantly enhance code reusability, flexibility, and maintainability in programs:\n",
    "\n",
    "Code Reusability:\n",
    "Interface Standardization: Polymorphism allows defining a common interface through abstract classes or interfaces, enabling different classes to implement their specific behaviors while adhering to the same interface. This promotes consistency and makes it easier to reuse code across various implementations.\n",
    "\n",
    "Inheritance and Subtyping: Through inheritance and method overriding, polymorphism enables subclasses to reuse methods and behaviors defined in their superclasses, reducing redundancy and promoting a hierarchical structure where common functionalities are shared among related classes.\n",
    "\n",
    "Flexibility:\n",
    "Dynamic Binding: Polymorphism enables dynamic method binding, where the actual method to be executed is determined at runtime based on the type of object. This flexibility allows for different implementations of the same method to be called depending on the object type, promoting adaptability and extensibility in the code.\n",
    "\n",
    "Easier Maintenance: Code becomes more maintainable as changes or enhancements can be made in specific subclasses without affecting the entire codebase. This modularity allows for easier updates and modifications without impacting other parts of the program.\n",
    "\n",
    "Extensibility and Scalability:\n",
    "Adding New Functionality: With polymorphism, it's easier to add new classes or behaviors without modifying existing code. New subclasses can be created to extend functionality without altering the structure or behavior of the existing codebase, promoting scalability.\n",
    "\n",
    "Plug-and-Play Components: Polymorphic behavior allows for interchangeable components. For instance, if a method expects an object of a specific superclass, any subclass that adheres to the superclass interface can be used interchangeably, enhancing modularity and ease of integration.\n",
    "\n",
    "Readability and Maintainability:\n",
    "Clearer Code Structure: Polymorphism encourages a clear and organized code structure by promoting a hierarchical relationship among classes, making the code more understandable and easier to maintain.\n",
    "\n",
    "Reduced Code Duplication: By promoting inheritance and method overriding, polymorphism helps reduce code duplication by allowing shared functionalities to exist in a common superclass, avoiding the need for redundant code across subclasses."
   ]
  },
  {
   "cell_type": "raw",
   "id": "8f80481b",
   "metadata": {},
   "source": [
    "13. Explain the use of the `super()` function in Python polymorphism. How does it help call methods of parent\n",
    "classes?"
   ]
  },
  {
   "cell_type": "raw",
   "id": "e6b60c37",
   "metadata": {},
   "source": [
    "\n",
    "The super() function in Python plays a crucial role in accessing and invoking methods or properties from a superclass within a subclass. It facilitates the calling of methods or accessing attributes defined in the parent class, enabling better code organization and maintaining a clear hierarchy among classes.\n",
    "\n",
    "How super() works:\n",
    "Accessing Superclass Methods: When used within a subclass, super() allows you to access methods or attributes of the superclass by providing a proxy object that references the superclass.\n",
    "\n",
    "Method Resolution Order (MRO): super() works in conjunction with Python's Method Resolution Order (MRO), which defines the order in which Python searches for methods in a class hierarchy. It follows the linearization principle to determine the order of method resolution among classes in multiple inheritance scenarios.\n",
    "\n",
    "Calling Methods from Parent Classes: By using super(), you can call a method from the superclass, even if the subclass has overridden that method. This allows for method chaining, where the subclass can extend or modify the behavior of the superclass method while still invoking the superclass implementation."
   ]
  },
  {
   "cell_type": "code",
   "execution_count": 82,
   "id": "fa847617",
   "metadata": {},
   "outputs": [
    {
     "name": "stdout",
     "output_type": "stream",
     "text": [
      "Inside Parent class\n",
      "Inside Child class\n"
     ]
    }
   ],
   "source": [
    "class Parent:\n",
    "    def show(self):\n",
    "        print(\"Inside Parent class\")\n",
    "\n",
    "class Child(Parent):\n",
    "    def show(self):\n",
    "        super().show()  # Calling the show() method of the Parent class\n",
    "        print(\"Inside Child class\")\n",
    "\n",
    "# Creating an instance of Child class\n",
    "child_obj = Child()\n",
    "\n",
    "# Calling the show() method of the Child class\n",
    "child_obj.show()\n"
   ]
  },
  {
   "cell_type": "markdown",
   "id": "822b445b",
   "metadata": {},
   "source": [
    "14. Create a Python class hierarchy for a banking system with various account types (e.g., savings, checking,"
   ]
  },
  {
   "cell_type": "code",
   "execution_count": 83,
   "id": "1869d798",
   "metadata": {},
   "outputs": [
    {
     "name": "stdout",
     "output_type": "stream",
     "text": [
      "Deposited $1000. Current balance: $1500\n",
      "Added interest. Current balance: $1575.0\n",
      "Withdrew $200. Current balance: $1375.0\n",
      "Withdrew $150. Current balance: $-50\n",
      "Withdrew $800. Current balance: $-500\n"
     ]
    }
   ],
   "source": [
    "class Account:\n",
    "    def __init__(self, account_number, balance=0):\n",
    "        self.account_number = account_number\n",
    "        self.balance = balance\n",
    "\n",
    "    def deposit(self, amount):\n",
    "        self.balance += amount\n",
    "        print(f\"Deposited ${amount}. Current balance: ${self.balance}\")\n",
    "\n",
    "    def withdraw(self, amount):\n",
    "        if self.balance >= amount:\n",
    "            self.balance -= amount\n",
    "            print(f\"Withdrew ${amount}. Current balance: ${self.balance}\")\n",
    "        else:\n",
    "            print(\"Insufficient funds\")\n",
    "\n",
    "    def display_balance(self):\n",
    "        print(f\"Account Number: {self.account_number}\\nBalance: ${self.balance}\")\n",
    "\n",
    "\n",
    "class SavingsAccount(Account):\n",
    "    def __init__(self, account_number, balance=0, interest_rate=0.05):\n",
    "        super().__init__(account_number, balance)\n",
    "        self.interest_rate = interest_rate\n",
    "\n",
    "    def add_interest(self):\n",
    "        interest = self.balance * self.interest_rate\n",
    "        self.balance += interest\n",
    "        print(f\"Added interest. Current balance: ${self.balance}\")\n",
    "\n",
    "\n",
    "class CheckingAccount(Account):\n",
    "    def __init__(self, account_number, balance=0, overdraft_limit=100):\n",
    "        super().__init__(account_number, balance)\n",
    "        self.overdraft_limit = overdraft_limit\n",
    "\n",
    "    def withdraw(self, amount):\n",
    "        if self.balance + self.overdraft_limit >= amount:\n",
    "            self.balance -= amount\n",
    "            print(f\"Withdrew ${amount}. Current balance: ${self.balance}\")\n",
    "        else:\n",
    "            print(\"Transaction declined: Insufficient funds with overdraft\")\n",
    "\n",
    "\n",
    "class CreditAccount(Account):\n",
    "    def __init__(self, account_number, balance=0, credit_limit=1000):\n",
    "        super().__init__(account_number, balance)\n",
    "        self.credit_limit = credit_limit\n",
    "\n",
    "    def withdraw(self, amount):\n",
    "        if self.balance + self.credit_limit >= amount:\n",
    "            self.balance -= amount\n",
    "            print(f\"Withdrew ${amount}. Current balance: ${self.balance}\")\n",
    "        else:\n",
    "            print(\"Transaction declined: Exceeds credit limit\")\n",
    "\n",
    "\n",
    "# Example usage\n",
    "savings = SavingsAccount(\"SAV-123\", 500)\n",
    "savings.deposit(1000)\n",
    "savings.add_interest()\n",
    "savings.withdraw(200)\n",
    "\n",
    "checking = CheckingAccount(\"CHK-456\", 100)\n",
    "checking.withdraw(150)\n",
    "\n",
    "credit = CreditAccount(\"CRD-789\", 300)\n",
    "credit.withdraw(800)\n"
   ]
  },
  {
   "cell_type": "markdown",
   "id": "2296e386",
   "metadata": {},
   "source": [
    "15. Describe the concept of operator overloading in Python and how it relates to polymorphism. Provide\n",
    "examples using operators like `+` and `*`."
   ]
  },
  {
   "cell_type": "raw",
   "id": "98ec238d",
   "metadata": {},
   "source": [
    "\n",
    "Operator overloading in Python involves defining or redefining the behavior of operators such as +, -, *, /, etc., for custom classes. It allows instances of user-defined classes to use these operators with specific meanings or operations relevant to those classes.\n",
    "\n",
    "Operator Overloading and Polymorphism:\n",
    "Operator overloading is closely related to polymorphism as it enables different classes to respond to the same operator in different ways. This facilitates polymorphic behavior, where the same operator performs different actions based on the types of objects it operates on."
   ]
  },
  {
   "cell_type": "raw",
   "id": "b883d2f0",
   "metadata": {},
   "source": [
    "Addition Operator +:"
   ]
  },
  {
   "cell_type": "code",
   "execution_count": 84,
   "id": "4276faac",
   "metadata": {},
   "outputs": [
    {
     "name": "stdout",
     "output_type": "stream",
     "text": [
      "(5, 9)\n"
     ]
    }
   ],
   "source": [
    "class Vector:\n",
    "    def __init__(self, x, y):\n",
    "        self.x = x\n",
    "        self.y = y\n",
    "\n",
    "    def __add__(self, other):\n",
    "        return Vector(self.x + other.x, self.y + other.y)\n",
    "\n",
    "    def __str__(self):\n",
    "        return f\"({self.x}, {self.y})\"\n",
    "\n",
    "v1 = Vector(2, 4)\n",
    "v2 = Vector(3, 5)\n",
    "result = v1 + v2\n",
    "print(result)  # Output: (5, 9)\n"
   ]
  },
  {
   "cell_type": "code",
   "execution_count": 85,
   "id": "d595b3af",
   "metadata": {},
   "outputs": [
    {
     "name": "stdout",
     "output_type": "stream",
     "text": [
      "(6, 9)\n"
     ]
    }
   ],
   "source": [
    "# multiplication operator\n",
    "\n",
    "class Point:\n",
    "    def __init__(self, x, y):\n",
    "        self.x = x\n",
    "        self.y = y\n",
    "\n",
    "    def __mul__(self, scalar):\n",
    "        return Point(self.x * scalar, self.y * scalar)\n",
    "\n",
    "    def __str__(self):\n",
    "        return f\"({self.x}, {self.y})\"\n",
    "\n",
    "p1 = Point(2, 3)\n",
    "scaled = p1 * 3\n",
    "print(scaled)  # Output: (6, 9)\n"
   ]
  },
  {
   "cell_type": "raw",
   "id": "9321e8f5",
   "metadata": {},
   "source": [
    "Operator overloading allows for intuitive and natural usage of operators with user-defined objects, enabling polymorphic behavior where the same operator performs different actions based on the types of objects involved. This enhances code readability and promotes the use of custom classes in a more familiar and expressive way."
   ]
  },
  {
   "cell_type": "markdown",
   "id": "5fdcf8d9",
   "metadata": {},
   "source": [
    "16. What is dynamic polymorphism, and how is it achieved in Python?"
   ]
  },
  {
   "cell_type": "raw",
   "id": "5810a1f8",
   "metadata": {},
   "source": [
    "\n",
    "Dynamic polymorphism, also known as runtime polymorphism, refers to the ability of a programming language to execute different methods or behaviors of objects at runtime based on their actual type or class. In dynamic polymorphism, the decision of which method to call is made during program execution.\n",
    "\n",
    "Achieving Dynamic Polymorphism in Python:\n",
    "Python achieves dynamic polymorphism through method overriding and the concept of late binding or dynamic method resolution. This is primarily facilitated by the following mechanisms:\n",
    "\n",
    "Method Overriding: Subclasses can provide their own implementation of methods that are already defined in their superclasses. When the same method name exists in both the superclass and subclass, the subclass method overrides the superclass method.\n",
    "\n",
    "Inheritance: Python supports inheritance, allowing subclasses to inherit methods and attributes from their superclasses. This enables a subclass to inherit and override methods, thereby exhibiting polymorphic behavior.\n",
    "\n",
    "Dynamic Method Resolution: Method calls in Python are resolved dynamically at runtime based on the actual type of the object, rather than the type of the reference to the object. This is contrary to static or compile-time binding found in some other languages."
   ]
  },
  {
   "cell_type": "code",
   "execution_count": 86,
   "id": "b6a6f569",
   "metadata": {},
   "outputs": [
    {
     "name": "stdout",
     "output_type": "stream",
     "text": [
      "Woof!\n",
      "Meow!\n"
     ]
    }
   ],
   "source": [
    "class Animal:\n",
    "    def make_sound(self):\n",
    "        print(\"Some generic sound\")\n",
    "\n",
    "class Dog(Animal):\n",
    "    def make_sound(self):\n",
    "        print(\"Woof!\")\n",
    "\n",
    "class Cat(Animal):\n",
    "    def make_sound(self):\n",
    "        print(\"Meow!\")\n",
    "\n",
    "# Dynamic polymorphism\n",
    "animals = [Dog(), Cat()]\n",
    "\n",
    "for animal in animals:\n",
    "    animal.make_sound()  # Calls the respective make_sound() method based on the actual object type\n"
   ]
  },
  {
   "cell_type": "markdown",
   "id": "c8318bb8",
   "metadata": {},
   "source": [
    "17. Create a Python class hierarchy for employees in a company (e.g., manager, developer, designer) and implement polymorphism through a common `calculate_salary()` method."
   ]
  },
  {
   "cell_type": "code",
   "execution_count": 87,
   "id": "a2eae4a7",
   "metadata": {},
   "outputs": [
    {
     "name": "stdout",
     "output_type": "stream",
     "text": [
      "John's salary: $5000\n",
      "Alice's salary: $8000\n",
      "Bob's salary: $2500\n"
     ]
    }
   ],
   "source": [
    "class Employee:\n",
    "    def __init__(self, name):\n",
    "        self.name = name\n",
    "\n",
    "    def calculate_salary(self):\n",
    "        pass  # Placeholder method to be overridden by subclasses\n",
    "\n",
    "class Manager(Employee):\n",
    "    def __init__(self, name, salary):\n",
    "        super().__init__(name)\n",
    "        self.salary = salary\n",
    "\n",
    "    def calculate_salary(self):\n",
    "        return self.salary  # Manager's salary calculation logic\n",
    "\n",
    "class Developer(Employee):\n",
    "    def __init__(self, name, hourly_rate, hours_worked):\n",
    "        super().__init__(name)\n",
    "        self.hourly_rate = hourly_rate\n",
    "        self.hours_worked = hours_worked\n",
    "\n",
    "    def calculate_salary(self):\n",
    "        return self.hourly_rate * self.hours_worked  # Developer's salary calculation logic\n",
    "\n",
    "class Designer(Employee):\n",
    "    def __init__(self, name, monthly_fee):\n",
    "        super().__init__(name)\n",
    "        self.monthly_fee = monthly_fee\n",
    "\n",
    "    def calculate_salary(self):\n",
    "        return self.monthly_fee  # Designer's salary calculation logic\n",
    "\n",
    "# Demonstration of polymorphic behavior using calculate_salary() method\n",
    "employees = [\n",
    "    Manager(\"John\", 5000),\n",
    "    Developer(\"Alice\", 50, 160),\n",
    "    Designer(\"Bob\", 2500)\n",
    "]\n",
    "\n",
    "for employee in employees:\n",
    "    print(f\"{employee.name}'s salary: ${employee.calculate_salary()}\")\n"
   ]
  },
  {
   "cell_type": "markdown",
   "id": "1f5c3bbb",
   "metadata": {},
   "source": [
    "18. Discuss the concept of function pointers and how they can be used to achieve polymorphism in Python."
   ]
  },
  {
   "cell_type": "raw",
   "id": "601a748d",
   "metadata": {},
   "source": [
    "In Python, function pointers aren't explicitly used as in some other programming languages, but the concept of function pointers aligns with Python's support for first-class functions, which are functions that can be treated like any other object, including passing them as arguments to other functions, returning them from functions, or storing them in data structures.\n",
    "\n",
    "Achieving Polymorphism with First-Class Functions:\n",
    "Passing Functions as Arguments:\n",
    "You can achieve polymorphism by passing different functions as arguments to a common function. This allows you to execute different behaviors based on the function passed, similar to how function pointers work in other languages."
   ]
  },
  {
   "cell_type": "code",
   "execution_count": 88,
   "id": "c93d7c10",
   "metadata": {},
   "outputs": [],
   "source": [
    "def add(a, b):\n",
    "    return a + b\n",
    "\n",
    "def subtract(a, b):\n",
    "    return a - b\n",
    "\n",
    "def perform_operation(operation, a, b):\n",
    "    return operation(a, b)\n",
    "\n",
    "result_add = perform_operation(add, 5, 3)  # Result: 8\n",
    "result_subtract = perform_operation(subtract, 10, 4)  # Result: 6\n"
   ]
  },
  {
   "cell_type": "raw",
   "id": "611f6122",
   "metadata": {},
   "source": [
    "Storing Functions in Data Structures:\n",
    "Functions can be stored in data structures like lists or dictionaries, allowing you to select and call different functions dynamically."
   ]
  },
  {
   "cell_type": "code",
   "execution_count": 89,
   "id": "a0f8aa9a",
   "metadata": {},
   "outputs": [],
   "source": [
    "def multiply(a, b):\n",
    "    return a * b\n",
    "\n",
    "operations = {'add': add, 'multiply': multiply}\n",
    "\n",
    "result_multiply = operations['multiply'](2, 4)  # Result: 8\n"
   ]
  },
  {
   "cell_type": "raw",
   "id": "a114c569",
   "metadata": {},
   "source": [
    "Higher-Order Functions:\n",
    "Functions that take other functions as arguments or return functions can facilitate polymorphic behavior by dynamically selecting and executing different functions."
   ]
  },
  {
   "cell_type": "code",
   "execution_count": 90,
   "id": "783262ce",
   "metadata": {},
   "outputs": [],
   "source": [
    "def apply_operation(operation):\n",
    "    def wrapper(a, b):\n",
    "        return operation(a, b)\n",
    "    return wrapper\n",
    "\n",
    "add_operation = apply_operation(add)\n",
    "result = add_operation(7, 3)  "
   ]
  },
  {
   "cell_type": "markdown",
   "id": "456d7e6e",
   "metadata": {},
   "source": [
    "19. Explain the role of interfaces and abstract classes in polymorphism, drawing comparisons between them."
   ]
  },
  {
   "cell_type": "raw",
   "id": "8d8f350c",
   "metadata": {},
   "source": [
    "nterfaces and abstract classes play crucial roles in achieving polymorphism by defining blueprints for classes and methods, but they differ in their implementations and purposes in object-oriented programming.\n",
    "\n",
    "Interfaces:\n",
    "Definition: Interfaces in programming languages define a contract or a set of methods that a class must implement. They contain method signatures but no implementations.\n",
    "\n",
    "Purpose: Interfaces establish a common set of behaviors that classes should adhere to, ensuring that any class implementing the interface provides specific functionalities. They focus on what a class should do without specifying how it should be done.\n",
    "\n",
    "Python Implementation: Python doesn't have explicit support for interfaces as seen in languages like Java or C#. However, interfaces can be emulated using abstract classes with methods having no implementation (similar to the use of abstract methods in Python's abc module).\n",
    "\n",
    "Example:\n",
    "\n",
    "python\n",
    "Copy code\n",
    "from abc import ABC, abstractmethod\n",
    "\n",
    "class Shape(ABC):\n",
    "    @abstractmethod\n",
    "    def calculate_area(self):\n",
    "        pass\n",
    "\n",
    "class Circle(Shape):\n",
    "    def calculate_area(self):\n",
    "        pass  # Actual implementation specific to Circle\n",
    "Abstract Classes:\n",
    "Definition: Abstract classes are classes that cannot be instantiated on their own and may contain both concrete methods (with implementation) and abstract methods (without implementation).\n",
    "\n",
    "Purpose: Abstract classes serve as partial blueprints for other classes to inherit from. They define common functionalities that subclasses share, as well as abstract methods that must be implemented by the subclasses.\n",
    "\n",
    "Python Implementation: Python supports abstract classes through the abc module, allowing the creation of abstract methods using the @abstractmethod decorator."
   ]
  },
  {
   "cell_type": "code",
   "execution_count": 91,
   "id": "8729fa8a",
   "metadata": {},
   "outputs": [],
   "source": [
    "from abc import ABC, abstractmethod\n",
    "\n",
    "class Animal(ABC):\n",
    "    @abstractmethod\n",
    "    def make_sound(self):\n",
    "        pass\n",
    "\n",
    "    def move(self):\n",
    "        print(\"Moving\")  # Concrete method with implementation\n",
    "\n",
    "class Dog(Animal):\n",
    "    def make_sound(self):\n",
    "        print(\"Woof!\")  # Implementation of abstract method\n"
   ]
  },
  {
   "cell_type": "markdown",
   "id": "1650b38d",
   "metadata": {},
   "source": [
    "Comparisons:\n",
    "Inheritance: Both interfaces and abstract classes support inheritance, where subclasses must adhere to the defined structure. However, abstract classes can contain implemented methods along with abstract ones, whereas interfaces only contain method signatures.\n",
    "\n",
    "Usage: Abstract classes may contain some concrete methods, providing a default behavior that subclasses can use or override. Interfaces focus solely on specifying the methods that must be implemented by the classes, leaving the implementation details to the individual classes.\n",
    "\n",
    "Multiple Inheritance: Some languages allow multiple interface inheritance, allowing a class to implement multiple interfaces. In contrast, languages like Python restrict multiple inheritance for abstract classes."
   ]
  },
  {
   "cell_type": "raw",
   "id": "83febeb7",
   "metadata": {},
   "source": [
    "20. Create a Python class for a zoo simulation, demonstrating polymorphism with different animal types (e.g., mammals, birds, reptiles) and their behavior (e.g., eating, sleeping, making sounds)."
   ]
  },
  {
   "cell_type": "code",
   "execution_count": 92,
   "id": "227f8e35",
   "metadata": {},
   "outputs": [
    {
     "name": "stdout",
     "output_type": "stream",
     "text": [
      "Lion:\n",
      "Sound: Some generic mammal sound\n",
      "Eating: Mammal eating\n",
      "Sleeping: Mammal sleeping\n",
      "\n",
      "Eagle:\n",
      "Sound: Some generic bird sound\n",
      "Eating: Bird eating\n",
      "Sleeping: Bird sleeping\n",
      "\n",
      "Snake:\n",
      "Sound: Some generic reptile sound\n",
      "Eating: Reptile eating\n",
      "Sleeping: Reptile sleeping\n",
      "\n"
     ]
    }
   ],
   "source": [
    "class Animal:\n",
    "    def __init__(self, name):\n",
    "        self.name = name\n",
    "\n",
    "    def make_sound(self):\n",
    "        pass\n",
    "\n",
    "    def eat(self):\n",
    "        pass\n",
    "\n",
    "    def sleep(self):\n",
    "        pass\n",
    "\n",
    "class Mammal(Animal):\n",
    "    def make_sound(self):\n",
    "        return \"Some generic mammal sound\"\n",
    "\n",
    "    def eat(self):\n",
    "        return \"Mammal eating\"\n",
    "\n",
    "    def sleep(self):\n",
    "        return \"Mammal sleeping\"\n",
    "\n",
    "class Bird(Animal):\n",
    "    def make_sound(self):\n",
    "        return \"Some generic bird sound\"\n",
    "\n",
    "    def eat(self):\n",
    "        return \"Bird eating\"\n",
    "\n",
    "    def sleep(self):\n",
    "        return \"Bird sleeping\"\n",
    "\n",
    "class Reptile(Animal):\n",
    "    def make_sound(self):\n",
    "        return \"Some generic reptile sound\"\n",
    "\n",
    "    def eat(self):\n",
    "        return \"Reptile eating\"\n",
    "\n",
    "    def sleep(self):\n",
    "        return \"Reptile sleeping\"\n",
    "\n",
    "# Zoo simulation\n",
    "mammal = Mammal(\"Lion\")\n",
    "bird = Bird(\"Eagle\")\n",
    "reptile = Reptile(\"Snake\")\n",
    "\n",
    "animals = [mammal, bird, reptile]\n",
    "\n",
    "for animal in animals:\n",
    "    print(f\"{animal.name}:\")\n",
    "    print(f\"Sound: {animal.make_sound()}\")\n",
    "    print(f\"Eating: {animal.eat()}\")\n",
    "    print(f\"Sleeping: {animal.sleep()}\")\n",
    "    print()\n"
   ]
  },
  {
   "cell_type": "markdown",
   "id": "e1cdba10",
   "metadata": {},
   "source": [
    "# Abstraction:"
   ]
  },
  {
   "cell_type": "markdown",
   "id": "3f445d95",
   "metadata": {},
   "source": [
    "1. What is abstraction in Python, and how does it relate to object-oriented programming?"
   ]
  },
  {
   "cell_type": "raw",
   "id": "19f68dbc",
   "metadata": {},
   "source": [
    "Abstraction in Python, and in object-oriented programming (OOP) in general, involves simplifying complex systems by hiding unnecessary details while emphasizing essential features. It's a concept that allows you to focus on what an object does rather than how it does it.\n",
    "\n",
    "In Python, abstraction is often achieved through the use of abstract classes and interfaces. An abstract class is a class that cannot be instantiated on its own and typically contains one or more abstract methods (methods without an implementation). These abstract methods act as placeholders, defining the interface that concrete subclasses must implement. Subclasses of an abstract class provide implementations for these abstract methods, thus completing the abstraction.\n",
    "\n",
    "Abstraction helps in managing complexity by breaking down a system into smaller, more manageable parts. It allows developers to work on different components independently and promotes code reusability and maintainability. For instance, consider a simple example where you have an abstract class Shape with an abstract method calculate_area(). Subclasses like Circle and Rectangle can inherit from Shape and provide their own implementation of calculate_area() specific to their shapes."
   ]
  },
  {
   "cell_type": "markdown",
   "id": "e1e9fda4",
   "metadata": {},
   "source": [
    "2. Describe the benefits of abstraction in terms of code organization and complexity reduction."
   ]
  },
  {
   "cell_type": "raw",
   "id": "1780a46f",
   "metadata": {},
   "source": [
    "Modularity: Abstraction allows breaking down a system into smaller, more manageable parts or modules. This separation of concerns helps in organizing code into logical units, making it easier to understand, maintain, and extend.\n",
    "\n",
    "Hiding Complexity: By abstracting away implementation details, developers can work at higher levels of abstraction, focusing on what needs to be done rather than how it's done. This simplifies the understanding of complex systems and makes code more readable.\n",
    "\n",
    "Code Reusability: Abstract classes and interfaces promote reusability by defining a common interface that multiple classes can implement. This reduces redundancy and encourages the reuse of code across different parts of an application or even in entirely different projects.\n",
    "\n",
    "Easier Maintenance: With abstraction, changes can be localized to specific parts of the code. If the implementation of an abstract class needs to be updated, only the relevant subclasses or components implementing that abstraction require modification, minimizing the impact on other parts of the codebase.\n",
    "\n",
    "Scalability: Abstraction facilitates scalability by providing a structured way to extend and add new functionalities. New subclasses or implementations can be added without affecting existing code, promoting the growth of the system.\n",
    "\n",
    "Collaborative Development: When working in a team, abstraction helps in dividing tasks based on different abstractions or interfaces. Team members can work independently on their assigned components, promoting parallel development and reducing conflicts in the codebase.\n",
    "\n",
    "Enhanced Testing: Abstraction enables more effective testing. With clear interfaces defined by abstract classes or interfaces, it's easier to create unit tests and mock implementations for testing different parts of the system independently."
   ]
  },
  {
   "cell_type": "markdown",
   "id": "051f027b",
   "metadata": {},
   "source": [
    "3. Create a Python class called `Shape` with an abstract method `calculate_area()`. Then, create child classes (e.g., `Circle`, `Rectangle`) that implement the `calculate_area()` method. Provide an example of\n",
    "using these classes."
   ]
  },
  {
   "cell_type": "code",
   "execution_count": 93,
   "id": "10aea259",
   "metadata": {},
   "outputs": [
    {
     "name": "stdout",
     "output_type": "stream",
     "text": [
      "Area of the circle: 78.53981633974483\n",
      "Area of the rectangle: 12\n"
     ]
    }
   ],
   "source": [
    "from abc import ABC, abstractmethod\n",
    "import math\n",
    "\n",
    "class Shape(ABC):\n",
    "    @abstractmethod\n",
    "    def calculate_area(self):\n",
    "        pass\n",
    "\n",
    "class Circle(Shape):\n",
    "    def __init__(self, radius):\n",
    "        self.radius = radius\n",
    "    \n",
    "    def calculate_area(self):\n",
    "        return math.pi * self.radius ** 2\n",
    "\n",
    "class Rectangle(Shape):\n",
    "    def __init__(self, length, width):\n",
    "        self.length = length\n",
    "        self.width = width\n",
    "    \n",
    "    def calculate_area(self):\n",
    "        return self.length * self.width\n",
    "\n",
    "# Example usage\n",
    "circle = Circle(5)\n",
    "print(\"Area of the circle:\", circle.calculate_area())\n",
    "\n",
    "rectangle = Rectangle(3, 4)\n",
    "print(\"Area of the rectangle:\", rectangle.calculate_area())\n"
   ]
  },
  {
   "cell_type": "markdown",
   "id": "7fe81ad6",
   "metadata": {},
   "source": [
    "4. Explain the concept of abstract classes in Python and how they are defined using the `abc` module. Provide\n",
    "an example."
   ]
  },
  {
   "cell_type": "raw",
   "id": "a66dba7e",
   "metadata": {},
   "source": [
    "Abstract classes in Python serve as a blueprint for other classes. They contain one or more abstract methods, which are methods declared but not implemented in the abstract class. These methods act as placeholders that must be implemented in concrete subclasses derived from the abstract class.\n",
    "\n",
    "Python provides the abc module (Abstract Base Classes) for working with abstract classes. To define an abstract class using the abc module, you typically inherit from the ABC class and use the @abstractmethod decorator to mark methods as abstract within the abstract class.\n",
    "\n",
    "Here's an example demonstrating the usage of abstract classes with the abc module"
   ]
  },
  {
   "cell_type": "code",
   "execution_count": 94,
   "id": "312828c2",
   "metadata": {},
   "outputs": [
    {
     "name": "stdout",
     "output_type": "stream",
     "text": [
      "Area of the circle: 78.5\n",
      "Area of the rectangle: 12\n"
     ]
    }
   ],
   "source": [
    "from abc import ABC, abstractmethod\n",
    "\n",
    "class Shape(ABC):\n",
    "    @abstractmethod\n",
    "    def calculate_area(self):\n",
    "        pass\n",
    "\n",
    "class Circle(Shape):\n",
    "    def __init__(self, radius):\n",
    "        self.radius = radius\n",
    "    \n",
    "    def calculate_area(self):\n",
    "        return 3.14 * self.radius ** 2\n",
    "\n",
    "class Rectangle(Shape):\n",
    "    def __init__(self, length, width):\n",
    "        self.length = length\n",
    "        self.width = width\n",
    "    \n",
    "    def calculate_area(self):\n",
    "        return self.length * self.width\n",
    "\n",
    "# Creating an instance of an abstract class will raise an error\n",
    "# shape = Shape()  # This will raise an error since Shape is abstract\n",
    "\n",
    "# Using concrete subclasses\n",
    "circle = Circle(5)\n",
    "print(\"Area of the circle:\", circle.calculate_area())\n",
    "\n",
    "rectangle = Rectangle(3, 4)\n",
    "print(\"Area of the rectangle:\", rectangle.calculate_area())\n"
   ]
  },
  {
   "cell_type": "markdown",
   "id": "8a42f0f4",
   "metadata": {},
   "source": [
    "5. How do abstract classes differ from regular classes in Python? Discuss their use cases."
   ]
  },
  {
   "cell_type": "raw",
   "id": "5eec8f05",
   "metadata": {},
   "source": [
    "\n",
    "Abstract classes and regular classes in Python differ primarily in their purposes and functionalities:\n",
    "\n",
    "Abstract Classes:\n",
    "Cannot be instantiated directly: Abstract classes cannot be instantiated on their own. They serve as a blueprint for other classes and may contain one or more abstract methods.\n",
    "\n",
    "May contain abstract methods: Abstract classes can have abstract methods (methods without implementation) that must be implemented by concrete subclasses.\n",
    "\n",
    "Defined using the abc module: Abstract classes are typically defined using the abc module in Python by inheriting from the ABC class and using the @abstractmethod decorator to declare abstract methods.\n",
    "\n",
    "Regular Classes:\n",
    "Can be instantiated: Regular classes can be instantiated directly to create objects.\n",
    "\n",
    "May contain fully implemented methods: Regular classes contain methods with full implementations. They do not necessarily have any abstract methods.\n",
    "\n",
    "Use Cases:\n",
    "Abstract Classes:\n",
    "Providing a template: Abstract classes are useful when creating a template or a set of rules that other classes should follow. For instance, a Shape abstract class defining methods like calculate_area() and calculate_perimeter() can be subclassed by various shapes like circles, rectangles, etc.\n",
    "\n",
    "Enforcing common behavior: They enforce a specific structure or behavior across multiple subclasses, ensuring that certain methods are implemented in all subclasses.\n",
    "\n",
    "Regular Classes:\n",
    "Creating independent objects: Regular classes are used when you need to create objects that don't need to follow a common structure enforced by an abstract class.\n",
    "\n",
    "Implementing specific functionalities: These classes are useful when you want to implement a specific set of functionalities or behaviors without mandating it across multiple subclasses.\n",
    "\n",
    "In essence, abstract classes are used to define a common interface or structure that other classes must adhere to, whereas regular classes are used to create objects with their own distinct functionalities and characteristics. Abstract classes are more about defining a contract that subclasses must follow, while regular classes focus on creating individual, self-contained objects."
   ]
  },
  {
   "cell_type": "markdown",
   "id": "56a4b336",
   "metadata": {},
   "source": [
    "6. Create a Python class for a bank account and demonstrate abstraction by hiding the account balance and\n",
    "providing methods to deposit and withdraw funds."
   ]
  },
  {
   "cell_type": "code",
   "execution_count": 95,
   "id": "24a8b8a8",
   "metadata": {},
   "outputs": [
    {
     "name": "stdout",
     "output_type": "stream",
     "text": [
      "Initial balance: 100\n",
      "Deposited $50. New balance: $150\n",
      "Withdrew $30. New balance: $120\n",
      "Insufficient funds or invalid amount for withdrawal.\n"
     ]
    }
   ],
   "source": [
    "class BankAccount:\n",
    "    def __init__(self, initial_balance=0):\n",
    "        self._balance = initial_balance  # Using underscore to indicate it's a 'protected' attribute\n",
    "\n",
    "    def deposit(self, amount):\n",
    "        if amount > 0:\n",
    "            self._balance += amount\n",
    "            print(f\"Deposited ${amount}. New balance: ${self._balance}\")\n",
    "        else:\n",
    "            print(\"Invalid deposit amount. Please deposit a positive amount.\")\n",
    "\n",
    "    def withdraw(self, amount):\n",
    "        if 0 < amount <= self._balance:\n",
    "            self._balance -= amount\n",
    "            print(f\"Withdrew ${amount}. New balance: ${self._balance}\")\n",
    "        else:\n",
    "            print(\"Insufficient funds or invalid amount for withdrawal.\")\n",
    "\n",
    "# Example usage:\n",
    "account = BankAccount(100)  # Creating an account with an initial balance of $100\n",
    "print(\"Initial balance:\", account._balance)  # Accessing balance directly (just for demonstration)\n",
    "\n",
    "account.deposit(50)  # Depositing $50\n",
    "account.withdraw(30)  # Withdrawing $30\n",
    "account.withdraw(150)  # Attempting to withdraw $150 (insufficient funds)\n"
   ]
  },
  {
   "cell_type": "markdown",
   "id": "cf5febe0",
   "metadata": {},
   "source": [
    "7. Discuss the concept of interface classes in Python and their role in achieving abstraction."
   ]
  },
  {
   "cell_type": "raw",
   "id": "ccf7f344",
   "metadata": {},
   "source": [
    "\n",
    "In Python, interface classes serve as a blueprint for other classes, specifying a set of methods that must be implemented by classes that claim to conform to that interface. They define a contract that outlines what methods a class should have without providing any implementation details. This concept plays a vital role in achieving abstraction and enforcing a consistent structure among multiple classes.\n",
    "\n",
    "Role in Achieving Abstraction:\n",
    "Defining a Contract: Interface classes specify a set of method signatures that any class implementing that interface must adhere to. This contract ensures that classes provide specific functionalities without dictating how those functionalities should be implemented.\n",
    "\n",
    "Enforcing Structure: By defining interfaces, developers can create a common structure that different classes need to follow. This helps in managing complexity by abstracting away implementation details and focusing on what a class does rather than how it does it.\n",
    "\n",
    "Facilitating Polymorphism: Interfaces enable polymorphism, allowing different classes to be treated interchangeably if they adhere to the same interface. This promotes code reusability and flexibility in programming.\n",
    "\n",
    "Code Maintenance and Collaboration: Interfaces make code more maintainable by providing clear expectations for classes. They also facilitate collaboration among developers, as different team members can work on different classes implementing the same interface without worrying about the internal workings of each class.\n",
    "\n",
    "How Interfaces are Achieved in Python:\n",
    "Python doesn’t have a built-in interface keyword like some other languages. Instead, interfaces are achieved through:\n",
    "\n",
    "Abstract Base Classes (ABCs): Python's abc module allows the creation of interfaces by using abstract classes. Abstract methods within these classes act as placeholders that must be implemented by concrete subclasses. Classes claiming to conform to the interface must implement all abstract methods defined in the abstract base class.\n",
    "\n",
    "Duck Typing: Python's dynamic typing and duck typing philosophy mean that a class is considered to be of a certain interface if it implements the required methods, regardless of explicit interface definitions. This allows flexibility in implementing interfaces without explicitly inheriting from an abstract base class."
   ]
  },
  {
   "cell_type": "markdown",
   "id": "f091a963",
   "metadata": {},
   "source": [
    "8. Create a Python class hierarchy for animals and implement abstraction by defining common methods"
   ]
  },
  {
   "cell_type": "code",
   "execution_count": 96,
   "id": "d612bf53",
   "metadata": {},
   "outputs": [
    {
     "name": "stdout",
     "output_type": "stream",
     "text": [
      "Buddy says: Woof!\n",
      "Buddy moves by Running on four legs.\n",
      "Whiskers says: Meow!\n",
      "Whiskers moves by Jumping and walking gracefully.\n",
      "Tweety says: Chirp!\n",
      "Tweety moves by Flying or hopping.\n"
     ]
    }
   ],
   "source": [
    "from abc import ABC, abstractmethod\n",
    "\n",
    "class Animal(ABC):\n",
    "    def __init__(self, name, age):\n",
    "        self.name = name\n",
    "        self.age = age\n",
    "\n",
    "    @abstractmethod\n",
    "    def make_sound(self):\n",
    "        pass\n",
    "\n",
    "    @abstractmethod\n",
    "    def move(self):\n",
    "        pass\n",
    "\n",
    "class Dog(Animal):\n",
    "    def make_sound(self):\n",
    "        return \"Woof!\"\n",
    "\n",
    "    def move(self):\n",
    "        return \"Running on four legs.\"\n",
    "\n",
    "class Cat(Animal):\n",
    "    def make_sound(self):\n",
    "        return \"Meow!\"\n",
    "\n",
    "    def move(self):\n",
    "        return \"Jumping and walking gracefully.\"\n",
    "\n",
    "class Bird(Animal):\n",
    "    def make_sound(self):\n",
    "        return \"Chirp!\"\n",
    "\n",
    "    def move(self):\n",
    "        return \"Flying or hopping.\"\n",
    "\n",
    "# Example usage:\n",
    "dog = Dog(\"Buddy\", 5)\n",
    "print(f\"{dog.name} says: {dog.make_sound()}\")\n",
    "print(f\"{dog.name} moves by {dog.move()}\")\n",
    "\n",
    "cat = Cat(\"Whiskers\", 3)\n",
    "print(f\"{cat.name} says: {cat.make_sound()}\")\n",
    "print(f\"{cat.name} moves by {cat.move()}\")\n",
    "\n",
    "bird = Bird(\"Tweety\", 1)\n",
    "print(f\"{bird.name} says: {bird.make_sound()}\")\n",
    "print(f\"{bird.name} moves by {bird.move()}\")\n"
   ]
  },
  {
   "cell_type": "markdown",
   "id": "009f8059",
   "metadata": {},
   "source": [
    "9. Explain the significance of encapsulation in achieving abstraction. Provide examples."
   ]
  },
  {
   "cell_type": "raw",
   "id": "58a27739",
   "metadata": {},
   "source": [
    "\n",
    "Encapsulation and abstraction are closely related concepts in object-oriented programming, and encapsulation plays a significant role in achieving abstraction.\n",
    "\n",
    "Significance of Encapsulation in Achieving Abstraction:\n",
    "Hiding Implementation Details: Encapsulation involves bundling the data (attributes) and methods that operate on the data within a single unit (a class), and then restricting direct access to certain components from outside the class. By encapsulating data, it hides the internal workings of the class, promoting a clear separation between the interface (what's accessible) and the implementation (how it works). This hiding of implementation details is crucial for achieving abstraction.\n",
    "\n",
    "Access Control: Encapsulation allows control over how data is accessed and modified. It enables the use of access modifiers (like public, private, protected) to define the visibility of class members. For example, using private attributes in a class ensures that they can only be accessed or modified through specific methods, maintaining data integrity and enforcing the rules of the class.\n",
    "\n",
    "Enhancing Modifiability and Security: Encapsulation reduces dependencies between different parts of a program. If implementation details change, only the class's internal methods need to be updated, while the external interface (public methods) remains the same. This enhances modifiability and makes the code less prone to unintended changes. Additionally, encapsulation enhances security by preventing direct manipulation of sensitive data."
   ]
  },
  {
   "cell_type": "code",
   "execution_count": 97,
   "id": "ced1ab19",
   "metadata": {},
   "outputs": [
    {
     "name": "stdout",
     "output_type": "stream",
     "text": [
      "Car make: Toyota\n",
      "Car model: Corolla\n",
      "Fuel type: Gasoline\n",
      "New fuel type: Diesel\n"
     ]
    }
   ],
   "source": [
    "class Car:\n",
    "    def __init__(self, make, model, fuel_type):\n",
    "        self._make = make  # Protected attribute\n",
    "        self._model = model  # Protected attribute\n",
    "        self.__fuel_type = fuel_type  # Private attribute\n",
    "\n",
    "    def start_engine(self):\n",
    "        # Some code to start the engine\n",
    "        return f\"Engine started for {self._make} {self._model}\"\n",
    "\n",
    "    def get_fuel_type(self):\n",
    "        return self.__fuel_type  # Getter method to access private attribute\n",
    "\n",
    "    def set_fuel_type(self, new_fuel_type):\n",
    "        self.__fuel_type = new_fuel_type  # Setter method to modify private attribute\n",
    "\n",
    "# Example usage:\n",
    "car = Car(\"Toyota\", \"Corolla\", \"Gasoline\")\n",
    "\n",
    "# Accessing protected attributes directly (for demonstration purposes)\n",
    "print(\"Car make:\", car._make)\n",
    "print(\"Car model:\", car._model)\n",
    "\n",
    "# Accessing private attribute using getter method\n",
    "print(\"Fuel type:\", car.get_fuel_type())\n",
    "\n",
    "# Modifying private attribute using setter method\n",
    "car.set_fuel_type(\"Diesel\")\n",
    "print(\"New fuel type:\", car.get_fuel_type())\n",
    "\n",
    "# Trying to access private attribute directly (will raise an AttributeError)\n",
    "# print(car.__fuel_type)\n"
   ]
  },
  {
   "cell_type": "markdown",
   "id": "b9a30e0d",
   "metadata": {},
   "source": [
    "10. What is the purpose of abstract methods, and how do they enforce abstraction in Python classes?"
   ]
  },
  {
   "cell_type": "raw",
   "id": "3d5fcb32",
   "metadata": {},
   "source": [
    "Abstract methods serve as placeholders in a class, defining a method's signature (name and parameters) without providing any implementation. They play a crucial role in achieving abstraction by enforcing a structure or contract that concrete subclasses must adhere to.\n",
    "\n",
    "Purpose of Abstract Methods:\n",
    "Defining Interface: Abstract methods define a blueprint for methods that must be implemented by concrete subclasses. They outline what methods subclasses should have without specifying how these methods should be implemented.\n",
    "\n",
    "Enforcing Structure: By declaring abstract methods in an abstract base class, Python ensures that any subclass inheriting from this base class must provide concrete implementations for these abstract methods. This ensures consistency across subclasses and enforces a common structure.\n",
    "\n",
    "Forcing Implementation: Abstract methods act as a requirement or obligation for subclasses to implement specific functionalities. They serve as a way to mandate that certain methods must exist in subclasses to ensure proper functionality.\n",
    "\n",
    "Enforcing Abstraction in Python Classes:\n",
    "Abstract Base Classes (ABCs): In Python, abstract methods are often used in conjunction with Abstract Base Classes from the abc module. Abstract classes contain one or more abstract methods, marked using the @abstractmethod decorator. Subclasses that inherit from these abstract classes must implement all abstract methods to be considered concrete classes."
   ]
  },
  {
   "cell_type": "code",
   "execution_count": 98,
   "id": "d6185a4c",
   "metadata": {},
   "outputs": [
    {
     "name": "stdout",
     "output_type": "stream",
     "text": [
      "Area of the circle: 78.5\n",
      "Perimeter of the circle: 31.400000000000002\n",
      "Area of the rectangle: 12\n",
      "Perimeter of the rectangle: 14\n"
     ]
    }
   ],
   "source": [
    "from abc import ABC, abstractmethod\n",
    "\n",
    "class Shape(ABC):\n",
    "    @abstractmethod\n",
    "    def calculate_area(self):\n",
    "        pass\n",
    "\n",
    "    @abstractmethod\n",
    "    def calculate_perimeter(self):\n",
    "        pass\n",
    "\n",
    "class Circle(Shape):\n",
    "    def __init__(self, radius):\n",
    "        self.radius = radius\n",
    "\n",
    "    def calculate_area(self):\n",
    "        return 3.14 * self.radius ** 2\n",
    "\n",
    "    def calculate_perimeter(self):\n",
    "        return 2 * 3.14 * self.radius\n",
    "\n",
    "class Rectangle(Shape):\n",
    "    def __init__(self, length, width):\n",
    "        self.length = length\n",
    "        self.width = width\n",
    "\n",
    "    def calculate_area(self):\n",
    "        return self.length * self.width\n",
    "\n",
    "    def calculate_perimeter(self):\n",
    "        return 2 * (self.length + self.width)\n",
    "\n",
    "# Example usage:\n",
    "circle = Circle(5)\n",
    "print(\"Area of the circle:\", circle.calculate_area())\n",
    "print(\"Perimeter of the circle:\", circle.calculate_perimeter())\n",
    "\n",
    "rectangle = Rectangle(3, 4)\n",
    "print(\"Area of the rectangle:\", rectangle.calculate_area())\n",
    "print(\"Perimeter of the rectangle:\", rectangle.calculate_perimeter())\n"
   ]
  },
  {
   "cell_type": "markdown",
   "id": "c0a01794",
   "metadata": {},
   "source": [
    "11. Create a Python class for a vehicle system and demonstrate abstraction by defining common methods"
   ]
  },
  {
   "cell_type": "code",
   "execution_count": 99,
   "id": "4f9762fb",
   "metadata": {},
   "outputs": [
    {
     "name": "stdout",
     "output_type": "stream",
     "text": [
      "Starting the engine of Toyota Corolla\n",
      "Driving the Toyota Corolla\n",
      "Stopping the engine of Toyota Corolla\n",
      "Starting the engine of Honda CBR\n",
      "Riding the Honda CBR\n",
      "Stopping the engine of Honda CBR\n"
     ]
    }
   ],
   "source": [
    "from abc import ABC, abstractmethod\n",
    "\n",
    "class Vehicle(ABC):\n",
    "    def __init__(self, make, model):\n",
    "        self.make = make\n",
    "        self.model = model\n",
    "\n",
    "    @abstractmethod\n",
    "    def start_engine(self):\n",
    "        pass\n",
    "\n",
    "    @abstractmethod\n",
    "    def stop_engine(self):\n",
    "        pass\n",
    "\n",
    "    @abstractmethod\n",
    "    def drive(self):\n",
    "        pass\n",
    "\n",
    "class Car(Vehicle):\n",
    "    def start_engine(self):\n",
    "        return f\"Starting the engine of {self.make} {self.model}\"\n",
    "\n",
    "    def stop_engine(self):\n",
    "        return f\"Stopping the engine of {self.make} {self.model}\"\n",
    "\n",
    "    def drive(self):\n",
    "        return f\"Driving the {self.make} {self.model}\"\n",
    "\n",
    "class Motorcycle(Vehicle):\n",
    "    def start_engine(self):\n",
    "        return f\"Starting the engine of {self.make} {self.model}\"\n",
    "\n",
    "    def stop_engine(self):\n",
    "        return f\"Stopping the engine of {self.make} {self.model}\"\n",
    "\n",
    "    def drive(self):\n",
    "        return f\"Riding the {self.make} {self.model}\"\n",
    "\n",
    "# Example usage:\n",
    "car = Car(\"Toyota\", \"Corolla\")\n",
    "print(car.start_engine())\n",
    "print(car.drive())\n",
    "print(car.stop_engine())\n",
    "\n",
    "motorcycle = Motorcycle(\"Honda\", \"CBR\")\n",
    "print(motorcycle.start_engine())\n",
    "print(motorcycle.drive())\n",
    "print(motorcycle.stop_engine())\n"
   ]
  },
  {
   "cell_type": "markdown",
   "id": "1116a0b7",
   "metadata": {},
   "source": [
    "12. Describe the use of abstract properties in Python and how they can be employed in abstract classes."
   ]
  },
  {
   "cell_type": "raw",
   "id": "aa266190",
   "metadata": {},
   "source": [
    "Abstract properties in Python are properties defined in abstract classes that require their subclasses to provide an implementation. They are similar to abstract methods but represent properties (attributes) instead of methods. Abstract properties enforce that specific attributes must exist in subclasses while allowing them to define their own behavior or implementation.\n",
    "\n",
    "Use of Abstract Properties:\n",
    "Enforcing Structure: Abstract properties ensure that subclasses of an abstract base class must provide an implementation for certain properties. They define a contract that mandates the existence of these properties in subclasses.\n",
    "\n",
    "Customizing Attributes: Subclasses implementing abstract properties can customize the behavior or implementation of these properties based on their specific requirements, while still adhering to the interface defined by the abstract base class.\n",
    "\n",
    "Employing Abstract Properties in Abstract Classes:\n",
    "Abstract properties can be employed in abstract classes using the abc module in Python. They are declared similarly to abstract methods but use the @property decorator."
   ]
  },
  {
   "cell_type": "code",
   "execution_count": 100,
   "id": "98980b38",
   "metadata": {},
   "outputs": [
    {
     "name": "stdout",
     "output_type": "stream",
     "text": [
      "Car fuel type: Gasoline\n",
      "New car fuel type: Diesel\n",
      "Motorcycle fuel type: Petrol\n",
      "New motorcycle fuel type: Electric\n"
     ]
    }
   ],
   "source": [
    "from abc import ABC, abstractmethod\n",
    "\n",
    "class Vehicle(ABC):\n",
    "    @property\n",
    "    @abstractmethod\n",
    "    def fuel_type(self):\n",
    "        pass\n",
    "\n",
    "    @fuel_type.setter\n",
    "    @abstractmethod\n",
    "    def fuel_type(self, value):\n",
    "        pass\n",
    "\n",
    "class Car(Vehicle):\n",
    "    def __init__(self):\n",
    "        self._fuel_type = \"Gasoline\"\n",
    "\n",
    "    @property\n",
    "    def fuel_type(self):\n",
    "        return self._fuel_type\n",
    "\n",
    "    @fuel_type.setter\n",
    "    def fuel_type(self, value):\n",
    "        self._fuel_type = value\n",
    "\n",
    "class Motorcycle(Vehicle):\n",
    "    def __init__(self):\n",
    "        self._fuel_type = \"Petrol\"\n",
    "\n",
    "    @property\n",
    "    def fuel_type(self):\n",
    "        return self._fuel_type\n",
    "\n",
    "    @fuel_type.setter\n",
    "    def fuel_type(self, value):\n",
    "        self._fuel_type = value\n",
    "\n",
    "# Example usage:\n",
    "car = Car()\n",
    "print(\"Car fuel type:\", car.fuel_type)\n",
    "car.fuel_type = \"Diesel\"\n",
    "print(\"New car fuel type:\", car.fuel_type)\n",
    "\n",
    "motorcycle = Motorcycle()\n",
    "print(\"Motorcycle fuel type:\", motorcycle.fuel_type)\n",
    "motorcycle.fuel_type = \"Electric\"\n",
    "print(\"New motorcycle fuel type:\", motorcycle.fuel_type)\n"
   ]
  },
  {
   "cell_type": "markdown",
   "id": "afd868b3",
   "metadata": {},
   "source": [
    "13. Create a Python class hierarchy for employees in a company (e.g., manager, developer, designer) and implement abstraction by defining a common `get_salary()` method."
   ]
  },
  {
   "cell_type": "code",
   "execution_count": 101,
   "id": "a95746aa",
   "metadata": {},
   "outputs": [
    {
     "name": "stdout",
     "output_type": "stream",
     "text": [
      "Alice's salary as a Manager: $80000\n",
      "Bob's salary as a Developer: $65000\n",
      "Eve's salary as a Designer: $70000\n"
     ]
    }
   ],
   "source": [
    "from abc import ABC, abstractmethod\n",
    "\n",
    "class Employee(ABC):\n",
    "    def __init__(self, name, employee_id):\n",
    "        self.name = name\n",
    "        self.employee_id = employee_id\n",
    "\n",
    "    @abstractmethod\n",
    "    def get_salary(self):\n",
    "        pass\n",
    "\n",
    "class Manager(Employee):\n",
    "    def __init__(self, name, employee_id, salary):\n",
    "        super().__init__(name, employee_id)\n",
    "        self.salary = salary\n",
    "\n",
    "    def get_salary(self):\n",
    "        return f\"{self.name}'s salary as a Manager: ${self.salary}\"\n",
    "\n",
    "class Developer(Employee):\n",
    "    def __init__(self, name, employee_id, salary):\n",
    "        super().__init__(name, employee_id)\n",
    "        self.salary = salary\n",
    "\n",
    "    def get_salary(self):\n",
    "        return f\"{self.name}'s salary as a Developer: ${self.salary}\"\n",
    "\n",
    "class Designer(Employee):\n",
    "    def __init__(self, name, employee_id, salary):\n",
    "        super().__init__(name, employee_id)\n",
    "        self.salary = salary\n",
    "\n",
    "    def get_salary(self):\n",
    "        return f\"{self.name}'s salary as a Designer: ${self.salary}\"\n",
    "\n",
    "# Example usage:\n",
    "manager = Manager(\"Alice\", 1001, 80000)\n",
    "print(manager.get_salary())\n",
    "\n",
    "developer = Developer(\"Bob\", 1002, 65000)\n",
    "print(developer.get_salary())\n",
    "\n",
    "designer = Designer(\"Eve\", 1003, 70000)\n",
    "print(designer.get_salary())\n"
   ]
  },
  {
   "cell_type": "markdown",
   "id": "7dbb89e0",
   "metadata": {},
   "source": [
    "14. Discuss the differences between abstract classes and concrete classes in Python, including their\n",
    "instantiation."
   ]
  },
  {
   "cell_type": "raw",
   "id": "93b3a965",
   "metadata": {},
   "source": [
    "\n",
    "Abstract classes and concrete classes in Python differ in their purposes, structures, and instantiation abilities:\n",
    "\n",
    "Abstract Classes:\n",
    "Purpose:\n",
    "\n",
    "Abstract classes are designed to serve as blueprints or templates for other classes.\n",
    "They contain one or more abstract methods (methods without implementation) that must be implemented by their concrete subclasses.\n",
    "Structure:\n",
    "\n",
    "Abstract classes may have both abstract methods (without implementation) and concrete methods (with implementation).\n",
    "They cannot be instantiated directly; instead, they are meant to be subclassed.\n",
    "Instantiation:\n",
    "\n",
    "Attempting to create an instance of an abstract class will result in an error.\n",
    "Abstract classes can only be used as a base for other classes, providing a structure that concrete subclasses must adhere to.\n",
    "Concrete Classes:\n",
    "Purpose:\n",
    "Concrete classes are complete classes that can be instantiated to create objects.\n",
    "They provide complete implementations for all methods inherited from abstract classes or defined within themselves.\n",
    "Structure:\n",
    "Concrete classes can contain attributes, methods (both abstract and concrete), and have a full implementation for all methods inherited from their base classes.\n",
    "Instantiation:\n",
    "Concrete classes can be instantiated directly to create objects.\n",
    "They are complete and ready for use, providing specific functionality and behavior.\n",
    "Instantiation Differences:\n",
    "Abstract Class Instantiation:\n",
    "\n",
    "Attempting to create an instance of an abstract class directly will raise an error.\n",
    "Abstract classes are meant to be subclassed and provide a structure that must be implemented by their concrete subclasses.\n",
    "Concrete Class Instantiation:\n",
    "\n",
    "Concrete classes can be instantiated directly to create objects.\n",
    "They are complete and ready for use, with all methods and attributes defined and implemented."
   ]
  },
  {
   "cell_type": "markdown",
   "id": "f7f622ad",
   "metadata": {},
   "source": [
    "15. Explain the concept of abstract data types (ADTs) and their role in achieving abstraction in Python."
   ]
  },
  {
   "cell_type": "raw",
   "id": "4b3b0aa7",
   "metadata": {},
   "source": [
    "\n",
    "Abstract Data Types (ADTs) are theoretical models or structures that define data types based on their behavior and operations rather than their implementation. They describe the behavior and properties of a data type without specifying how it should be implemented internally. ADTs are essential in achieving abstraction by separating the interface from the implementation, allowing users to interact with data structures based on their defined operations.\n",
    "\n",
    "Role of ADTs in Achieving Abstraction in Python:\n",
    "Defining Operations: ADTs focus on defining operations and behaviors associated with a particular data type without specifying how these operations are carried out internally.\n",
    "\n",
    "Hiding Implementation Details: ADTs hide the internal details of data structures, allowing users to interact with them based on their defined operations. This separation of interface from implementation is a key aspect of abstraction.\n",
    "\n",
    "Providing a Standard Interface: ADTs offer a standard interface through which users interact with data structures. This standardized interface allows users to work with data structures without needing to know the specifics of how they are implemented.\n",
    "\n",
    "Promoting Reusability and Modularity: ADTs promote code reusability by providing well-defined, reusable structures. They encourage modularity by allowing the implementation of data structures to change without affecting the code that uses them, as long as the defined operations remain consistent.\n",
    "Python provides built-in abstract data types through its standard library, such as lists, dictionaries, sets, and tuples.\n",
    "These data structures offer operations like appending to a list, adding elements to a set, accessing items in a dictionary, etc., without exposing their underlying implementation details."
   ]
  },
  {
   "cell_type": "markdown",
   "id": "4827937a",
   "metadata": {},
   "source": [
    "16. Create a Python class for a computer system, demonstrating abstraction by defining common methods"
   ]
  },
  {
   "cell_type": "code",
   "execution_count": 102,
   "id": "871204b5",
   "metadata": {},
   "outputs": [
    {
     "name": "stdout",
     "output_type": "stream",
     "text": [
      "Booting up the Dell XPS 13 laptop\n",
      "Running applications on the Dell XPS 13 laptop\n",
      "Shutting down the Dell XPS 13 laptop\n",
      "Booting up the HP Pavilion desktop\n",
      "Executing tasks on the HP Pavilion desktop\n",
      "Shutting down the HP Pavilion desktop\n"
     ]
    }
   ],
   "source": [
    "from abc import ABC, abstractmethod\n",
    "\n",
    "class ComputerSystem(ABC):\n",
    "    def __init__(self, brand, model):\n",
    "        self.brand = brand\n",
    "        self.model = model\n",
    "\n",
    "    @abstractmethod\n",
    "    def power_on(self):\n",
    "        pass\n",
    "\n",
    "    @abstractmethod\n",
    "    def power_off(self):\n",
    "        pass\n",
    "\n",
    "    @abstractmethod\n",
    "    def run(self):\n",
    "        pass\n",
    "\n",
    "class Laptop(ComputerSystem):\n",
    "    def power_on(self):\n",
    "        return f\"Booting up the {self.brand} {self.model} laptop\"\n",
    "\n",
    "    def power_off(self):\n",
    "        return f\"Shutting down the {self.brand} {self.model} laptop\"\n",
    "\n",
    "    def run(self):\n",
    "        return f\"Running applications on the {self.brand} {self.model} laptop\"\n",
    "\n",
    "class Desktop(ComputerSystem):\n",
    "    def power_on(self):\n",
    "        return f\"Booting up the {self.brand} {self.model} desktop\"\n",
    "\n",
    "    def power_off(self):\n",
    "        return f\"Shutting down the {self.brand} {self.model} desktop\"\n",
    "\n",
    "    def run(self):\n",
    "        return f\"Executing tasks on the {self.brand} {self.model} desktop\"\n",
    "\n",
    "# Example usage:\n",
    "laptop = Laptop(\"Dell\", \"XPS 13\")\n",
    "print(laptop.power_on())\n",
    "print(laptop.run())\n",
    "print(laptop.power_off())\n",
    "\n",
    "desktop = Desktop(\"HP\", \"Pavilion\")\n",
    "print(desktop.power_on())\n",
    "print(desktop.run())\n",
    "print(desktop.power_off())\n"
   ]
  },
  {
   "cell_type": "markdown",
   "id": "fa46de59",
   "metadata": {},
   "source": [
    "17. Discuss the benefits of using abstraction in large-scale software development projects."
   ]
  },
  {
   "cell_type": "raw",
   "id": "c428d081",
   "metadata": {},
   "source": [
    "Abstraction plays a pivotal role in large-scale software development projects, offering several benefits that contribute to better manageability, scalability, and maintainability of the codebase. Here are some key advantages:\n",
    "\n",
    "1. Simplification of Complex Systems:\n",
    "Abstraction helps break down complex systems into manageable, understandable components by hiding intricate implementation details. This simplification aids developers in comprehending and working with large systems.\n",
    "2. Modularity and Reusability:\n",
    "Abstracting functionalities into modules or classes promotes modularity. These independent modules can be reused across the project or in different projects, reducing redundancy and saving development time.\n",
    "3. Ease of Maintenance:\n",
    "Code built with abstraction is generally easier to maintain. When changes are needed, modifications can often be localized to specific components without impacting the entire system, leading to fewer side effects.\n",
    "4. Enhanced Collaboration:\n",
    "Abstraction fosters collaboration among team members. Well-abstracted codebases with clear interfaces and separations of concerns allow multiple developers to work on different components simultaneously.\n",
    "5. Adaptability to Changes:\n",
    "Abstraction promotes flexibility and adaptability. Changes in requirements or technological advancements can be accommodated more easily as the codebase is structured in a way that allows for modifications without affecting the entire system.\n",
    "6. Improved Testing and Debugging:\n",
    "Abstracted code is generally more testable and easier to debug. Components with well-defined interfaces can be tested independently, leading to better coverage and efficient debugging.\n",
    "7. Scalability and Extensibility:\n",
    "Abstraction supports scalability and extensibility. As the project grows, abstracted components can be extended or new components can be added without major disruptions to existing functionalities.\n",
    "8. Maintaining High-Level Overviews:\n",
    "Abstraction allows developers and project managers to focus on high-level architectural design and planning without getting bogged down by low-level implementation details.\n",
    "9. Encourages Best Practices:\n",
    "Promotes adherence to coding best practices and design patterns. Abstraction encourages the use of well-established design principles, improving overall code quality.\n",
    "10. Future-Proofing:\n",
    "Well-abstracted codebases are more future-proof. They are better equipped to adapt to evolving requirements, technologies, and business needs over time."
   ]
  },
  {
   "cell_type": "markdown",
   "id": "4ae47f53",
   "metadata": {},
   "source": [
    "18. Explain how abstraction enhances code reusability and modularity in Python programs."
   ]
  },
  {
   "cell_type": "raw",
   "id": "1b874048",
   "metadata": {},
   "source": [
    "Abstraction significantly enhances code reusability and modularity in Python programs by promoting a structured and organized approach to software design. Here's how it contributes to these aspects:\n",
    "\n",
    "1. Encapsulation of Implementation:\n",
    "Abstraction allows you to encapsulate implementation details within classes or modules, exposing only necessary interfaces. This encapsulation hides complexities, making codebases more modular and reusable.\n",
    "2. Defined Interfaces:\n",
    "By defining clear interfaces through abstract classes or well-defined APIs, abstraction separates how things are used from how they are implemented. This separation ensures that different components interact based on these interfaces, promoting code reusability.\n",
    "3. Promotion of Hierarchical Structure:\n",
    "Abstracting functionalities into classes or modules creates a hierarchical structure. High-level functionalities are defined in abstract classes or interfaces, allowing subclasses or implementations to provide specific details. This hierarchy enhances modularity and reusability by breaking down complex systems into manageable parts.\n",
    "4. Facilitation of Composition and Inheritance:\n",
    "Abstraction allows for the composition of different components or the use of inheritance to reuse common functionalities. Interfaces or abstract classes define what functionalities are available, promoting consistent usage and allowing different implementations to be swapped easily.\n",
    "5. Independent Components:\n",
    "Well-abstracted code encourages the creation of independent, self-contained modules or classes. These components can be reused across projects or within the same project, reducing redundancy and promoting modularity.\n",
    "6. Testing and Debugging:\n",
    "Abstracted code that follows clear interfaces and separation of concerns is typically easier to test and debug. Testing individual components becomes more straightforward, leading to better code coverage and more efficient debugging processes.\n",
    "7. Flexible Configurations:\n",
    "Abstraction allows configurations and variations in implementations without affecting the overall structure. Different implementations adhering to the same interface can be used interchangeably, promoting flexibility and allowing easy adaptation to changing requirements.\n",
    "8. Easier Maintenance:\n",
    "Abstracted codebases are generally easier to maintain. Changes or updates can often be localized to specific components, reducing the risk of unintended consequences in other parts of the system.\n",
    "9. Adherence to Best Practices:\n",
    "Abstraction encourages the use of design patterns and coding best practices, leading to more structured and reusable code. It promotes adherence to principles like DRY (Don't Repeat Yourself) and SOLID (Single Responsibility, Open/Closed, Liskov Substitution, Interface Segregation, Dependency Inversion).\n",
    "10. Standardized Interfaces:\n",
    "Well-abstracted code provides standardized interfaces for interaction between different components. This standardization fosters a predictable and consistent way of integrating different parts of the system, enhancing modularity and reusability."
   ]
  },
  {
   "cell_type": "markdown",
   "id": "026b8bf7",
   "metadata": {},
   "source": [
    "19. Create a Python class for a library system, implementing abstraction by defining common methods in abstract class"
   ]
  },
  {
   "cell_type": "code",
   "execution_count": 103,
   "id": "e5534d9d",
   "metadata": {},
   "outputs": [
    {
     "name": "stdout",
     "output_type": "stream",
     "text": [
      "Book 'The Catcher in the Rye' by J.D. Salinger has been checked out.\n",
      "Title: The Catcher in the Rye, Author: J.D. Salinger, Checked Out: True\n",
      "Book 'The Catcher in the Rye' by J.D. Salinger has been checked in.\n",
      "Title: The Catcher in the Rye, Author: J.D. Salinger, Checked Out: False\n",
      "DVD 'Inception' by Christopher Nolan has been checked out.\n",
      "Title: Inception, Author: Christopher Nolan, Checked Out: True\n",
      "DVD 'Inception' by Christopher Nolan has been checked in.\n",
      "Title: Inception, Author: Christopher Nolan, Checked Out: False\n"
     ]
    }
   ],
   "source": [
    "from abc import ABC, abstractmethod\n",
    "\n",
    "class LibraryItem(ABC):\n",
    "    def __init__(self, title, author):\n",
    "        self.title = title\n",
    "        self.author = author\n",
    "        self.checked_out = False\n",
    "\n",
    "    @abstractmethod\n",
    "    def check_out(self):\n",
    "        pass\n",
    "\n",
    "    @abstractmethod\n",
    "    def check_in(self):\n",
    "        pass\n",
    "\n",
    "    def display_info(self):\n",
    "        return f\"Title: {self.title}, Author: {self.author}, Checked Out: {self.checked_out}\"\n",
    "\n",
    "class Book(LibraryItem):\n",
    "    def __init__(self, title, author, isbn):\n",
    "        super().__init__(title, author)\n",
    "        self.isbn = isbn\n",
    "\n",
    "    def check_out(self):\n",
    "        self.checked_out = True\n",
    "        return f\"Book '{self.title}' by {self.author} has been checked out.\"\n",
    "\n",
    "    def check_in(self):\n",
    "        self.checked_out = False\n",
    "        return f\"Book '{self.title}' by {self.author} has been checked in.\"\n",
    "\n",
    "class DVD(LibraryItem):\n",
    "    def __init__(self, title, author, duration):\n",
    "        super().__init__(title, author)\n",
    "        self.duration = duration\n",
    "\n",
    "    def check_out(self):\n",
    "        self.checked_out = True\n",
    "        return f\"DVD '{self.title}' by {self.author} has been checked out.\"\n",
    "\n",
    "    def check_in(self):\n",
    "        self.checked_out = False\n",
    "        return f\"DVD '{self.title}' by {self.author} has been checked in.\"\n",
    "\n",
    "# Example usage:\n",
    "book = Book(\"The Catcher in the Rye\", \"J.D. Salinger\", \"9780316769488\")\n",
    "print(book.check_out())\n",
    "print(book.display_info())\n",
    "print(book.check_in())\n",
    "print(book.display_info())\n",
    "\n",
    "dvd = DVD(\"Inception\", \"Christopher Nolan\", \"2 hours 28 minutes\")\n",
    "print(dvd.check_out())\n",
    "print(dvd.display_info())\n",
    "print(dvd.check_in())\n",
    "print(dvd.display_info())\n"
   ]
  },
  {
   "cell_type": "markdown",
   "id": "bfd66f92",
   "metadata": {},
   "source": [
    "20. Describe the concept of method abstraction in Python and how it relates to polymorphism."
   ]
  },
  {
   "cell_type": "raw",
   "id": "e588014a",
   "metadata": {},
   "source": [
    "# Method abstraction in Python involves defining methods in a way that focuses on their functionality rather than their implementation details. It's about providing a consistent interface for interacting with objects regardless of their specific implementations. Method abstraction is closely related to polymorphism, which is one of the fundamental principles in object-oriented programming.\n",
    "\n",
    "Method Abstraction:\n",
    "Hides Implementation Details:\n",
    "\n",
    "Method abstraction hides the internal implementation of methods within classes, exposing only the necessary functionalities or behaviors to the outside world. This separation of interface from implementation is a form of abstraction.\n",
    "Defines a Common Interface:\n",
    "\n",
    "By defining methods in classes or interfaces, method abstraction establishes a common interface that objects of different classes adhere to. Users interact with objects based on this interface, without needing to know the specifics of how each class implements the methods.\n",
    "Focuses on What, Not How:\n",
    "\n",
    "Abstraction focuses on what a method does rather than how it achieves its functionality. This separation of concerns allows for changes in implementation without affecting the code that uses the method, promoting flexibility and modularity.\n",
    "Relation to Polymorphism:\n",
    "Polymorphism:\n",
    "\n",
    "Polymorphism refers to the ability of different classes to be treated as instances of the same base class. It allows objects of different classes to be used interchangeably if they share a common interface (method names or signatures).\n",
    "Achieved Through Abstraction:\n",
    "\n",
    "Method abstraction enables polymorphism by defining a common interface that different classes can implement in their own way. As long as these classes adhere to the interface (methods with the same name and signature), they can be used interchangeably through polymorphism.\n",
    "Example of Polymorphism with Method Abstraction:\n",
    "\n",
    "For instance, consider a shape base class with an abstract method calculate_area(). Subclasses like Circle and Rectangle implement their specific calculate_area() methods. Despite having different implementations, both subclasses adhere to the common interface, allowing them to be used interchangeably where the base class is expected."
   ]
  },
  {
   "cell_type": "code",
   "execution_count": 104,
   "id": "ce559fa5",
   "metadata": {},
   "outputs": [
    {
     "name": "stdout",
     "output_type": "stream",
     "text": [
      "Area of the shape: 78.5\n",
      "Area of the shape: 12\n"
     ]
    }
   ],
   "source": [
    "from abc import ABC, abstractmethod\n",
    "\n",
    "class Shape(ABC):\n",
    "    @abstractmethod\n",
    "    def calculate_area(self):\n",
    "        pass\n",
    "\n",
    "class Circle(Shape):\n",
    "    def __init__(self, radius):\n",
    "        self.radius = radius\n",
    "\n",
    "    def calculate_area(self):\n",
    "        return 3.14 * self.radius ** 2\n",
    "\n",
    "class Rectangle(Shape):\n",
    "    def __init__(self, length, width):\n",
    "        self.length = length\n",
    "        self.width = width\n",
    "\n",
    "    def calculate_area(self):\n",
    "        return self.length * self.width\n",
    "\n",
    "# Example usage demonstrating polymorphism\n",
    "shapes = [Circle(5), Rectangle(3, 4)]\n",
    "\n",
    "for shape in shapes:\n",
    "    print(f\"Area of the shape: {shape.calculate_area()}\")\n"
   ]
  },
  {
   "cell_type": "markdown",
   "id": "ea3cc32e",
   "metadata": {},
   "source": [
    "# Composition:"
   ]
  },
  {
   "cell_type": "markdown",
   "id": "8418b1c8",
   "metadata": {},
   "source": [
    "1. Explain the concept of composition in Python and how it is used to build complex objects from simpler ones."
   ]
  },
  {
   "cell_type": "raw",
   "id": "31595afb",
   "metadata": {},
   "source": [
    "\n",
    "In Python, composition refers to the practice of building complex objects by combining simpler objects together. It involves creating complex classes that are composed of one or more instances of other classes, rather than relying on inheritance.\n",
    "\n",
    "Composition promotes a \"has-a\" relationship between objects, where one object is made up of other objects as parts or components. This approach allows for more flexibility and avoids some of the limitations of traditional inheritance, such as the diamond problem.\n",
    "\n",
    "Composition offers several advantages, including better code maintainability, flexibility to change components independently, and the ability to reuse existing classes without coupling them tightly together."
   ]
  },
  {
   "cell_type": "markdown",
   "id": "cf0e37a2",
   "metadata": {},
   "source": [
    "2. Describe the difference between composition and inheritance in object-oriented programming."
   ]
  },
  {
   "cell_type": "raw",
   "id": "19f11465",
   "metadata": {},
   "source": [
    " In object-oriented programming, both composition and inheritance are fundamental concepts, but they differ in how they facilitate the creation and organization of classes and their relationships.\n",
    "\n",
    "Inheritance:\n",
    "Concept: Inheritance is a mechanism where a new class (subclass or derived class) is created by inheriting properties and behaviors (attributes and methods) from an existing class (superclass or base class).\n",
    "\n",
    "Relationship: It establishes an \"is-a\" relationship. For instance, a Car class can inherit from a more general Vehicle class, indicating that a car is a type of vehicle.\n",
    "\n",
    "Code Reusability: It promotes code reuse by allowing subclasses to inherit and extend the functionality of the superclass. Subclasses automatically acquire the attributes and behaviors of the superclass.\n",
    "\n",
    "Usage: It's suitable for modeling hierarchical relationships and when there's a clear taxonomy or classification among classes."
   ]
  },
  {
   "cell_type": "code",
   "execution_count": 105,
   "id": "1b6e3313",
   "metadata": {},
   "outputs": [
    {
     "name": "stdout",
     "output_type": "stream",
     "text": [
      "Moving\n",
      "Driving the car\n"
     ]
    }
   ],
   "source": [
    "class Vehicle:\n",
    "    def move(self):\n",
    "        print(\"Moving\")\n",
    "\n",
    "class Car(Vehicle):  # Inherits from Vehicle\n",
    "    def drive(self):\n",
    "        print(\"Driving the car\")\n",
    "\n",
    "my_car = Car()\n",
    "my_car.move()  # Output: Moving\n",
    "my_car.drive()  # Output: Driving the car\n"
   ]
  },
  {
   "cell_type": "raw",
   "id": "f5eeb682",
   "metadata": {},
   "source": [
    "Composition:\n",
    "Concept: Composition involves constructing complex objects by combining simpler objects or components. Instead of relying on inheritance, it emphasizes creating classes that contain instances of other classes as parts or components.\n",
    "\n",
    "Relationship: It establishes a \"has-a\" relationship, indicating that an object contains or is composed of other objects. For example, a Car class might contain instances of Engine, Wheels, etc.\n",
    "\n",
    "Flexibility: It offers more flexibility and loose coupling between classes. Changes to one class don’t necessarily affect the other, allowing for greater adaptability and easier maintenance.\n",
    "\n",
    "Usage: It's suitable for scenarios where objects are better represented as compositions of other objects rather than fitting into a strict hierarchy."
   ]
  },
  {
   "cell_type": "code",
   "execution_count": 106,
   "id": "376984aa",
   "metadata": {},
   "outputs": [
    {
     "name": "stdout",
     "output_type": "stream",
     "text": [
      "Engine started\n",
      "Wheels rolling\n"
     ]
    }
   ],
   "source": [
    "class Engine:\n",
    "    def start(self):\n",
    "        print(\"Engine started\")\n",
    "\n",
    "class Wheels:\n",
    "    def roll(self):\n",
    "        print(\"Wheels rolling\")\n",
    "\n",
    "class Car:\n",
    "    def __init__(self):\n",
    "        self.engine = Engine()  # Composition: Car 'has-a' Engine\n",
    "        self.wheels = Wheels()  # Composition: Car 'has-a' Wheels\n",
    "\n",
    "    def start_car(self):\n",
    "        self.engine.start()\n",
    "\n",
    "    def move(self):\n",
    "        self.wheels.roll()\n",
    "\n",
    "my_car = Car()\n",
    "my_car.start_car()  # Output: Engine started\n",
    "my_car.move()  # Output: Wheels rolling\n"
   ]
  },
  {
   "cell_type": "markdown",
   "id": "b9ff5009",
   "metadata": {},
   "source": [
    "3. Create a Python class called `Author` with attributes for name and birthdate. Then, create a `Book` class\n",
    "that contains an instance of `Author` as a composition. Provide an example of creating a `Book` object."
   ]
  },
  {
   "cell_type": "code",
   "execution_count": 107,
   "id": "e48f7524",
   "metadata": {},
   "outputs": [
    {
     "name": "stdout",
     "output_type": "stream",
     "text": [
      "Harry Potter and the Sorcerer's Stone by J.K. Rowling, published in 1997\n"
     ]
    }
   ],
   "source": [
    "class Author:\n",
    "    def __init__(self, name, birthdate):\n",
    "        self.name = name\n",
    "        self.birthdate = birthdate\n",
    "\n",
    "class Book:\n",
    "    def __init__(self, title, author, publication_year):\n",
    "        self.title = title\n",
    "        self.author = author  # Composition: Book 'has-a' Author\n",
    "        self.publication_year = publication_year\n",
    "\n",
    "    def book_info(self):\n",
    "        return f\"{self.title} by {self.author.name}, published in {self.publication_year}\"\n",
    "\n",
    "# Creating an Author object\n",
    "author1 = Author(\"J.K. Rowling\", \"July 31, 1965\")\n",
    "\n",
    "# Creating a Book object with an Author composition\n",
    "harry_potter = Book(\"Harry Potter and the Sorcerer's Stone\", author1, 1997)\n",
    "\n",
    "# Getting information about the book\n",
    "print(harry_potter.book_info())  # Output: Harry Potter and the Sorcerer's Stone by J.K. Rowling, published in 1997\n"
   ]
  },
  {
   "cell_type": "markdown",
   "id": "c4a7d9e9",
   "metadata": {},
   "source": [
    "4. Discuss the benefits of using composition over inheritance in Python, especially in terms of code flexibility\n",
    "and reusability."
   ]
  },
  {
   "cell_type": "raw",
   "id": "345ca3e3",
   "metadata": {},
   "source": [
    "Using composition over inheritance in Python offers several benefits, especially in terms of code flexibility and reusability:\n",
    "\n",
    "1. Flexibility:\n",
    "Reduced Coupling: Composition allows classes to be more loosely coupled. Objects can interact through interfaces or by using other objects, leading to less dependency between classes.\n",
    "Ease of Modification: Changes in one class don’t affect the other. Modifying or extending one class does not necessarily impact the entire hierarchy, making the code more adaptable.\n",
    "2. Code Reusability:\n",
    "Promotes Modular Design: Composition facilitates modular design, enabling the reuse of components in various contexts without enforcing a rigid hierarchy. Components can be used in multiple classes independently.\n",
    "Mix-and-Match Components: As objects are composed of other objects, it becomes easier to mix and match components to create new objects with different behaviors or features.\n",
    "3. Better Encapsulation:\n",
    "Controlled Access: Composition allows better control over access to components. You can expose only the necessary functionalities of the composed objects to the outside world, enhancing encapsulation.\n",
    "4. Avoids Diamond Problem:\n",
    "Inheritance can lead to complexities like the diamond problem, where ambiguity arises due to multiple inheritance paths. Composition helps bypass such problems by focusing on assembling objects rather than inheriting from multiple sources.\n",
    "5. Easier Testing and Debugging:\n",
    "Unit Testing: Composition often leads to classes that are easier to test in isolation because of their loosely coupled nature. Mocking or substituting components during testing becomes simpler.\n",
    "Debugging: Problems are easier to trace and debug since changes in one component do not ripple through an entire hierarchy of classes.\n",
    "6. Scalability and Maintenance:\n",
    "Scalability: As the codebase grows, composed classes tend to scale more gracefully, reducing the complexity of class hierarchies and making maintenance more manageable.\n",
    "Simplified Maintenance: Changes and updates to specific functionalities or components are localized, reducing the likelihood of unintended consequences in other parts of the codebase.\n",
    "7. Design Patterns:\n",
    "Composition is a fundamental principle in various design patterns (e.g., Strategy, Decorator, and Dependency Injection), enabling elegant solutions to complex problems without creating deeply nested inheritance structures."
   ]
  },
  {
   "cell_type": "markdown",
   "id": "fad8b04d",
   "metadata": {},
   "source": [
    "5. How can you implement composition in Python classes? Provide examples of using composition to create\n",
    "complex objects."
   ]
  },
  {
   "cell_type": "code",
   "execution_count": 108,
   "id": "fcd9e2e9",
   "metadata": {},
   "outputs": [
    {
     "name": "stdout",
     "output_type": "stream",
     "text": [
      "Engine started\n",
      "Wheels rolling\n"
     ]
    }
   ],
   "source": [
    "#Creating a complex Car object using composition\n",
    "class Engine:\n",
    "    def start(self):\n",
    "        print(\"Engine started\")\n",
    "\n",
    "\n",
    "class Wheels:\n",
    "    def roll(self):\n",
    "        print(\"Wheels rolling\")\n",
    "\n",
    "\n",
    "class Car:\n",
    "    def __init__(self):\n",
    "        self.engine = Engine()  # Composition: Car 'has-a' Engine\n",
    "        self.wheels = Wheels()  # Composition: Car 'has-a' Wheels\n",
    "\n",
    "    def start_car(self):\n",
    "        self.engine.start()\n",
    "\n",
    "    def move(self):\n",
    "        self.wheels.roll()\n",
    "\n",
    "\n",
    "# Creating a Car object\n",
    "my_car = Car()\n",
    "\n",
    "# Using the Car object\n",
    "my_car.start_car()  # Output: Engine started\n",
    "my_car.move()  # Output: Wheels rolling\n"
   ]
  },
  {
   "cell_type": "raw",
   "id": "1d0134c5",
   "metadata": {},
   "source": [
    "\n",
    "Implementing composition in Python involves creating classes that contain instances of other classes as attributes. Here are examples demonstrating how to use composition to create complex objects:"
   ]
  },
  {
   "cell_type": "markdown",
   "id": "ec27093a",
   "metadata": {},
   "source": [
    "6. Create a Python class hierarchy for a music player system, using composition to represent playlists and\n",
    "songs."
   ]
  },
  {
   "cell_type": "code",
   "execution_count": 109,
   "id": "dca68672",
   "metadata": {},
   "outputs": [
    {
     "name": "stdout",
     "output_type": "stream",
     "text": [
      "Playlist: Pop Hits\n",
      "Playing: Shape of You by Ed Sheeran\n",
      "Playing: Believer by Imagine Dragons\n",
      "Playlist: Classic Rock\n",
      "Playing: Bohemian Rhapsody by Queen\n"
     ]
    }
   ],
   "source": [
    "class Song:\n",
    "    def __init__(self, title, artist, duration):\n",
    "        self.title = title\n",
    "        self.artist = artist\n",
    "        self.duration = duration\n",
    "\n",
    "    def play(self):\n",
    "        print(f\"Playing: {self.title} by {self.artist}\")\n",
    "\n",
    "\n",
    "class Playlist:\n",
    "    def __init__(self, name):\n",
    "        self.name = name\n",
    "        self.songs = []  # Composition: Playlist 'has-many' Songs\n",
    "\n",
    "    def add_song(self, song):\n",
    "        self.songs.append(song)\n",
    "\n",
    "    def play_all(self):\n",
    "        print(f\"Playlist: {self.name}\")\n",
    "        for song in self.songs:\n",
    "            song.play()\n",
    "\n",
    "\n",
    "# Creating Song objects\n",
    "song1 = Song(\"Shape of You\", \"Ed Sheeran\", \"4:23\")\n",
    "song2 = Song(\"Believer\", \"Imagine Dragons\", \"3:24\")\n",
    "song3 = Song(\"Bohemian Rhapsody\", \"Queen\", \"6:07\")\n",
    "\n",
    "# Creating Playlist objects with Songs composition\n",
    "playlist1 = Playlist(\"Pop Hits\")\n",
    "playlist1.add_song(song1)\n",
    "playlist1.add_song(song2)\n",
    "\n",
    "playlist2 = Playlist(\"Classic Rock\")\n",
    "playlist2.add_song(song3)\n",
    "\n",
    "# Playing songs from playlists\n",
    "playlist1.play_all()\n",
    "playlist2.play_all()\n"
   ]
  },
  {
   "cell_type": "markdown",
   "id": "96bacbc4",
   "metadata": {},
   "source": [
    "7. Explain the concept of \"has-a\" relationships in composition and how it helps design software systems."
   ]
  },
  {
   "cell_type": "raw",
   "id": "f3d71d63",
   "metadata": {},
   "source": [
    "The \"has-a\" relationship in composition refers to the concept where one class contains an instance of another class as a component or part. It signifies that an object of one class \"has\" another object as one of its attributes or components, creating a hierarchical relationship between the classes.\n",
    "\n",
    "Characteristics of \"Has-a\" Relationships in Composition:\n",
    "Containment: One class contains an instance of another class within its structure. For instance, a Car class might contain an Engine object, indicating that a car \"has\" an engine.\n",
    "\n",
    "Code Reusability: Composition promotes code reuse by allowing the reuse of existing classes as components within new classes. This facilitates building complex objects from simpler ones.\n",
    "\n",
    "Flexibility and Modularity: It enables a modular design approach, where objects are constructed by assembling smaller components. This modularity provides flexibility in designing and modifying software systems.\n",
    "\n",
    "Loose Coupling: Classes are more loosely coupled compared to inheritance hierarchies. Changes in one class don’t necessarily affect the other, leading to a more adaptable and maintainable codebase.\n",
    "\n",
    "Benefits of \"Has-a\" Relationships in Software Design:\n",
    "Modularity: Composition enables the creation of modular, reusable components that can be easily managed and modified independently. This facilitates scalability and maintenance in software systems.\n",
    "\n",
    "Flexibility and Extensibility: It allows for greater flexibility in designing objects by assembling various components. New functionalities can be added by integrating new components without altering the existing codebase extensively.\n",
    "\n",
    "Reduced Complexity: By breaking down complex objects into smaller components, the overall complexity of the system is reduced. This simplifies development, testing, and debugging.\n",
    "\n",
    "Encapsulation and Abstraction: It supports encapsulation by controlling access to the internal components of an object. Abstraction is achieved by focusing on the interfaces exposed by the composed objects.\n",
    "\n",
    "Example Scenario:\n",
    "Consider a Car class composed of Engine, Wheels, and Transmission classes. The Car \"has\" an engine, wheels, and a transmission. Each component can be individually managed, modified, or replaced without directly impacting the entire Car object, providing flexibility and maintainability."
   ]
  },
  {
   "cell_type": "markdown",
   "id": "70e6c548",
   "metadata": {},
   "source": [
    "8. Create a Python class for a computer system, using composition to represent components like CPU, RAM,\n",
    "and storage devices."
   ]
  },
  {
   "cell_type": "code",
   "execution_count": 110,
   "id": "24670696",
   "metadata": {},
   "outputs": [
    {
     "name": "stdout",
     "output_type": "stream",
     "text": [
      "Computer Specifications:\n",
      "CPU: Intel Core i7, Cores: 8\n",
      "RAM: 16GB, Speed: 3200MHz\n",
      "Storage: 512GB, Type: SSD\n"
     ]
    }
   ],
   "source": [
    "class CPU:\n",
    "    def __init__(self, model, cores):\n",
    "        self.model = model\n",
    "        self.cores = cores\n",
    "\n",
    "    def __str__(self):\n",
    "        return f\"CPU: {self.model}, Cores: {self.cores}\"\n",
    "\n",
    "\n",
    "class RAM:\n",
    "    def __init__(self, size_GB, speed_MHz):\n",
    "        self.size_GB = size_GB\n",
    "        self.speed_MHz = speed_MHz\n",
    "\n",
    "    def __str__(self):\n",
    "        return f\"RAM: {self.size_GB}GB, Speed: {self.speed_MHz}MHz\"\n",
    "\n",
    "\n",
    "class Storage:\n",
    "    def __init__(self, capacity_GB, type):\n",
    "        self.capacity_GB = capacity_GB\n",
    "        self.type = type\n",
    "\n",
    "    def __str__(self):\n",
    "        return f\"Storage: {self.capacity_GB}GB, Type: {self.type}\"\n",
    "\n",
    "\n",
    "class Computer:\n",
    "    def __init__(self, cpu, ram, storage):\n",
    "        self.cpu = cpu  # Composition: Computer 'has-a' CPU\n",
    "        self.ram = ram  # Composition: Computer 'has-a' RAM\n",
    "        self.storage = storage  # Composition: Computer 'has-a' Storage\n",
    "\n",
    "    def specs(self):\n",
    "        return f\"Computer Specifications:\\n{self.cpu}\\n{self.ram}\\n{self.storage}\"\n",
    "\n",
    "\n",
    "# Creating CPU, RAM, and Storage objects\n",
    "my_cpu = CPU(\"Intel Core i7\", 8)\n",
    "my_ram = RAM(16, 3200)\n",
    "my_storage = Storage(512, \"SSD\")\n",
    "\n",
    "# Creating a Computer object with CPU, RAM, and Storage composition\n",
    "my_computer = Computer(my_cpu, my_ram, my_storage)\n",
    "\n",
    "# Displaying computer specifications\n",
    "print(my_computer.specs())\n"
   ]
  },
  {
   "cell_type": "markdown",
   "id": "a64fa1bc",
   "metadata": {},
   "source": [
    "9. Describe the concept of \"delegation\" in composition and how it simplifies the design of complex systems."
   ]
  },
  {
   "cell_type": "markdown",
   "id": "ca5f637a",
   "metadata": {},
   "source": [
    "Delegation in composition refers to the process of allowing one object to pass on or delegate certain responsibilities or behaviors to another object it contains. This pattern is a fundamental aspect of composition, where an object forwards a method call or operation to another object it holds, rather than implementing the behavior itself.\n",
    "\n",
    "Key Points about Delegation in Composition:\n",
    "Passing Responsibilities: Instead of handling certain functionalities internally, an object delegates specific tasks or behaviors to other objects it is composed of.\n",
    "\n",
    "Loose Coupling: Delegation fosters loose coupling between objects. The delegating object doesn’t need detailed knowledge of how the delegated behavior is executed; it merely relies on the composed object to handle it.\n",
    "\n",
    "Promotes Modularity: Delegation enhances modularity by allowing objects to focus on specific tasks. Each component in the composition is responsible for its specialized behavior, leading to a more manageable and maintainable system.\n",
    "\n",
    "Code Reusability: It promotes code reuse by utilizing existing components to handle various functionalities. Objects can delegate to different components based on specific needs, avoiding redundant code.\n",
    "\n",
    "Simplification of Complex Systems:\n",
    "Encapsulation of Responsibilities: Delegation allows for the encapsulation of responsibilities within individual objects. Each component focuses on a specific aspect of functionality, simplifying the design by breaking down complex tasks into smaller, manageable units.\n",
    "\n",
    "Easier Maintenance: Delegation simplifies system maintenance by dividing responsibilities among objects. When modifications or updates are needed, changes can often be localized to specific components without affecting the entire system.\n",
    "\n",
    "Adaptability and Extensibility: Complex systems designed using delegation are more adaptable and extensible. New functionalities can be added by incorporating new objects or altering the delegation flow without impacting the entire system."
   ]
  },
  {
   "cell_type": "markdown",
   "id": "0e30188e",
   "metadata": {},
   "source": [
    "10. Create a Python class for a car, using composition to represent components like the engine, wheels, and\n",
    "transmission."
   ]
  },
  {
   "cell_type": "code",
   "execution_count": 111,
   "id": "1866008c",
   "metadata": {},
   "outputs": [
    {
     "name": "stdout",
     "output_type": "stream",
     "text": [
      "Engine started\n",
      "4 wheels rolling\n",
      "Shifted to gear 3\n",
      "Engine stopped\n"
     ]
    }
   ],
   "source": [
    "class Engine:\n",
    "    def __init__(self, fuel_type, horsepower):\n",
    "        self.fuel_type = fuel_type\n",
    "        self.horsepower = horsepower\n",
    "\n",
    "    def start(self):\n",
    "        print(\"Engine started\")\n",
    "\n",
    "    def stop(self):\n",
    "        print(\"Engine stopped\")\n",
    "\n",
    "\n",
    "class Wheels:\n",
    "    def __init__(self, count):\n",
    "        self.count = count\n",
    "\n",
    "    def roll(self):\n",
    "        print(f\"{self.count} wheels rolling\")\n",
    "\n",
    "\n",
    "class Transmission:\n",
    "    def __init__(self, transmission_type):\n",
    "        self.transmission_type = transmission_type\n",
    "\n",
    "    def shift_gear(self, gear):\n",
    "        print(f\"Shifted to gear {gear}\")\n",
    "\n",
    "\n",
    "class Car:\n",
    "    def __init__(self, engine, wheels, transmission):\n",
    "        self.engine = engine  # Composition: Car 'has-a' Engine\n",
    "        self.wheels = wheels  # Composition: Car 'has-a' Wheels\n",
    "        self.transmission = transmission  # Composition: Car 'has-a' Transmission\n",
    "\n",
    "    def start_car(self):\n",
    "        self.engine.start()\n",
    "\n",
    "    def stop_car(self):\n",
    "        self.engine.stop()\n",
    "\n",
    "    def move(self):\n",
    "        self.wheels.roll()\n",
    "\n",
    "    def change_gear(self, gear):\n",
    "        self.transmission.shift_gear(gear)\n",
    "\n",
    "\n",
    "# Creating Engine, Wheels, and Transmission objects\n",
    "my_engine = Engine(\"Gasoline\", 200)\n",
    "my_wheels = Wheels(4)\n",
    "my_transmission = Transmission(\"Automatic\")\n",
    "\n",
    "# Creating a Car object with Engine, Wheels, and Transmission composition\n",
    "my_car = Car(my_engine, my_wheels, my_transmission)\n",
    "\n",
    "# Interacting with the Car object\n",
    "my_car.start_car()  # Output: Engine started\n",
    "my_car.move()  # Output: 4 wheels rolling\n",
    "my_car.change_gear(3)  # Output: Shifted to gear 3\n",
    "my_car.stop_car()  # Output: Engine stopped\n"
   ]
  },
  {
   "cell_type": "markdown",
   "id": "608d52eb",
   "metadata": {},
   "source": [
    "11. How can you encapsulate and hide the details of composed objects in Python classes to maintain\n",
    "abstraction?"
   ]
  },
  {
   "cell_type": "raw",
   "id": "7da354ac",
   "metadata": {},
   "source": [
    "\n",
    "Encapsulation and abstraction are essential concepts in object-oriented programming that help in managing complexity and promoting a clear separation of concerns. In Python, you can encapsulate and hide the details of composed objects within classes to maintain abstraction by following certain practices:\n",
    "\n",
    "1. Use Private Attributes:\n",
    "Encapsulation can be enforced by making attributes private using a single leading underscore _ or double leading underscore __. This practice discourages direct access to internal attributes from outside the class."
   ]
  },
  {
   "cell_type": "code",
   "execution_count": 112,
   "id": "515f56cc",
   "metadata": {},
   "outputs": [],
   "source": [
    "class Car:\n",
    "    def __init__(self, engine, wheels, transmission):\n",
    "        self._engine = engine  # Encapsulating engine (private)\n",
    "        self._wheels = wheels  # Encapsulating wheels (private)\n",
    "        self._transmission = transmission  # Encapsulating transmission (private)\n"
   ]
  },
  {
   "cell_type": "raw",
   "id": "6b630ba4",
   "metadata": {},
   "source": [
    "2. Provide Controlled Access with Methods:\n",
    "Encapsulate the behavior related to composed objects by providing getter and setter methods within the class. These methods allow controlled access to the encapsulated attributes."
   ]
  },
  {
   "cell_type": "code",
   "execution_count": 113,
   "id": "c180780a",
   "metadata": {},
   "outputs": [],
   "source": [
    "class Car:\n",
    "    # ... (previous attributes and initialization)\n",
    "\n",
    "    def get_engine_details(self):\n",
    "        return self._engine.get_details()\n",
    "\n",
    "    def set_transmission_type(self, transmission_type):\n",
    "        self._transmission.set_type(transmission_type)\n"
   ]
  },
  {
   "cell_type": "raw",
   "id": "d102f2f1",
   "metadata": {},
   "source": [
    "Use Abstraction through Interfaces:\n",
    "Define abstract methods or interfaces within the class to provide a contract for interacting with composed objects. These methods may not have a specific implementation in the base class but can be implemented in subclasses."
   ]
  },
  {
   "cell_type": "code",
   "execution_count": 114,
   "id": "3d827780",
   "metadata": {},
   "outputs": [],
   "source": [
    "from abc import ABC, abstractmethod\n",
    "\n",
    "class Engine(ABC):\n",
    "    @abstractmethod\n",
    "    def start(self):\n",
    "        pass\n",
    "\n",
    "class Car:\n",
    "    def __init__(self, engine):\n",
    "        self._engine = engine\n",
    "\n",
    "    def start_car(self):\n",
    "        self._engine.start()\n"
   ]
  },
  {
   "cell_type": "markdown",
   "id": "38377001",
   "metadata": {},
   "source": [
    "4. Limit Direct Access to Composed Objects:\n",
    "Avoid exposing composed objects directly to external code. Encapsulation ensures that internal objects are only accessible through defined interfaces or methods, maintaining the abstraction level.\n",
    "Benefits of Encapsulation and Abstraction:\n",
    "Hiding Complexity: Users of the class don’t need to know the internal details of composed objects, simplifying usage and reducing the chances of misuse or errors.\n",
    "\n",
    "Ease of Maintenance: Encapsulation allows changes to be made to the internal implementation of composed objects without affecting the external interface, enhancing maintainability.\n",
    "\n",
    "Promoting Modularity: Abstraction through encapsulation helps in creating modular, reusable components that can be independently managed and modified.\n",
    "\n",
    "By encapsulating and abstracting composed objects within Python classes, you can maintain a clear boundary between the implementation details and the external interface, promoting a more robust and understandable codebase."
   ]
  },
  {
   "cell_type": "markdown",
   "id": "1303fa89",
   "metadata": {},
   "source": [
    "12. Create a Python class for a university course, using composition to represent students, instructors, and\n",
    "course materials."
   ]
  },
  {
   "cell_type": "code",
   "execution_count": 115,
   "id": "21e234e8",
   "metadata": {},
   "outputs": [
    {
     "name": "stdout",
     "output_type": "stream",
     "text": [
      "Course: Python Programming\n",
      "Instructor: Instructor: Professor Smith, Employee ID: EMP123\n",
      "Students:\n",
      "- Student: Alice, ID: 1001\n",
      "- Student: Bob, ID: 1002\n",
      "Course Material:\n",
      "Textbook: Introduction to Python\n",
      "Slides: Week 1 Slides\n"
     ]
    }
   ],
   "source": [
    "class Student:\n",
    "    def __init__(self, name, student_id):\n",
    "        self.name = name\n",
    "        self.student_id = student_id\n",
    "\n",
    "    def __str__(self):\n",
    "        return f\"Student: {self.name}, ID: {self.student_id}\"\n",
    "\n",
    "\n",
    "class Instructor:\n",
    "    def __init__(self, name, employee_id):\n",
    "        self.name = name\n",
    "        self.employee_id = employee_id\n",
    "\n",
    "    def __str__(self):\n",
    "        return f\"Instructor: {self.name}, Employee ID: {self.employee_id}\"\n",
    "\n",
    "\n",
    "class CourseMaterial:\n",
    "    def __init__(self, textbook, slides):\n",
    "        self.textbook = textbook\n",
    "        self.slides = slides\n",
    "\n",
    "    def display_material(self):\n",
    "        print(f\"Textbook: {self.textbook}\")\n",
    "        print(f\"Slides: {self.slides}\")\n",
    "\n",
    "\n",
    "class Course:\n",
    "    def __init__(self, course_name, instructor, students, course_material):\n",
    "        self.course_name = course_name\n",
    "        self.instructor = instructor  # Composition: Course 'has-an' Instructor\n",
    "        self.students = students  # Composition: Course 'has-many' Students\n",
    "        self.course_material = course_material  # Composition: Course 'has-a' CourseMaterial\n",
    "\n",
    "    def display_course_info(self):\n",
    "        print(f\"Course: {self.course_name}\")\n",
    "        print(\"Instructor:\", self.instructor)\n",
    "        print(\"Students:\")\n",
    "        for student in self.students:\n",
    "            print(\"-\", student)\n",
    "        print(\"Course Material:\")\n",
    "        self.course_material.display_material()\n",
    "\n",
    "\n",
    "# Creating Student objects\n",
    "student1 = Student(\"Alice\", 1001)\n",
    "student2 = Student(\"Bob\", 1002)\n",
    "\n",
    "# Creating Instructor object\n",
    "instructor = Instructor(\"Professor Smith\", \"EMP123\")\n",
    "\n",
    "# Creating CourseMaterial object\n",
    "course_material = CourseMaterial(\"Introduction to Python\", \"Week 1 Slides\")\n",
    "\n",
    "# Creating a Course object with Students, Instructor, and CourseMaterial composition\n",
    "my_course = Course(\"Python Programming\", instructor, [student1, student2], course_material)\n",
    "\n",
    "# Displaying course information\n",
    "my_course.display_course_info()\n"
   ]
  },
  {
   "cell_type": "markdown",
   "id": "1961541b",
   "metadata": {},
   "source": [
    "13. Discuss the challenges and drawbacks of composition, such as increased complexity and potential for\n",
    "tight coupling between objects."
   ]
  },
  {
   "cell_type": "raw",
   "id": "6ca288f9",
   "metadata": {},
   "source": [
    "While composition offers several advantages in object-oriented design, it can also present challenges and drawbacks that developers should consider:\n",
    "\n",
    "1. Increased Complexity:\n",
    "Object Hierarchy: As more components are composed to create complex objects, the hierarchy and relationships between objects can become intricate, potentially making the codebase harder to understand and maintain.\n",
    "\n",
    "Managing Dependencies: With multiple objects interacting through composition, managing dependencies and understanding the flow of interactions can become challenging, especially in larger systems.\n",
    "\n",
    "2. Potential for Tight Coupling:\n",
    "Coupling Between Components: Poorly managed composition can lead to tight coupling between objects. If one object relies heavily on the internal details of another object, changes in one component may significantly impact others, making the system less flexible.\n",
    "3. Maintenance and Modification:\n",
    "Impact of Changes: Modifications to one component might necessitate changes in other interconnected components, especially if the interfaces between objects are tightly coupled. This can increase the complexity of maintaining and updating the system.\n",
    "4. Abstraction and Interface Design:\n",
    "Abstraction Levels: Deciding the appropriate level of abstraction and defining interfaces between composed objects can be challenging. Choosing proper boundaries for encapsulation while maintaining a clear and usable interface is crucial.\n",
    "5. Object Creation and Destruction:\n",
    "Lifecycle Management: Handling the creation, initialization, and destruction of composed objects requires careful attention to avoid resource leaks or inconsistencies in the system.\n",
    "6. Performance Overhead:\n",
    "Indirection and Performance: Composition might introduce indirection in accessing components, potentially causing a slight performance overhead compared to direct access or inheritance-based designs.\n",
    "7. Design Complexity:\n",
    "Design Decision Complexity: Deciding how to compose objects, defining relationships, and managing interactions between components require thoughtful design decisions, which might add complexity during the initial design phase.\n",
    "Mitigating Composition Challenges:\n",
    "Clear Interface Definitions: Establish clear and concise interfaces between composed objects to minimize tight coupling and enhance modularity.\n",
    "\n",
    "Proper Encapsulation: Ensure proper encapsulation of internal details to limit the exposure of components and reduce dependencies.\n",
    "\n",
    "Use of Design Patterns: Applying design patterns such as Dependency Injection, Strategy Pattern, or Decorator Pattern can help manage composition complexities and improve flexibility.\n",
    "\n",
    "Effective Testing and Refactoring: Comprehensive testing and periodic refactoring can help identify and address issues related to composition while maintaining the system's integrity.\n",
    "\n",
    "While composition can introduce complexities and challenges, careful design, abstraction, and adherence to best practices can mitigate these drawbacks, allowing for a more maintainable and flexible system built upon composed objects."
   ]
  },
  {
   "cell_type": "markdown",
   "id": "0b001225",
   "metadata": {},
   "source": [
    "14. Create a Python class hierarchy for a restaurant system, using composition to represent menus, dishes,\n",
    "and ingredients."
   ]
  },
  {
   "cell_type": "code",
   "execution_count": 117,
   "id": "12222e53",
   "metadata": {},
   "outputs": [
    {
     "name": "stdout",
     "output_type": "stream",
     "text": [
      "Menu: Italian Cuisine\n",
      "Dishes:\n",
      "Dish: Margherita Pizza\n",
      "Ingredients:\n",
      "- 3 Tomato\n",
      "- 200 Cheese\n",
      "- 4 Bread\n",
      "\n",
      "Dish: Caesar Salad\n",
      "Ingredients:\n",
      "- 3 Tomato\n",
      "- 200 Cheese\n",
      "\n"
     ]
    }
   ],
   "source": [
    "class Ingredient:\n",
    "    def __init__(self, name, quantity):\n",
    "        self.name = name\n",
    "        self.quantity = quantity\n",
    "\n",
    "    def __str__(self):\n",
    "        return f\"{self.quantity} {self.name}\"\n",
    "\n",
    "\n",
    "class Dish:\n",
    "    def __init__(self, name, ingredients):\n",
    "        self.name = name\n",
    "        self.ingredients = ingredients  # Composition: Dish 'has-many' Ingredients\n",
    "\n",
    "    def display_dish(self):\n",
    "        print(f\"Dish: {self.name}\")\n",
    "        print(\"Ingredients:\")\n",
    "        for ingredient in self.ingredients:\n",
    "            print(\"-\", ingredient)\n",
    "\n",
    "\n",
    "class Menu:\n",
    "    def __init__(self, name, dishes):\n",
    "        self.name = name\n",
    "        self.dishes = dishes  # Composition: Menu 'has-many' Dishes\n",
    "\n",
    "    def display_menu(self):\n",
    "        print(f\"Menu: {self.name}\")\n",
    "        print(\"Dishes:\")\n",
    "        for dish in self.dishes:\n",
    "            dish.display_dish()\n",
    "            print()\n",
    "\n",
    "\n",
    "# Creating Ingredient objects\n",
    "ingredient1 = Ingredient(\"Tomato\", 3)\n",
    "ingredient2 = Ingredient(\"Cheese\", 200)\n",
    "ingredient3 = Ingredient(\"Bread\", 4)\n",
    "\n",
    "# Creating Dish objects with Ingredients composition\n",
    "dish1 = Dish(\"Margherita Pizza\", [ingredient1, ingredient2, ingredient3])\n",
    "dish2 = Dish(\"Caesar Salad\", [ingredient1, ingredient2])\n",
    "\n",
    "# Creating Menu object with Dishes composition\n",
    "menu = Menu(\"Italian Cuisine\", [dish1, dish2])\n",
    "\n",
    "# Displaying menu information\n",
    "menu.display_menu()\n"
   ]
  },
  {
   "cell_type": "markdown",
   "id": "dbe657d6",
   "metadata": {},
   "source": [
    "15. Explain how composition enhances code maintainability and modularity in Python programs."
   ]
  },
  {
   "cell_type": "markdown",
   "id": "74cbabab",
   "metadata": {},
   "source": [
    "Composition plays a crucial role in enhancing code maintainability and modularity in Python programs by offering several advantages:\n",
    "\n",
    "1. Modularity:\n",
    "Component Reusability: Composition allows the creation of reusable components. Objects can be used as building blocks, enabling the construction of various complex objects from simpler ones.\n",
    "\n",
    "Independent Components: Composed objects are relatively independent entities. Each component can be developed, tested, and maintained separately, promoting a modular design approach.\n",
    "\n",
    "2. Code Maintainability:\n",
    "Encapsulation: Composition facilitates encapsulation by hiding the internal details of composed objects. This shields the rest of the program from complexity, reducing the risk of unintended side effects during modifications or updates.\n",
    "\n",
    "Easier Debugging: Composed objects tend to have well-defined boundaries. Debugging becomes easier as issues can often be isolated to specific components without affecting the entire system.\n",
    "\n",
    "3. Flexibility and Scalability:\n",
    "Adaptability: Changes in one component do not necessarily impact others. This flexibility allows for easier adaptation to evolving requirements or technology changes.\n",
    "\n",
    "Scalability: Composed objects often scale more gracefully than monolithic structures. New functionalities or components can be added or modified without disrupting the entire system.\n",
    "\n",
    "4. Reduced Coupling:\n",
    "Loose Coupling: Composition generally leads to loose coupling between objects. Objects interact through well-defined interfaces rather than relying on intricate hierarchies, reducing dependency and allowing easier modifications.\n",
    "5. Promoting Best Practices:\n",
    "Encourages Design Patterns: Composition encourages the use of design patterns that emphasize modular and maintainable code, such as Dependency Injection, Strategy Pattern, or Decorator Pattern.\n",
    "Example:\n",
    "Consider a scenario where a Car class is composed of Engine, Wheels, and Transmission components. If the Engine needs an update or replacement, only the Engine component needs modification without affecting the entire Car class. This encapsulation and modular design allow for better maintainability and adaptability.\n",
    "In summary, composition in Python fosters a modular and maintainable codebase by encapsulating functionalities into individual components. It promotes code reuse, reduces complexity, and enables easier maintenance and scalability, aligning with best practices for software development."
   ]
  },
  {
   "cell_type": "markdown",
   "id": "0ee04175",
   "metadata": {},
   "source": [
    "16. Create a Python class for a computer game character, using composition to represent attributes like\n",
    "weapons, armor, and inventory."
   ]
  },
  {
   "cell_type": "code",
   "execution_count": 118,
   "id": "3330906e",
   "metadata": {},
   "outputs": [
    {
     "name": "stdout",
     "output_type": "stream",
     "text": [
      "Character: Hero\n",
      "Equipped Weapon: Weapon: Sword, Damage: 20\n",
      "Equipped Armor: Armor: Shield, Defense: 10\n",
      "Inventory Items:\n",
      "- Item: Health Potion, Quantity: 5\n",
      "- Item: Key, Quantity: 1\n"
     ]
    }
   ],
   "source": [
    "class Weapon:\n",
    "    def __init__(self, name, damage):\n",
    "        self.name = name\n",
    "        self.damage = damage\n",
    "\n",
    "    def __str__(self):\n",
    "        return f\"Weapon: {self.name}, Damage: {self.damage}\"\n",
    "\n",
    "\n",
    "class Armor:\n",
    "    def __init__(self, name, defense):\n",
    "        self.name = name\n",
    "        self.defense = defense\n",
    "\n",
    "    def __str__(self):\n",
    "        return f\"Armor: {self.name}, Defense: {self.defense}\"\n",
    "\n",
    "\n",
    "class InventoryItem:\n",
    "    def __init__(self, name, quantity):\n",
    "        self.name = name\n",
    "        self.quantity = quantity\n",
    "\n",
    "    def __str__(self):\n",
    "        return f\"Item: {self.name}, Quantity: {self.quantity}\"\n",
    "\n",
    "\n",
    "class GameCharacter:\n",
    "    def __init__(self, name, weapon=None, armor=None, inventory=None):\n",
    "        self.name = name\n",
    "        self.weapon = weapon  # Composition: GameCharacter 'has-a' Weapon\n",
    "        self.armor = armor  # Composition: GameCharacter 'has-an' Armor\n",
    "        self.inventory = inventory or []  # Composition: GameCharacter 'has-many' InventoryItems\n",
    "\n",
    "    def equip_weapon(self, weapon):\n",
    "        self.weapon = weapon\n",
    "\n",
    "    def equip_armor(self, armor):\n",
    "        self.armor = armor\n",
    "\n",
    "    def add_to_inventory(self, item):\n",
    "        self.inventory.append(item)\n",
    "\n",
    "    def display_character_info(self):\n",
    "        print(f\"Character: {self.name}\")\n",
    "        if self.weapon:\n",
    "            print(\"Equipped Weapon:\", self.weapon)\n",
    "        if self.armor:\n",
    "            print(\"Equipped Armor:\", self.armor)\n",
    "        if self.inventory:\n",
    "            print(\"Inventory Items:\")\n",
    "            for item in self.inventory:\n",
    "                print(\"-\", item)\n",
    "\n",
    "\n",
    "# Creating Weapon, Armor, and InventoryItem objects\n",
    "sword = Weapon(\"Sword\", 20)\n",
    "shield = Armor(\"Shield\", 10)\n",
    "health_potion = InventoryItem(\"Health Potion\", 5)\n",
    "key = InventoryItem(\"Key\", 1)\n",
    "\n",
    "# Creating a GameCharacter object with composed attributes\n",
    "hero = GameCharacter(\"Hero\")\n",
    "hero.equip_weapon(sword)\n",
    "hero.equip_armor(shield)\n",
    "hero.add_to_inventory(health_potion)\n",
    "hero.add_to_inventory(key)\n",
    "\n",
    "# Displaying character information\n",
    "hero.display_character_info()\n"
   ]
  },
  {
   "cell_type": "markdown",
   "id": "495f74ad",
   "metadata": {},
   "source": [
    "17. Describe the concept of \"aggregation\" in composition and how it differs from simple composition."
   ]
  },
  {
   "cell_type": "raw",
   "id": "d7ab5000",
   "metadata": {},
   "source": [
    " In object-oriented programming, \"aggregation\" is a specific form of composition that represents a \"has-a\" relationship between objects, but with a subtle difference compared to simple composition.\n",
    "\n",
    "Concept of Aggregation in Composition:\n",
    "Aggregation implies a relationship where one object (the whole) contains or is associated with another object (the part), but the part can exist independently of the whole.\n",
    "\n",
    "It represents a more loosely coupled relationship, where the part objects can be shared among multiple instances or can exist independently.\n",
    "\n",
    "Key Differences from Simple Composition:\n",
    "Independence of Lifetimes:\n",
    "\n",
    "In aggregation, the part objects have an existence independent of the whole. They can be created and destroyed separately from the container object.\n",
    "Whereas, in simple composition, the life cycle of the part objects is directly tied to the container object. If the container is destroyed, the parts might also be destroyed.\n",
    "Multiplicity and Reusability:\n",
    "\n",
    "Aggregated objects can be shared among multiple instances or used in different contexts, promoting reusability.\n",
    "In simple composition, the parts are usually dedicated to a single container object, limiting their reusability.\n",
    "Navigation and Ownership:\n",
    "\n",
    "In aggregation, the container object might hold a reference to the part objects, but it doesn't necessarily own or manage their creation and destruction.\n",
    "In simple composition, the container object typically owns the parts, controls their creation, and might directly manipulate their lifecycle.\n",
    "Aggregation in composition represents a \"whole-part\" relationship where the part objects can exist independently, are loosely coupled to the container object, and can be shared among multiple instances. This differs from simple composition, where the parts are more tightly integrated into the lifecycle of the container object."
   ]
  },
  {
   "cell_type": "markdown",
   "id": "b995fd6e",
   "metadata": {},
   "source": [
    "18. Create a Python class for a house, using composition to represent rooms, furniture, and appliances."
   ]
  },
  {
   "cell_type": "code",
   "execution_count": 119,
   "id": "019fa8a1",
   "metadata": {},
   "outputs": [
    {
     "name": "stdout",
     "output_type": "stream",
     "text": [
      "Living Room - Area: 25 sqft\n",
      "Furniture:\n",
      "- Sofa\n",
      "- Coffee Table\n",
      "Appliances:\n",
      "- TV\n",
      "- Sound System\n",
      "\n",
      "Kitchen - Area: 20 sqft\n",
      "Furniture:\n",
      "- Dining Table\n",
      "Appliances:\n",
      "- Refrigerator\n",
      "- Oven\n",
      "\n"
     ]
    }
   ],
   "source": [
    "class Room:\n",
    "    def __init__(self, name, area):\n",
    "        self.name = name\n",
    "        self.area = area\n",
    "        self.furniture = []  # Composition: Room 'has-many' Furniture\n",
    "        self.appliances = []  # Composition: Room 'has-many' Appliances\n",
    "\n",
    "    def add_furniture(self, furniture):\n",
    "        self.furniture.append(furniture)\n",
    "\n",
    "    def add_appliance(self, appliance):\n",
    "        self.appliances.append(appliance)\n",
    "\n",
    "\n",
    "class Furniture:\n",
    "    def __init__(self, name):\n",
    "        self.name = name\n",
    "\n",
    "\n",
    "class Appliance:\n",
    "    def __init__(self, name):\n",
    "        self.name = name\n",
    "\n",
    "\n",
    "class House:\n",
    "    def __init__(self):\n",
    "        self.rooms = []  # Composition: House 'has-many' Rooms\n",
    "\n",
    "    def add_room(self, room):\n",
    "        self.rooms.append(room)\n",
    "\n",
    "\n",
    "# Creating Room objects with Furniture and Appliances composition\n",
    "living_room = Room(\"Living Room\", 25)\n",
    "living_room.add_furniture(Furniture(\"Sofa\"))\n",
    "living_room.add_furniture(Furniture(\"Coffee Table\"))\n",
    "living_room.add_appliance(Appliance(\"TV\"))\n",
    "living_room.add_appliance(Appliance(\"Sound System\"))\n",
    "\n",
    "kitchen = Room(\"Kitchen\", 20)\n",
    "kitchen.add_furniture(Furniture(\"Dining Table\"))\n",
    "kitchen.add_appliance(Appliance(\"Refrigerator\"))\n",
    "kitchen.add_appliance(Appliance(\"Oven\"))\n",
    "\n",
    "# Creating a House object with composed Rooms\n",
    "my_house = House()\n",
    "my_house.add_room(living_room)\n",
    "my_house.add_room(kitchen)\n",
    "\n",
    "# Displaying house information\n",
    "for room in my_house.rooms:\n",
    "    print(f\"{room.name} - Area: {room.area} sqft\")\n",
    "    print(\"Furniture:\")\n",
    "    for furniture in room.furniture:\n",
    "        print(f\"- {furniture.name}\")\n",
    "    print(\"Appliances:\")\n",
    "    for appliance in room.appliances:\n",
    "        print(f\"- {appliance.name}\")\n",
    "    print()\n"
   ]
  },
  {
   "cell_type": "markdown",
   "id": "19ff6ec2",
   "metadata": {},
   "source": [
    "19. How can you achieve flexibility in composed objects by allowing them to be replaced or modified\n",
    "dynamically at runtime?"
   ]
  },
  {
   "cell_type": "markdown",
   "id": "e7089252",
   "metadata": {},
   "source": [
    "Achieving flexibility in composed objects, allowing them to be replaced or modified dynamically at runtime, involves implementing strategies that enable changes without tightly coupling the components. Here are several approaches to achieve such flexibility:\n",
    "\n",
    "1. Interfaces and Abstract Classes:\n",
    "Define interfaces or abstract classes for components to ensure they adhere to a specific structure or behavior.\n",
    "Implement different classes that conform to these interfaces, allowing easy swapping of components at runtime without affecting the core functionality."
   ]
  },
  {
   "cell_type": "code",
   "execution_count": 120,
   "id": "f06bd411",
   "metadata": {},
   "outputs": [],
   "source": [
    "from abc import ABC, abstractmethod\n",
    "\n",
    "class Component(ABC):\n",
    "    @abstractmethod\n",
    "    def operation(self):\n",
    "        pass\n",
    "\n",
    "class ConcreteComponentA(Component):\n",
    "    def operation(self):\n",
    "        return \"Concrete Component A\"\n",
    "\n",
    "class ConcreteComponentB(Component):\n",
    "    def operation(self):\n",
    "        return \"Concrete Component B\"\n"
   ]
  },
  {
   "cell_type": "raw",
   "id": "8b2bbbd6",
   "metadata": {},
   "source": [
    "2. Dependency Injection:\n",
    "Use dependency injection to dynamically provide the required components to an object during instantiation or runtime.\n",
    "This allows for easy substitution of components without altering the core logic of the object."
   ]
  },
  {
   "cell_type": "code",
   "execution_count": 121,
   "id": "5dfd90fc",
   "metadata": {},
   "outputs": [],
   "source": [
    "class Client:\n",
    "    def __init__(self, component):\n",
    "        self.component = component\n",
    "\n",
    "    def perform_operation(self):\n",
    "        return self.component.operation()\n",
    "\n",
    "# Usage\n",
    "obj_with_component_a = Client(ConcreteComponentA())\n",
    "result_a = obj_with_component_a.perform_operation()\n",
    "\n",
    "obj_with_component_b = Client(ConcreteComponentB())\n",
    "result_b = obj_with_component_b.perform_operation()\n"
   ]
  },
  {
   "cell_type": "raw",
   "id": "635b907e",
   "metadata": {},
   "source": [
    "3. Factory Pattern:\n",
    "Utilize a factory pattern to create instances of components dynamically based on certain criteria or configurations.\n",
    "This enables the creation of different components at runtime, providing flexibility in substituting or modifying objects."
   ]
  },
  {
   "cell_type": "code",
   "execution_count": 122,
   "id": "565d6507",
   "metadata": {},
   "outputs": [],
   "source": [
    "class ComponentFactory:\n",
    "    @staticmethod\n",
    "    def create_component(component_type):\n",
    "        if component_type == 'A':\n",
    "            return ConcreteComponentA()\n",
    "        elif component_type == 'B':\n",
    "            return ConcreteComponentB()\n",
    "\n",
    "# Usage\n",
    "component_a = ComponentFactory.create_component('A')\n",
    "result_a = component_a.operation()\n",
    "\n",
    "component_b = ComponentFactory.create_component('B')\n",
    "result_b = component_b.operation()\n"
   ]
  },
  {
   "cell_type": "markdown",
   "id": "8cd2770d",
   "metadata": {},
   "source": [
    "4. Decorator Pattern:\n",
    "Use the decorator pattern to dynamically add functionality to objects.\n",
    "Decorators can wrap objects with additional behavior or modify their functionality at runtime without altering their structure."
   ]
  },
  {
   "cell_type": "code",
   "execution_count": 123,
   "id": "7541c933",
   "metadata": {},
   "outputs": [],
   "source": [
    "class Decorator(Component):\n",
    "    def __init__(self, component):\n",
    "        self.component = component\n",
    "\n",
    "    def operation(self):\n",
    "        return f\"Decorator - {self.component.operation()}\"\n",
    "\n",
    "# Usage\n",
    "decorated_component_a = Decorator(ConcreteComponentA())\n",
    "result = decorated_component_a.operation()\n"
   ]
  },
  {
   "cell_type": "markdown",
   "id": "74444e5e",
   "metadata": {},
   "source": [
    "20. Create a Python class for a social media application, using composition to represent users, posts, and\n",
    "comments."
   ]
  },
  {
   "cell_type": "code",
   "execution_count": 125,
   "id": "ee603817",
   "metadata": {},
   "outputs": [
    {
     "name": "stdout",
     "output_type": "stream",
     "text": [
      "Posts by Alice:\n",
      " - Hello, this is my first post!\n",
      "Comments by Bob:\n",
      " - Nice post, Alice!\n",
      "Comments on the post 'Hello, this is my first post!':\n",
      " - Nice post, Alice!\n"
     ]
    }
   ],
   "source": [
    "class User:\n",
    "    def __init__(self, username, email):\n",
    "        self.username = username\n",
    "        self.email = email\n",
    "        self.posts = []\n",
    "        self.comments = []\n",
    "\n",
    "    def create_post(self, content):\n",
    "        post = Post(content, self)\n",
    "        self.posts.append(post)\n",
    "        return post\n",
    "\n",
    "    def create_comment(self, post, content):\n",
    "        comment = Comment(content, self)\n",
    "        post.add_comment(comment)\n",
    "        self.comments.append(comment)\n",
    "        return comment\n",
    "\n",
    "    def display_posts(self):\n",
    "        if self.posts:\n",
    "            print(f\"Posts by {self.username}:\")\n",
    "            for post in self.posts:\n",
    "                print(f\" - {post.content}\")\n",
    "        else:\n",
    "            print(f\"No posts found for {self.username}\")\n",
    "\n",
    "    def display_comments(self):\n",
    "        if self.comments:\n",
    "            print(f\"Comments by {self.username}:\")\n",
    "            for comment in self.comments:\n",
    "                print(f\" - {comment.content}\")\n",
    "        else:\n",
    "            print(f\"No comments found for {self.username}\")\n",
    "\n",
    "\n",
    "class Post:\n",
    "    def __init__(self, content, author):\n",
    "        self.content = content\n",
    "        self.author = author\n",
    "        self.comments = []\n",
    "\n",
    "    def add_comment(self, comment):\n",
    "        self.comments.append(comment)\n",
    "\n",
    "    def display_comments(self):\n",
    "        if self.comments:\n",
    "            print(f\"Comments on the post '{self.content}':\")\n",
    "            for comment in self.comments:\n",
    "                print(f\" - {comment.content}\")\n",
    "        else:\n",
    "            print(\"No comments found for this post\")\n",
    "\n",
    "\n",
    "class Comment:\n",
    "    def __init__(self, content, author):\n",
    "        self.content = content\n",
    "        self.author = author\n",
    "\n",
    "\n",
    "# Usage example:\n",
    "\n",
    "# Creating users\n",
    "user1 = User(\"Alice\", \"alice@email.com\")\n",
    "user2 = User(\"Bob\", \"bob@email.com\")\n",
    "\n",
    "# Alice creates a post\n",
    "post_by_alice = user1.create_post(\"Hello, this is my first post!\")\n",
    "\n",
    "# Bob comments on Alice's post\n",
    "comment_by_bob = user2.create_comment(post_by_alice, \"Nice post, Alice!\")\n",
    "\n",
    "# Displaying posts and comments\n",
    "user1.display_posts()\n",
    "user2.display_comments()\n",
    "\n",
    "post_by_alice.display_comments()\n"
   ]
  },
  {
   "cell_type": "code",
   "execution_count": null,
   "id": "d1dc44c3",
   "metadata": {},
   "outputs": [],
   "source": []
  }
 ],
 "metadata": {
  "kernelspec": {
   "display_name": "Python 3 (ipykernel)",
   "language": "python",
   "name": "python3"
  },
  "language_info": {
   "codemirror_mode": {
    "name": "ipython",
    "version": 3
   },
   "file_extension": ".py",
   "mimetype": "text/x-python",
   "name": "python",
   "nbconvert_exporter": "python",
   "pygments_lexer": "ipython3",
   "version": "3.10.9"
  }
 },
 "nbformat": 4,
 "nbformat_minor": 5
}
